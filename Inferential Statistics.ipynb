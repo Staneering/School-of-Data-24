{
 "cells": [
  {
   "cell_type": "code",
   "execution_count": 17,
   "id": "8211ebe7-b92e-457c-a00e-850a29199236",
   "metadata": {},
   "outputs": [],
   "source": [
    "import pandas as pd\n",
    "import numpy as np\n",
    "import matplotlib.pyplot as plt\n",
    "from scipy.stats import norm"
   ]
  },
  {
   "cell_type": "code",
   "execution_count": 23,
   "id": "6cee13ce-d194-4998-a271-f9cd8700947d",
   "metadata": {},
   "outputs": [],
   "source": [
    "data = r\"C:\\Users\\DELL\\Downloads\\archive\\Housing.csv\""
   ]
  },
  {
   "cell_type": "code",
   "execution_count": 24,
   "id": "2461e61a-2410-4e79-b78f-a8ea53476174",
   "metadata": {},
   "outputs": [],
   "source": [
    "housing_data = pd.read_csv(data)"
   ]
  },
  {
   "cell_type": "code",
   "execution_count": 25,
   "id": "e45bfaf1-b257-4b92-ada1-ff499baca6d2",
   "metadata": {
    "scrolled": true
   },
   "outputs": [
    {
     "data": {
      "text/html": [
       "<div>\n",
       "<style scoped>\n",
       "    .dataframe tbody tr th:only-of-type {\n",
       "        vertical-align: middle;\n",
       "    }\n",
       "\n",
       "    .dataframe tbody tr th {\n",
       "        vertical-align: top;\n",
       "    }\n",
       "\n",
       "    .dataframe thead th {\n",
       "        text-align: right;\n",
       "    }\n",
       "</style>\n",
       "<table border=\"1\" class=\"dataframe\">\n",
       "  <thead>\n",
       "    <tr style=\"text-align: right;\">\n",
       "      <th></th>\n",
       "      <th>price</th>\n",
       "      <th>area</th>\n",
       "      <th>bedrooms</th>\n",
       "      <th>bathrooms</th>\n",
       "      <th>stories</th>\n",
       "      <th>mainroad</th>\n",
       "      <th>guestroom</th>\n",
       "      <th>basement</th>\n",
       "      <th>hotwaterheating</th>\n",
       "      <th>airconditioning</th>\n",
       "      <th>parking</th>\n",
       "      <th>prefarea</th>\n",
       "      <th>furnishingstatus</th>\n",
       "    </tr>\n",
       "  </thead>\n",
       "  <tbody>\n",
       "    <tr>\n",
       "      <th>0</th>\n",
       "      <td>13300000</td>\n",
       "      <td>7420</td>\n",
       "      <td>4</td>\n",
       "      <td>2</td>\n",
       "      <td>3</td>\n",
       "      <td>yes</td>\n",
       "      <td>no</td>\n",
       "      <td>no</td>\n",
       "      <td>no</td>\n",
       "      <td>yes</td>\n",
       "      <td>2</td>\n",
       "      <td>yes</td>\n",
       "      <td>furnished</td>\n",
       "    </tr>\n",
       "    <tr>\n",
       "      <th>1</th>\n",
       "      <td>12250000</td>\n",
       "      <td>8960</td>\n",
       "      <td>4</td>\n",
       "      <td>4</td>\n",
       "      <td>4</td>\n",
       "      <td>yes</td>\n",
       "      <td>no</td>\n",
       "      <td>no</td>\n",
       "      <td>no</td>\n",
       "      <td>yes</td>\n",
       "      <td>3</td>\n",
       "      <td>no</td>\n",
       "      <td>furnished</td>\n",
       "    </tr>\n",
       "    <tr>\n",
       "      <th>2</th>\n",
       "      <td>12250000</td>\n",
       "      <td>9960</td>\n",
       "      <td>3</td>\n",
       "      <td>2</td>\n",
       "      <td>2</td>\n",
       "      <td>yes</td>\n",
       "      <td>no</td>\n",
       "      <td>yes</td>\n",
       "      <td>no</td>\n",
       "      <td>no</td>\n",
       "      <td>2</td>\n",
       "      <td>yes</td>\n",
       "      <td>semi-furnished</td>\n",
       "    </tr>\n",
       "    <tr>\n",
       "      <th>3</th>\n",
       "      <td>12215000</td>\n",
       "      <td>7500</td>\n",
       "      <td>4</td>\n",
       "      <td>2</td>\n",
       "      <td>2</td>\n",
       "      <td>yes</td>\n",
       "      <td>no</td>\n",
       "      <td>yes</td>\n",
       "      <td>no</td>\n",
       "      <td>yes</td>\n",
       "      <td>3</td>\n",
       "      <td>yes</td>\n",
       "      <td>furnished</td>\n",
       "    </tr>\n",
       "    <tr>\n",
       "      <th>4</th>\n",
       "      <td>11410000</td>\n",
       "      <td>7420</td>\n",
       "      <td>4</td>\n",
       "      <td>1</td>\n",
       "      <td>2</td>\n",
       "      <td>yes</td>\n",
       "      <td>yes</td>\n",
       "      <td>yes</td>\n",
       "      <td>no</td>\n",
       "      <td>yes</td>\n",
       "      <td>2</td>\n",
       "      <td>no</td>\n",
       "      <td>furnished</td>\n",
       "    </tr>\n",
       "  </tbody>\n",
       "</table>\n",
       "</div>"
      ],
      "text/plain": [
       "      price  area  bedrooms  bathrooms  stories mainroad guestroom basement  \\\n",
       "0  13300000  7420         4          2        3      yes        no       no   \n",
       "1  12250000  8960         4          4        4      yes        no       no   \n",
       "2  12250000  9960         3          2        2      yes        no      yes   \n",
       "3  12215000  7500         4          2        2      yes        no      yes   \n",
       "4  11410000  7420         4          1        2      yes       yes      yes   \n",
       "\n",
       "  hotwaterheating airconditioning  parking prefarea furnishingstatus  \n",
       "0              no             yes        2      yes        furnished  \n",
       "1              no             yes        3       no        furnished  \n",
       "2              no              no        2      yes   semi-furnished  \n",
       "3              no             yes        3      yes        furnished  \n",
       "4              no             yes        2       no        furnished  "
      ]
     },
     "execution_count": 25,
     "metadata": {},
     "output_type": "execute_result"
    }
   ],
   "source": [
    "housing_data.head()"
   ]
  },
  {
   "cell_type": "code",
   "execution_count": 26,
   "id": "e3cd9415-2338-458e-af02-74f696966554",
   "metadata": {
    "scrolled": true
   },
   "outputs": [
    {
     "data": {
      "text/plain": [
       "(545, 13)"
      ]
     },
     "execution_count": 26,
     "metadata": {},
     "output_type": "execute_result"
    }
   ],
   "source": [
    "housing_data.shape"
   ]
  },
  {
   "cell_type": "code",
   "execution_count": 27,
   "id": "85bf542f-6462-48fc-9377-03cffe852240",
   "metadata": {},
   "outputs": [],
   "source": [
    "price = housing_data['price']"
   ]
  },
  {
   "cell_type": "markdown",
   "id": "3566e25f-a605-4d3b-beac-ec582945438a",
   "metadata": {},
   "source": [
    "### Population"
   ]
  },
  {
   "cell_type": "code",
   "execution_count": 75,
   "id": "18c98cc3-b8c7-409e-a64e-2c7aee876c7f",
   "metadata": {},
   "outputs": [
    {
     "name": "stdout",
     "output_type": "stream",
     "text": [
      "Pop Mean: 4766729.247706422, Pop Std: 1868722.8281312098\n"
     ]
    }
   ],
   "source": [
    "population_mean = np.mean(price)\n",
    "population_std = np.std(price)\n",
    "\n",
    "print(f'Pop Mean: {population_mean}, Pop Std: {population_std}')"
   ]
  },
  {
   "cell_type": "markdown",
   "id": "22b548b5-791b-4818-be5c-89ef9e5f2ea0",
   "metadata": {},
   "source": [
    "### Samples and Sampling"
   ]
  },
  {
   "cell_type": "code",
   "execution_count": 36,
   "id": "cb57add0-ec34-4a06-97bd-55db2b0b14d4",
   "metadata": {},
   "outputs": [
    {
     "data": {
      "text/plain": [
       "109.0"
      ]
     },
     "execution_count": 36,
     "metadata": {},
     "output_type": "execute_result"
    }
   ],
   "source": [
    "len(housing_data) * 0.2"
   ]
  },
  {
   "cell_type": "code",
   "execution_count": 68,
   "id": "8c4ebf34-f8f1-476e-b1a6-f7f45ce74bba",
   "metadata": {},
   "outputs": [],
   "source": [
    "# sampling with replacement\n",
    "sample_size = 109\n",
    "sample = np.random.choice(price, size=sample_size, replace=True)"
   ]
  },
  {
   "cell_type": "markdown",
   "id": "6851d697-2edd-48c5-901c-0540a6df4fb1",
   "metadata": {},
   "source": [
    "### Sample Mean"
   ]
  },
  {
   "cell_type": "code",
   "execution_count": 69,
   "id": "6c01218e-4bf0-410a-a641-8eb7d4f9d2e4",
   "metadata": {},
   "outputs": [
    {
     "name": "stdout",
     "output_type": "stream",
     "text": [
      "4802926.055045872\n"
     ]
    }
   ],
   "source": [
    "sample_mean = np.mean(sample)\n",
    "print(sample_mean)"
   ]
  },
  {
   "cell_type": "code",
   "execution_count": 42,
   "id": "9f14656e-90de-48f4-98b0-1b9901485c85",
   "metadata": {},
   "outputs": [
    {
     "data": {
      "image/png": "[encoded data removed]",
      "text/plain": [
       "<Figure size 640x480 with 1 Axes>"
      ]
     },
     "metadata": {},
     "output_type": "display_data"
    }
   ],
   "source": [
    "#Plot the distribution of prices\n",
    "\n",
    "plt.hist(price, bins=20, density=True, alpha=0.6, color='b', edgecolor='black')\n",
    "plt.xlabel('Price')\n",
    "plt.ylabel('Density')\n",
    "plt.title('Distribution of Prices')\n",
    "plt.show()"
   ]
  },
  {
   "cell_type": "code",
   "execution_count": 70,
   "id": "873b9598-2cfa-4a19-808b-1c346d280b18",
   "metadata": {},
   "outputs": [],
   "source": [
    "# CLT: generate multiple samples and compute sample means\n",
    "num_samples = 1000\n",
    "sample_means = []\n",
    "\n",
    "for _ in range(num_samples):\n",
    "    sample = np.random.choice(price, size=sample_size, replace=True)\n",
    "    sample_mean = np.mean(sample)\n",
    "    sample_means.append(sample_mean)"
   ]
  },
  {
   "cell_type": "code",
   "execution_count": 71,
   "id": "107c3a21-c166-4138-90e4-77ee5782efd6",
   "metadata": {},
   "outputs": [
    {
     "data": {
      "image/png": "[encoded data removed]",
      "text/plain": [
       "<Figure size 640x480 with 1 Axes>"
      ]
     },
     "metadata": {},
     "output_type": "display_data"
    }
   ],
   "source": [
    "plt.hist(sample_means, bins=20, density=True, alpha=0.6, color='b', edgecolor='black')\n",
    "plt.xlabel('Sample Mean')\n",
    "plt.ylabel('Density')\n",
    "plt.title('Distribution of Sample Means')\n",
    "plt.show()"
   ]
  },
  {
   "cell_type": "code",
   "execution_count": 72,
   "id": "2e38c04c-f074-4672-9f2c-1b8c75dc5065",
   "metadata": {},
   "outputs": [],
   "source": [
    "mean_samples = np.mean(sample_means)"
   ]
  },
  {
   "cell_type": "code",
   "execution_count": 76,
   "id": "8d688325-71f7-431e-8908-17412af24b32",
   "metadata": {},
   "outputs": [
    {
     "name": "stdout",
     "output_type": "stream",
     "text": [
      "Pop Mean: 4766729.247706422\n"
     ]
    }
   ],
   "source": [
    "print(f'Pop Mean: {population_mean}')"
   ]
  },
  {
   "cell_type": "code",
   "execution_count": 74,
   "id": "83a9a97c-19fc-49b3-930b-0d5f6be5e151",
   "metadata": {},
   "outputs": [
    {
     "name": "stdout",
     "output_type": "stream",
     "text": [
      "Mean of Samples: 4765819.286880734\n"
     ]
    }
   ],
   "source": [
    "print(f'Mean of Samples: {mean_samples}')"
   ]
  },
  {
   "cell_type": "markdown",
   "id": "4ede1f3a-d1a6-4ef0-9bf3-ce5ac720fd19",
   "metadata": {},
   "source": [
    "### Central Limit Theorem\n",
    "\n",
    "It's time now to introduce the concept of a sampling distribution, but first let's remind ourselves of a tool that will prove valuable in this quest: the Central Limit Theorem.\r\n",
    "\r\n",
    "The Central Limit Theorem states that if a random variable $X$ is the sum of a large number of independent, identically distributed random outcomes, it will approximately follow a normal distribution, *even if the underlying random variables are not normally distributed*. Proof of this is beyond the scope of the course, but you should realise that this is an asymptotic result: it gets closer and closer to being true as the number of observations increases. As a general rule of thumb, 30 observations are required to rely on the Central Limit Theorem.\r\n",
    "\r\n",
    "In his work, [*Intro to Statistics - Probability and Distributions*](https://www.fd.cvut.cz/department/k611/PEDAGOG/THO_A/A_soubory/statistics_firstfive.pdf), Keon Hon introduces the following the Central Limit theorem in the following manner:  \r\n",
    "\r\n",
    "\"Start with a population with a given mean $\\mu$  and standard deviation $\\sigma$. Take samples of size $n$, where $n$ is a sufficiently large (generally at least 30) number, and compute the mean of each sa\n",
    "With the following results:\r\n",
    "\r\n",
    "* The set of all sample means will be approximately normally distributed.\r\n",
    "\r\n",
    "* The mean of the set of samples will equal $\\mu$, the mean of the population.a}{\\sqrt{n}}$\""
   ]
  },
  {
   "cell_type": "markdown",
   "id": "f0fb56fe-50ac-4aa8-86e8-c9364f9e3ae0",
   "metadata": {},
   "source": [
    "\n",
    "### Confidence Intervals\r\n",
    "\r\n",
    "Using the central limit theorem, we can find the probability that a sample lies within an interval, but this is essentially the same as the probability of the population mean being estimated into a sample interval. \r\n",
    "\r\n",
    "As Keone puts it: \"We can determine how confident we are that the population mean lies within a certain interval of a sample mean.\"\r\n",
    "\r\n",
    "If a random variable is normally distributed, we can make statements about how certain we are that it will fall within certain multiples of the standard deviation about the mean. One well-known feature, with which you will become familiar, is that 95% of observations lie within 1.96 standard deviations of the mean. \r\n",
    "\r\n",
    "Before we get into the code, let's define some terms first:\r\n",
    "\r\n",
    " * **CDF**:\r\n",
    "     - Stands for \"Cumulative Distribution Function\"\r\n",
    "     - The CDF will tell us the probability of a value being below $x$.\r\n",
    "<br>\r\n",
    "\r\n",
    " * **PPF** :\r\n",
    "     - Stands for \"Percent Point Function\".\r\n",
    "     - This is the inverse of a CDF \r\n",
    "     - Another name for a _quantile function_.\r\n",
    "\r\n",
    "\r\n",
    "If you want to understand PPF's and CDF's in more detail, go to [this link](https://www.countbayesie.com/blog/2015/4/4/parameter-estimation-the-pdf-cdf-and-quantile-function) which describes those concepts and other distributions.\r\n",
    "\r\n",
    "Let's now look at things in a practical manner. We start by importing our de facto Python statistical library, Scipy:"
   ]
  },
  {
   "cell_type": "markdown",
   "id": "26b4f7ef-e6f9-41ab-a32b-84cfcb19c782",
   "metadata": {},
   "source": [
    "# Exercise 1 \n",
    "Foodland shoppers have a mean R60 grocery bill with a standard deviation of R40. What is the probability that a sample of 100 Foodland shoppers will have a mean grocery bill of over R70?"
   ]
  },
  {
   "cell_type": "code",
   "execution_count": 65,
   "id": "d47f0103-a70b-4da8-bc95-dbf38492af59",
   "metadata": {},
   "outputs": [],
   "source": [
    "import scipy.stats as stats\n",
    "# data\n",
    "population_mean = 60\n",
    "population_std = 40\n",
    "sample_size = 100\n",
    "desired_sample_mean = 70\n",
    "\n",
    "#standard error (population_std/square root of sample size)\n",
    "standard_error = population_std/(sample_size ** 0.5)\n",
    "\n",
    "# z_score/ standard score\n",
    "z_score = (desired_sample_mean - population_mean)/standard_error\n",
    "\n",
    "# probabilty\n",
    "probability = 1 - stats.norm.cdf(z_score)"
   ]
  },
  {
   "cell_type": "code",
   "execution_count": 67,
   "id": "9e674181-e655-45b2-9cf0-7711c95dc876",
   "metadata": {},
   "outputs": [
    {
     "data": {
      "text/plain": [
       "2.5"
      ]
     },
     "execution_count": 67,
     "metadata": {},
     "output_type": "execute_result"
    }
   ],
   "source": [
    "z_score"
   ]
  },
  {
   "cell_type": "code",
   "execution_count": null,
   "id": "1c0a1fb2-d5b3-4c35-9511-19869ad1dfa6",
   "metadata": {},
   "outputs": [],
   "source": []
  }
 ],
 "metadata": {
  "kernelspec": {
   "display_name": "Python 3 (ipykernel)",
   "language": "python",
   "name": "python3"
  },
  "language_info": {
   "codemirror_mode": {
    "name": "ipython",
    "version": 3
   },
   "file_extension": ".py",
   "mimetype": "text/x-python",
   "name": "python",
   "nbconvert_exporter": "python",
   "pygments_lexer": "ipython3",
   "version": "3.11.7"
  }
 },
 "nbformat": 4,
 "nbformat_minor": 5
}
