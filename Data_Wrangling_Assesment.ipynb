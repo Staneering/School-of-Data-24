{
  "cells": [
    {
      "cell_type": "markdown",
      "id": "9800c7a4",
      "metadata": {
        "id": "9800c7a4"
      },
      "source": [
        "#### Using the Chicago Crime Dataset(any of the 3 sheets you choose), perfrom the following data preparation steps:\n",
        "1. Use a funtion to Drop redundant columns (a redundant colum is one that gives infromation that another column already explains: eg ID and Case number)\n",
        "2. Use functions to create new columns for Months, Day, Season.\n",
        "3. Use subsetting and grouping to show how the frequency of crime is distributed within Months, Days, Seasons with the most crime record and what crimes are highest and lowest?\n",
        "4.  According to location description, where does crime hapen the most?\n",
        "5.  Did the Types of crime change as years go by? if yes/no. let the data show the insight."
      ]
    },
    {
      "cell_type": "code",
      "execution_count": null,
      "id": "7feb8e93",
      "metadata": {
        "id": "7feb8e93"
      },
      "outputs": [],
      "source": [
        "- Submission Deadline: 14/10/2024\n",
        "- Submission link (https://forms.gle/aH8XVBfv94aF2Gb98)"
      ]
    }
  ],
  "metadata": {
    "kernelspec": {
      "display_name": "Python 3 (ipykernel)",
      "language": "python",
      "name": "python3"
    },
    "language_info": {
      "codemirror_mode": {
        "name": "ipython",
        "version": 3
      },
      "file_extension": ".py",
      "mimetype": "text/x-python",
      "name": "python",
      "nbconvert_exporter": "python",
      "pygments_lexer": "ipython3",
      "version": "3.11.4"
    },
    "colab": {
      "provenance": []
    }
  },
  "nbformat": 4,
  "nbformat_minor": 5
}