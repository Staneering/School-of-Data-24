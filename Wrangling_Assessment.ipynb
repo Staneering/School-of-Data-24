{
  "nbformat": 4,
  "nbformat_minor": 0,
  "metadata": {
    "colab": {
      "provenance": []
    },
    "kernelspec": {
      "name": "python3",
      "display_name": "Python 3"
    },
    "language_info": {
      "name": "python"
    }
  },
  "cells": [
    {
      "cell_type": "code",
      "execution_count": null,
      "metadata": {
        "id": "U35VsquZJ8Za"
      },
      "outputs": [],
      "source": []
    },
    {
      "cell_type": "markdown",
      "source": [
        "Data Wrangling and Univariate and Multivariate Analyis Assessment."
      ],
      "metadata": {
        "id": "QTmWKfiqKTmW"
      }
    },
    {
      "cell_type": "markdown",
      "source": [],
      "metadata": {
        "id": "fxaQDwKpKW63"
      }
    },
    {
      "cell_type": "markdown",
      "source": [
        "\n",
        "\n",
        "\n",
        "Here are some more questions to attempt by exploring different attributes and group-by criteria:\n",
        "\n",
        "**Based on Position:**\n",
        "\n",
        "* What is the average age of players in each preferred position?\n",
        "* What is the average overall rating of players in each preferred position?\n",
        "* What is the average potential rating of players in each preferred position?\n",
        "* What is the average wage of players in each preferred position?\n",
        "* What is the average value of players in each preferred position?\n",
        "\n",
        "**Based on Nationality:**\n",
        "\n",
        "* What is the average age of players from each nationality?\n",
        "* What is the average overall rating of players from each nationality?\n",
        "* What is the average potential rating of players from each nationality?\n",
        "* What is the average wage of players from each nationality?\n",
        "* What is the average value of players from each nationality?\n",
        "\n",
        "**Based on League:**\n",
        "\n",
        "* What is the average age of players in each league?\n",
        "* What is the average overall rating of players in each league?\n",
        "* What is the average potential rating of players in each league?\n",
        "* What is the average wage of players in each league?\n",
        "* What is the average value of players in each league?\n",
        "\n",
        "**Based on Foot:**\n",
        "\n",
        "* What is the average overall rating of players with their right foot as their preferred foot?\n",
        "* What is the average overall rating of players with their left foot as their preferred foot?\n",
        "\n",
        "**Based on Work Rate:**\n",
        "\n",
        "* What is the average overall rating of players with high/high work rate?\n",
        "* What is the average overall rating of players with high/low work rate?\n",
        "* What is the average overall rating of players with low/high work rate?\n",
        "* What is the average overall rating of players with low/low work rate?\n",
        "\n",
        "You can further explore these questions by combining different grouping criteria or by analyzing specific attributes in more detail. For instance, you could analyze the distribution of player ages within each preferred position or the relationship between a player's potential and their current club.\n"
      ],
      "metadata": {
        "id": "iYPya8M1J9od"
      }
    }
  ]
}