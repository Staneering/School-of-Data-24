{
 "cells": [
  {
   "cell_type": "code",
   "execution_count": 1,
   "metadata": {
    "_cell_guid": "b1076dfc-b9ad-4769-8c92-a6c4dae69d19",
    "_uuid": "8f2839f25d086af736a60e9eeb907d3b93b6e0e5",
    "execution": {
     "iopub.execute_input": "2021-03-12T11:42:35.866645Z",
     "iopub.status.busy": "2021-03-12T11:42:35.865787Z",
     "iopub.status.idle": "2021-03-12T11:42:35.869272Z",
     "shell.execute_reply": "2021-03-12T11:42:35.869770Z"
    },
    "papermill": {
     "duration": 0.08619,
     "end_time": "2021-03-12T11:42:35.870094",
     "exception": false,
     "start_time": "2021-03-12T11:42:35.783904",
     "status": "completed"
    },
    "tags": []
   },
   "outputs": [],
   "source": [
    "#This notebook will cover all important concepts from basic to advance and core libraries used in Python.\n",
    "#Before starting,have a Look at all concepts which we will explain in this notebook. \n",
    "#1-Intro to python and Python IDEs(variables,data types,operators,identifiers,strings and many more )\n",
    "#2-Data structures(Tuple,List,Dictionary,Set)\n",
    "#3-Control flow statements(If-else and its working with different data structures)\n",
    "#4-Loops(For Loop,while Loop,nested for Loop )\n",
    "#5-Functions(Intro,Lambda,Reduce,Map,Filter)\n",
    "#6-Object Oriented Programming(Classes,Objects,Inheritance,method over-riding in inheritance)\n",
    "#7-Intro to core Libraries(NumPy,Pandas,Matplotlib,Seaborn)\n",
    "#8-NumPy Library(Introduction,single and multi dimentional Arrays,Operations,Functions)\n",
    "#9-Pandas Library(Introduction,series object,data frame,built-in functions,Working with datasets)\n",
    "#10-Data visualization with Matplotlib(Introduction,Line chart,scatter-plot,Histogram,Box plot,violin Box,pie chart and many more)\n",
    "#11-Data visualization with SeaBorn(Introduction,charting using fmri dataset,Analysing data using scatterplot,Distplot,Jointplot,Box plot)\n",
    "#So,lets get started."
   ]
  },
  {
   "cell_type": "code",
   "execution_count": 2,
   "metadata": {
    "execution": {
     "iopub.execute_input": "2021-03-12T11:42:36.026638Z",
     "iopub.status.busy": "2021-03-12T11:42:36.025569Z",
     "iopub.status.idle": "2021-03-12T11:42:36.029575Z",
     "shell.execute_reply": "2021-03-12T11:42:36.030129Z"
    },
    "papermill": {
     "duration": 0.085877,
     "end_time": "2021-03-12T11:42:36.030309",
     "exception": false,
     "start_time": "2021-03-12T11:42:35.944432",
     "status": "completed"
    },
    "tags": []
   },
   "outputs": [
    {
     "data": {
      "text/plain": [
       "'Ammar'"
      ]
     },
     "execution_count": 2,
     "metadata": {},
     "output_type": "execute_result"
    }
   ],
   "source": [
    "#1-Intro to python and its IDEs\n",
    "#variable(varibles are used to store data)\n",
    "stu = \"Ammar\"\n",
    "stu"
   ]
  },
  {
   "cell_type": "code",
   "execution_count": 3,
   "metadata": {
    "execution": {
     "iopub.execute_input": "2021-03-12T11:42:36.189860Z",
     "iopub.status.busy": "2021-03-12T11:42:36.189062Z",
     "iopub.status.idle": "2021-03-12T11:42:36.193719Z",
     "shell.execute_reply": "2021-03-12T11:42:36.193142Z"
    },
    "papermill": {
     "duration": 0.087121,
     "end_time": "2021-03-12T11:42:36.193874",
     "exception": false,
     "start_time": "2021-03-12T11:42:36.106753",
     "status": "completed"
    },
    "tags": []
   },
   "outputs": [
    {
     "data": {
      "text/plain": [
       "float"
      ]
     },
     "execution_count": 3,
     "metadata": {},
     "output_type": "execute_result"
    }
   ],
   "source": [
    "#data types\n",
    "#there are four types of data types\n",
    "#1.int (2,4 etc)\n",
    "#2.float (3.12 , 2.44 etc)\n",
    "#3.boolean(true , false)\n",
    "#4.strings(\"ammar\" , \"ahmad\" etc)\n",
    "#int and float\n",
    "ali = 100\n",
    "ali\n",
    "type(ali)\n",
    "ali = 3.14\n",
    "ali\n",
    "type(ali)\n"
   ]
  },
  {
   "cell_type": "code",
   "execution_count": 4,
   "metadata": {
    "execution": {
     "iopub.execute_input": "2021-03-12T11:42:36.351383Z",
     "iopub.status.busy": "2021-03-12T11:42:36.350397Z",
     "iopub.status.idle": "2021-03-12T11:42:36.354636Z",
     "shell.execute_reply": "2021-03-12T11:42:36.354001Z"
    },
    "papermill": {
     "duration": 0.085885,
     "end_time": "2021-03-12T11:42:36.354821",
     "exception": false,
     "start_time": "2021-03-12T11:42:36.268936",
     "status": "completed"
    },
    "tags": []
   },
   "outputs": [
    {
     "data": {
      "text/plain": [
       "str"
      ]
     },
     "execution_count": 4,
     "metadata": {},
     "output_type": "execute_result"
    }
   ],
   "source": [
    "#string\n",
    "al = \"ammara\"\n",
    "type(al)\n"
   ]
  },
  {
   "cell_type": "code",
   "execution_count": 5,
   "metadata": {
    "execution": {
     "iopub.execute_input": "2021-03-12T11:42:36.511483Z",
     "iopub.status.busy": "2021-03-12T11:42:36.510685Z",
     "iopub.status.idle": "2021-03-12T11:42:36.513805Z",
     "shell.execute_reply": "2021-03-12T11:42:36.514399Z"
    },
    "papermill": {
     "duration": 0.083318,
     "end_time": "2021-03-12T11:42:36.514571",
     "exception": false,
     "start_time": "2021-03-12T11:42:36.431253",
     "status": "completed"
    },
    "tags": []
   },
   "outputs": [
    {
     "data": {
      "text/plain": [
       "complex"
      ]
     },
     "execution_count": 5,
     "metadata": {},
     "output_type": "execute_result"
    }
   ],
   "source": [
    "#complex\n",
    "a1=3+4j\n",
    "a1\n",
    "type(a1)\n"
   ]
  },
  {
   "cell_type": "code",
   "execution_count": 6,
   "metadata": {
    "execution": {
     "iopub.execute_input": "2021-03-12T11:42:36.670806Z",
     "iopub.status.busy": "2021-03-12T11:42:36.670100Z",
     "iopub.status.idle": "2021-03-12T11:42:36.675754Z",
     "shell.execute_reply": "2021-03-12T11:42:36.676273Z"
    },
    "papermill": {
     "duration": 0.086405,
     "end_time": "2021-03-12T11:42:36.676446",
     "exception": false,
     "start_time": "2021-03-12T11:42:36.590041",
     "status": "completed"
    },
    "tags": []
   },
   "outputs": [
    {
     "data": {
      "text/plain": [
       "(20, 0, 100, 1.0)"
      ]
     },
     "execution_count": 6,
     "metadata": {},
     "output_type": "execute_result"
    }
   ],
   "source": [
    "#operators in python\n",
    "#1.relational operators\n",
    "#2.arithmetic operators\n",
    "#3.logical operators\n",
    "#arithmetic operators (+,-,*,/)\n",
    "a=10 \n",
    "b=10\n",
    "a+b,a-b,a*b,a/b"
   ]
  },
  {
   "cell_type": "code",
   "execution_count": 7,
   "metadata": {
    "execution": {
     "iopub.execute_input": "2021-03-12T11:42:36.833677Z",
     "iopub.status.busy": "2021-03-12T11:42:36.832977Z",
     "iopub.status.idle": "2021-03-12T11:42:36.839600Z",
     "shell.execute_reply": "2021-03-12T11:42:36.840131Z"
    },
    "papermill": {
     "duration": 0.087638,
     "end_time": "2021-03-12T11:42:36.840309",
     "exception": false,
     "start_time": "2021-03-12T11:42:36.752671",
     "status": "completed"
    },
    "tags": []
   },
   "outputs": [
    {
     "data": {
      "text/plain": [
       "(True, False, False, True)"
      ]
     },
     "execution_count": 7,
     "metadata": {},
     "output_type": "execute_result"
    }
   ],
   "source": [
    "#relational operators (<,>,==,!=)\n",
    "a=10\n",
    "b=12\n",
    "(a<b,a>b,a==b,a!=b)\n"
   ]
  },
  {
   "cell_type": "code",
   "execution_count": 8,
   "metadata": {
    "execution": {
     "iopub.execute_input": "2021-03-12T11:42:36.999669Z",
     "iopub.status.busy": "2021-03-12T11:42:36.998605Z",
     "iopub.status.idle": "2021-03-12T11:42:37.003648Z",
     "shell.execute_reply": "2021-03-12T11:42:37.002957Z"
    },
    "papermill": {
     "duration": 0.087448,
     "end_time": "2021-03-12T11:42:37.003830",
     "exception": false,
     "start_time": "2021-03-12T11:42:36.916382",
     "status": "completed"
    },
    "tags": []
   },
   "outputs": [
    {
     "data": {
      "text/plain": [
       "(False, True)"
      ]
     },
     "execution_count": 8,
     "metadata": {},
     "output_type": "execute_result"
    }
   ],
   "source": [
    "#logical operators (& , |)=> (and , or )\n",
    "a=True\n",
    "b=False\n",
    "a&b,a|b\n"
   ]
  },
  {
   "cell_type": "code",
   "execution_count": 9,
   "metadata": {
    "execution": {
     "iopub.execute_input": "2021-03-12T11:42:37.162840Z",
     "iopub.status.busy": "2021-03-12T11:42:37.162117Z",
     "iopub.status.idle": "2021-03-12T11:42:37.166368Z",
     "shell.execute_reply": "2021-03-12T11:42:37.165720Z"
    },
    "papermill": {
     "duration": 0.0853,
     "end_time": "2021-03-12T11:42:37.166511",
     "exception": false,
     "start_time": "2021-03-12T11:42:37.081211",
     "status": "completed"
    },
    "tags": []
   },
   "outputs": [
    {
     "ename": "SyntaxError",
     "evalue": "can't assign to keyword (<ipython-input-9-9633be961aee>, line 3)",
     "output_type": "error",
     "traceback": [
      "\u001b[0;36m  File \u001b[0;32m\"<ipython-input-9-9633be961aee>\"\u001b[0;36m, line \u001b[0;32m3\u001b[0m\n\u001b[0;31m    True = 2\u001b[0m\n\u001b[0m            ^\u001b[0m\n\u001b[0;31mSyntaxError\u001b[0m\u001b[0;31m:\u001b[0m can't assign to keyword\n"
     ]
    }
   ],
   "source": [
    "#python keywords(keywords are specialized reserved words which are used for specialized purposes e.g. del,class,True,False,as,Not)\n",
    "#here you can see that keywords could not be used as variable name\n",
    "True = 2\n",
    "True\n"
   ]
  },
  {
   "cell_type": "code",
   "execution_count": 10,
   "metadata": {
    "execution": {
     "iopub.execute_input": "2021-03-12T11:42:37.328675Z",
     "iopub.status.busy": "2021-03-12T11:42:37.327827Z",
     "iopub.status.idle": "2021-03-12T11:42:37.331792Z",
     "shell.execute_reply": "2021-03-12T11:42:37.332315Z"
    },
    "papermill": {
     "duration": 0.088512,
     "end_time": "2021-03-12T11:42:37.332493",
     "exception": false,
     "start_time": "2021-03-12T11:42:37.243981",
     "status": "completed"
    },
    "tags": []
   },
   "outputs": [
    {
     "data": {
      "text/plain": [
       "('Ammara', 'Ahmad')"
      ]
     },
     "execution_count": 10,
     "metadata": {},
     "output_type": "execute_result"
    }
   ],
   "source": [
    "#python identifiers (identifiers are names used for variables,functions and objects)\n",
    "#Here are some rules for declaring identifiers\n",
    "#1.case sensitives , 2.First letter cannot be a digit , 3.No special character expect _(underscore)\n",
    "#1.case sensitive identifier example\n",
    "Student = 'Ahmad'\n",
    "student = 'Ammara'\n",
    "student , Student"
   ]
  },
  {
   "cell_type": "code",
   "execution_count": 11,
   "metadata": {
    "execution": {
     "iopub.execute_input": "2021-03-12T11:42:37.495071Z",
     "iopub.status.busy": "2021-03-12T11:42:37.494383Z",
     "iopub.status.idle": "2021-03-12T11:42:37.499230Z",
     "shell.execute_reply": "2021-03-12T11:42:37.498690Z"
    },
    "papermill": {
     "duration": 0.08728,
     "end_time": "2021-03-12T11:42:37.499374",
     "exception": false,
     "start_time": "2021-03-12T11:42:37.412094",
     "status": "completed"
    },
    "tags": []
   },
   "outputs": [
    {
     "data": {
      "text/plain": [
       "3.15"
      ]
     },
     "execution_count": 11,
     "metadata": {},
     "output_type": "execute_result"
    }
   ],
   "source": [
    "#Python constants or literals (values assigned to variables are called constants,these values could not be changed)\n",
    "a= 3.15\n",
    "a\n",
    "#above 3.15 is called constant or literal"
   ]
  },
  {
   "cell_type": "code",
   "execution_count": 12,
   "metadata": {
    "execution": {
     "iopub.execute_input": "2021-03-12T11:42:37.663566Z",
     "iopub.status.busy": "2021-03-12T11:42:37.662655Z",
     "iopub.status.idle": "2021-03-12T11:42:37.667271Z",
     "shell.execute_reply": "2021-03-12T11:42:37.666638Z"
    },
    "papermill": {
     "duration": 0.089778,
     "end_time": "2021-03-12T11:42:37.667411",
     "exception": false,
     "start_time": "2021-03-12T11:42:37.577633",
     "status": "completed"
    },
    "tags": []
   },
   "outputs": [
    {
     "data": {
      "text/plain": [
       "('this is single quoted string',\n",
       " 'this is double quoted string ',\n",
       " '   \\n    this is a\\n    triple quoted\\n    string\\n   ')"
      ]
     },
     "execution_count": 12,
     "metadata": {},
     "output_type": "execute_result"
    }
   ],
   "source": [
    "#Python strings(strings are sequence of characters enclosed within single quotes(''),double quotes(\"\") or triple quotes(\"' '\")  )\n",
    "#triple quote is used for printing multi lines and same to same worlding.\n",
    "ali = 'this is single quoted string'\n",
    "al = \"this is double quoted string \"\n",
    "a ='''   \n",
    "    this is a\n",
    "    triple quoted\n",
    "    string\n",
    "   '''\n",
    "(ali , al,a)\n",
    "\n"
   ]
  },
  {
   "cell_type": "code",
   "execution_count": 13,
   "metadata": {
    "execution": {
     "iopub.execute_input": "2021-03-12T11:42:37.833285Z",
     "iopub.status.busy": "2021-03-12T11:42:37.832338Z",
     "iopub.status.idle": "2021-03-12T11:42:37.837274Z",
     "shell.execute_reply": "2021-03-12T11:42:37.836612Z"
    },
    "papermill": {
     "duration": 0.091016,
     "end_time": "2021-03-12T11:42:37.837417",
     "exception": false,
     "start_time": "2021-03-12T11:42:37.746401",
     "status": "completed"
    },
    "tags": []
   },
   "outputs": [
    {
     "data": {
      "text/plain": [
       "('m', 'd', 'name is')"
      ]
     },
     "execution_count": 13,
     "metadata": {},
     "output_type": "execute_result"
    }
   ],
   "source": [
    "#Extracting any specific character from string\n",
    "ali = \"my name is Ammara Ahmad\"\n",
    "ali[0],ali[-1],ali[3:10]\n"
   ]
  },
  {
   "cell_type": "code",
   "execution_count": 14,
   "metadata": {
    "execution": {
     "iopub.execute_input": "2021-03-12T11:42:38.004966Z",
     "iopub.status.busy": "2021-03-12T11:42:38.004226Z",
     "iopub.status.idle": "2021-03-12T11:42:38.007911Z",
     "shell.execute_reply": "2021-03-12T11:42:38.007272Z"
    },
    "papermill": {
     "duration": 0.090876,
     "end_time": "2021-03-12T11:42:38.008058",
     "exception": false,
     "start_time": "2021-03-12T11:42:37.917182",
     "status": "completed"
    },
    "tags": []
   },
   "outputs": [
    {
     "data": {
      "text/plain": [
       "(39,\n",
       " 'i am studying data science from al-nafi',\n",
       " 'I AM STUDYING DATA SCIENCE FROM AL-NAFI',\n",
       " 'I am studying mechine learning from Al-Nafi',\n",
       " 4)"
      ]
     },
     "execution_count": 14,
     "metadata": {},
     "output_type": "execute_result"
    }
   ],
   "source": [
    "#string functions\n",
    "#lenght function is used to find total number of letters including spaces\n",
    "ali = \"I am studying data science from Al-Nafi\"\n",
    "len(ali)\n",
    "#lower function is used to convert whole string into lower case\n",
    "ali.lower()\n",
    "#upper function is used to convert whole string into upper case\n",
    "ali.upper()\n",
    "#following function is used for replacing a substring \n",
    "ali.replace('data science','mechine learning')\n",
    "#following function is used to check any repetive letter in string\n",
    "ali.count('a')\n",
    "#following is the implementation of all string functions\n",
    "(len(ali),ali.lower(),ali.upper(),ali.replace('data science','mechine learning'),ali.count('a') )"
   ]
  },
  {
   "cell_type": "code",
   "execution_count": 15,
   "metadata": {
    "execution": {
     "iopub.execute_input": "2021-03-12T11:42:38.173875Z",
     "iopub.status.busy": "2021-03-12T11:42:38.172866Z",
     "iopub.status.idle": "2021-03-12T11:42:38.177224Z",
     "shell.execute_reply": "2021-03-12T11:42:38.176646Z"
    },
    "papermill": {
     "duration": 0.089815,
     "end_time": "2021-03-12T11:42:38.177368",
     "exception": false,
     "start_time": "2021-03-12T11:42:38.087553",
     "status": "completed"
    },
    "tags": []
   },
   "outputs": [
    {
     "data": {
      "text/plain": [
       "(['Pakistan consists of many cities like Islamabad',\n",
       "  'Lahore',\n",
       "  'karachi and Gujrat'],\n",
       " ['P',\n",
       "  'kist',\n",
       "  'n consists of m',\n",
       "  'ny cities like Isl',\n",
       "  'm',\n",
       "  'b',\n",
       "  'd,L',\n",
       "  'hore,k',\n",
       "  'r',\n",
       "  'chi ',\n",
       "  'nd Gujr',\n",
       "  't'])"
      ]
     },
     "execution_count": 15,
     "metadata": {},
     "output_type": "execute_result"
    }
   ],
   "source": [
    "#Exploring more string functions\n",
    "#finding index of any letter in string\n",
    "ali = \"This is python\"\n",
    "ali.find('python')\n",
    "#splitting a string\n",
    "ai = \"Pakistan consists of many cities like Islamabad,Lahore,karachi and Gujrat\"\n",
    "ai.split(','),ai.split('a')"
   ]
  },
  {
   "cell_type": "code",
   "execution_count": 16,
   "metadata": {
    "execution": {
     "iopub.execute_input": "2021-03-12T11:42:38.351331Z",
     "iopub.status.busy": "2021-03-12T11:42:38.350348Z",
     "iopub.status.idle": "2021-03-12T11:42:38.355781Z",
     "shell.execute_reply": "2021-03-12T11:42:38.355028Z"
    },
    "papermill": {
     "duration": 0.098041,
     "end_time": "2021-03-12T11:42:38.356062",
     "exception": false,
     "start_time": "2021-03-12T11:42:38.258021",
     "status": "completed"
    },
    "tags": []
   },
   "outputs": [
    {
     "data": {
      "text/plain": [
       "(1, True, 3.14, (5+6j))"
      ]
     },
     "execution_count": 16,
     "metadata": {},
     "output_type": "execute_result"
    }
   ],
   "source": [
    "#2-Data structures\n",
    "#there are four basic data structures in Python\n",
    "#1.tuple , 2.List , 3.Dictionary , 4.Set\n",
    "#1.Tuple(tuple is an ordered collection of elements enclosed within brackets().e.g tup=(1,'a',3.12,True))\n",
    "#Note that we could not make any changes after initializing any tuple.  \n",
    "tup= (1,True,3.14,5+6j)\n",
    "\n",
    "tup"
   ]
  },
  {
   "cell_type": "code",
   "execution_count": 17,
   "metadata": {
    "execution": {
     "iopub.execute_input": "2021-03-12T11:42:38.573549Z",
     "iopub.status.busy": "2021-03-12T11:42:38.572892Z",
     "iopub.status.idle": "2021-03-12T11:42:38.576082Z",
     "shell.execute_reply": "2021-03-12T11:42:38.576528Z"
    },
    "papermill": {
     "duration": 0.099332,
     "end_time": "2021-03-12T11:42:38.576734",
     "exception": false,
     "start_time": "2021-03-12T11:42:38.477402",
     "status": "completed"
    },
    "tags": []
   },
   "outputs": [
    {
     "data": {
      "text/plain": [
       "tuple"
      ]
     },
     "execution_count": 17,
     "metadata": {},
     "output_type": "execute_result"
    }
   ],
   "source": [
    "type(tup)"
   ]
  },
  {
   "cell_type": "code",
   "execution_count": 18,
   "metadata": {
    "execution": {
     "iopub.execute_input": "2021-03-12T11:42:38.745132Z",
     "iopub.status.busy": "2021-03-12T11:42:38.744365Z",
     "iopub.status.idle": "2021-03-12T11:42:38.751220Z",
     "shell.execute_reply": "2021-03-12T11:42:38.750548Z"
    },
    "papermill": {
     "duration": 0.092232,
     "end_time": "2021-03-12T11:42:38.751363",
     "exception": false,
     "start_time": "2021-03-12T11:42:38.659131",
     "status": "completed"
    },
    "tags": []
   },
   "outputs": [
    {
     "data": {
      "text/plain": [
       "(True, (5+6j), (True, 3.14))"
      ]
     },
     "execution_count": 18,
     "metadata": {},
     "output_type": "execute_result"
    }
   ],
   "source": [
    "#extracting individual elements in tuple\n",
    "tup= (1,True,3.14,5+6j)\n",
    "tup[1],tup[-1],tup[1:3]"
   ]
  },
  {
   "cell_type": "code",
   "execution_count": 19,
   "metadata": {
    "execution": {
     "iopub.execute_input": "2021-03-12T11:42:38.920600Z",
     "iopub.status.busy": "2021-03-12T11:42:38.919730Z",
     "iopub.status.idle": "2021-03-12T11:42:38.948859Z",
     "shell.execute_reply": "2021-03-12T11:42:38.948292Z"
    },
    "papermill": {
     "duration": 0.115452,
     "end_time": "2021-03-12T11:42:38.949016",
     "exception": false,
     "start_time": "2021-03-12T11:42:38.833564",
     "status": "completed"
    },
    "tags": []
   },
   "outputs": [
    {
     "ename": "TypeError",
     "evalue": "'tuple' object does not support item assignment",
     "output_type": "error",
     "traceback": [
      "\u001b[0;31m---------------------------------------------------------------------------\u001b[0m",
      "\u001b[0;31mTypeError\u001b[0m                                 Traceback (most recent call last)",
      "\u001b[0;32m<ipython-input-19-93c7a476767e>\u001b[0m in \u001b[0;36m<module>\u001b[0;34m\u001b[0m\n\u001b[0;32m----> 1\u001b[0;31m \u001b[0mtup\u001b[0m\u001b[0;34m[\u001b[0m\u001b[0;36m1\u001b[0m\u001b[0;34m]\u001b[0m\u001b[0;34m=\u001b[0m\u001b[0;32mFalse\u001b[0m\u001b[0;34m\u001b[0m\u001b[0;34m\u001b[0m\u001b[0m\n\u001b[0m\u001b[1;32m      2\u001b[0m \u001b[0;31m#Following error shows that tuple cannot be modified\u001b[0m\u001b[0;34m\u001b[0m\u001b[0;34m\u001b[0m\u001b[0;34m\u001b[0m\u001b[0m\n",
      "\u001b[0;31mTypeError\u001b[0m: 'tuple' object does not support item assignment"
     ]
    }
   ],
   "source": [
    "tup[1]=False\n",
    "#Following error shows that tuple cannot be modified"
   ]
  },
  {
   "cell_type": "code",
   "execution_count": 20,
   "metadata": {
    "execution": {
     "iopub.execute_input": "2021-03-12T11:42:39.122965Z",
     "iopub.status.busy": "2021-03-12T11:42:39.121962Z",
     "iopub.status.idle": "2021-03-12T11:42:39.125795Z",
     "shell.execute_reply": "2021-03-12T11:42:39.126229Z"
    },
    "papermill": {
     "duration": 0.094942,
     "end_time": "2021-03-12T11:42:39.126414",
     "exception": false,
     "start_time": "2021-03-12T11:42:39.031472",
     "status": "completed"
    },
    "tags": []
   },
   "outputs": [
    {
     "data": {
      "text/plain": [
       "(6,\n",
       " (1, 2, 3, 7, 8, 9, 4, 5, 6),\n",
       " ('ammar', 786, 'ammar', 786, 'ammar', 786),\n",
       " ('ammar', 786, 'ammar', 786, 4, 5, 6),\n",
       " 1,\n",
       " 9)"
      ]
     },
     "execution_count": 20,
     "metadata": {},
     "output_type": "execute_result"
    }
   ],
   "source": [
    "#Basic tuple operations and functions\n",
    "tup1=(1,2,3,7,8,9)\n",
    "tup2=(4,5,6)\n",
    "tup3=('ammar',786)\n",
    "#following function is used in Finding lenght of tuple\n",
    "len(tup1)\n",
    "#following function is used for concatenating two tuples\n",
    "tup1+tup2\n",
    "#following function is used for multiplying any tuple\n",
    "tup3*3\n",
    "#following function is used for repeting and concatenating\n",
    "tup3*2 + tup2\n",
    "#following function is used to find minimum value in tuple\n",
    "min(tup1)\n",
    "#following function is used to find maximum value in tuple\n",
    "max(tup1)\n",
    "\n",
    "\n",
    "len(tup1),tup1+tup2 , tup3*3 , tup3*2 + tup2 , min(tup1) , max(tup1)"
   ]
  },
  {
   "cell_type": "code",
   "execution_count": 21,
   "metadata": {
    "execution": {
     "iopub.execute_input": "2021-03-12T11:42:39.295296Z",
     "iopub.status.busy": "2021-03-12T11:42:39.294267Z",
     "iopub.status.idle": "2021-03-12T11:42:39.300095Z",
     "shell.execute_reply": "2021-03-12T11:42:39.300576Z"
    },
    "papermill": {
     "duration": 0.092176,
     "end_time": "2021-03-12T11:42:39.300773",
     "exception": false,
     "start_time": "2021-03-12T11:42:39.208597",
     "status": "completed"
    },
    "tags": []
   },
   "outputs": [
    {
     "data": {
      "text/plain": [
       "([1, 'ali', 3.14, True], list)"
      ]
     },
     "execution_count": 21,
     "metadata": {},
     "output_type": "execute_result"
    }
   ],
   "source": [
    "#now we discuss about next data structure which is \"List\"\n",
    "#2.List (List is an ordered collection of elements enclosed within square brackets[])\n",
    "#Note that ,List can be modified.\n",
    "#Diffreence between List and Tuple\n",
    "# First difference is that List can be modified but tuple cannot be modified.secondly,tuple is enclosed within round braces but list is enclosed within square brackets. \n",
    "#Example of List\n",
    "al=[1,\"ali\",3.14,True]\n",
    "#As it shows that type of variable al is List\n",
    "al,type(al)"
   ]
  },
  {
   "cell_type": "code",
   "execution_count": 22,
   "metadata": {
    "execution": {
     "iopub.execute_input": "2021-03-12T11:42:39.472464Z",
     "iopub.status.busy": "2021-03-12T11:42:39.471806Z",
     "iopub.status.idle": "2021-03-12T11:42:39.478511Z",
     "shell.execute_reply": "2021-03-12T11:42:39.477985Z"
    },
    "papermill": {
     "duration": 0.093346,
     "end_time": "2021-03-12T11:42:39.478653",
     "exception": false,
     "start_time": "2021-03-12T11:42:39.385307",
     "status": "completed"
    },
    "tags": []
   },
   "outputs": [
    {
     "data": {
      "text/plain": [
       "(1, [5, 'hr', 7, 'al-nafi'], 'al-nafi')"
      ]
     },
     "execution_count": 22,
     "metadata": {},
     "output_type": "execute_result"
    }
   ],
   "source": [
    "#extracting individual and multiple elements in List\n",
    "a=[1,'g',5,'hr',7,'al-nafi']\n",
    "a[0],a[2:6],a[-1]"
   ]
  },
  {
   "cell_type": "code",
   "execution_count": 23,
   "metadata": {
    "execution": {
     "iopub.execute_input": "2021-03-12T11:42:39.649688Z",
     "iopub.status.busy": "2021-03-12T11:42:39.649068Z",
     "iopub.status.idle": "2021-03-12T11:42:39.654864Z",
     "shell.execute_reply": "2021-03-12T11:42:39.655351Z"
    },
    "papermill": {
     "duration": 0.093154,
     "end_time": "2021-03-12T11:42:39.655518",
     "exception": false,
     "start_time": "2021-03-12T11:42:39.562364",
     "status": "completed"
    },
    "tags": []
   },
   "outputs": [
    {
     "data": {
      "text/plain": [
       "[1, 'y', 2, 'ammara', 'b', 'al-nafi']"
      ]
     },
     "execution_count": 23,
     "metadata": {},
     "output_type": "execute_result"
    }
   ],
   "source": [
    "#Modifying in List\n",
    "z=[1,'a',2,'b',3]\n",
    "#Following function is used for changing element at any index\n",
    "z[1]='y'\n",
    "#Following function is used for popping a element\n",
    "z.pop()\n",
    "#Following function is used for appending or adding new element in the end of List\n",
    "z.append('al-nafi')\n",
    "#Following function is used to insert element at specified index\n",
    "z.insert(3,'ammara')\n",
    "#Here is the implementation of all above  functions\n",
    "z "
   ]
  },
  {
   "cell_type": "code",
   "execution_count": 24,
   "metadata": {
    "execution": {
     "iopub.execute_input": "2021-03-12T11:42:39.827182Z",
     "iopub.status.busy": "2021-03-12T11:42:39.826506Z",
     "iopub.status.idle": "2021-03-12T11:42:39.831402Z",
     "shell.execute_reply": "2021-03-12T11:42:39.831938Z"
    },
    "papermill": {
     "duration": 0.09229,
     "end_time": "2021-03-12T11:42:39.832122",
     "exception": false,
     "start_time": "2021-03-12T11:42:39.739832",
     "status": "completed"
    },
    "tags": []
   },
   "outputs": [
    {
     "data": {
      "text/plain": [
       "['apple', 'banana', 'guava', 'mango']"
      ]
     },
     "execution_count": 24,
     "metadata": {},
     "output_type": "execute_result"
    }
   ],
   "source": [
    "#Sorting in List\n",
    "z=['mango','guava','banana','apple']\n",
    "z.sort()\n",
    "z"
   ]
  },
  {
   "cell_type": "code",
   "execution_count": 25,
   "metadata": {
    "execution": {
     "iopub.execute_input": "2021-03-12T11:42:40.006742Z",
     "iopub.status.busy": "2021-03-12T11:42:40.006045Z",
     "iopub.status.idle": "2021-03-12T11:42:40.012670Z",
     "shell.execute_reply": "2021-03-12T11:42:40.012025Z"
    },
    "papermill": {
     "duration": 0.095148,
     "end_time": "2021-03-12T11:42:40.012914",
     "exception": false,
     "start_time": "2021-03-12T11:42:39.917766",
     "status": "completed"
    },
    "tags": []
   },
   "outputs": [
    {
     "data": {
      "text/plain": [
       "['al-nafi', 7, 5, 'g', 1]"
      ]
     },
     "execution_count": 25,
     "metadata": {},
     "output_type": "execute_result"
    }
   ],
   "source": [
    "#Reversing a List\n",
    "a=[1,'g',5,7,'al-nafi']\n",
    "a.reverse()\n",
    "a"
   ]
  },
  {
   "cell_type": "code",
   "execution_count": 26,
   "metadata": {
    "execution": {
     "iopub.execute_input": "2021-03-12T11:42:40.190431Z",
     "iopub.status.busy": "2021-03-12T11:42:40.189499Z",
     "iopub.status.idle": "2021-03-12T11:42:40.193210Z",
     "shell.execute_reply": "2021-03-12T11:42:40.193727Z"
    },
    "papermill": {
     "duration": 0.095826,
     "end_time": "2021-03-12T11:42:40.193901",
     "exception": false,
     "start_time": "2021-03-12T11:42:40.098075",
     "status": "completed"
    },
    "tags": []
   },
   "outputs": [
    {
     "data": {
      "text/plain": [
       "[1, 2, 3, 'a', 'b', 'c', 'a', 'b', 'c', 'a', 'b', 'c']"
      ]
     },
     "execution_count": 26,
     "metadata": {},
     "output_type": "execute_result"
    }
   ],
   "source": [
    "#List basic operations\n",
    "l1=[1,2,3]\n",
    "l2=['a','b','c']\n",
    "#Following line shows concatinating two Lists\n",
    "l1+l2 \n",
    "#Following line shows repetion in list\n",
    "l2*3\n",
    "#following line is used to merge both of these tuples\n",
    "l1+l2*3"
   ]
  },
  {
   "cell_type": "code",
   "execution_count": 27,
   "metadata": {
    "execution": {
     "iopub.execute_input": "2021-03-12T11:42:40.369825Z",
     "iopub.status.busy": "2021-03-12T11:42:40.368636Z",
     "iopub.status.idle": "2021-03-12T11:42:40.376858Z",
     "shell.execute_reply": "2021-03-12T11:42:40.377329Z"
    },
    "papermill": {
     "duration": 0.097664,
     "end_time": "2021-03-12T11:42:40.377509",
     "exception": false,
     "start_time": "2021-03-12T11:42:40.279845",
     "status": "completed"
    },
    "tags": []
   },
   "outputs": [
    {
     "data": {
      "text/plain": [
       "({'apple': 10, 'orange': 20, 'banana': 30}, dict)"
      ]
     },
     "execution_count": 27,
     "metadata": {},
     "output_type": "execute_result"
    }
   ],
   "source": [
    "#Now, we discuss about next data structure which is \"Dictionary\"\n",
    "#3.Dictionary(Dictionary is an un-ordered collection of key value pairs enclosed within curly braces{})\n",
    "#Note that , Dictionary can be modified.\n",
    "#For example\n",
    "al={\"apple\":10,\"orange\":20,\"banana\":30}\n",
    "al,type(al)"
   ]
  },
  {
   "cell_type": "code",
   "execution_count": 28,
   "metadata": {
    "execution": {
     "iopub.execute_input": "2021-03-12T11:42:40.555178Z",
     "iopub.status.busy": "2021-03-12T11:42:40.554133Z",
     "iopub.status.idle": "2021-03-12T11:42:40.558942Z",
     "shell.execute_reply": "2021-03-12T11:42:40.558300Z"
    },
    "papermill": {
     "duration": 0.096312,
     "end_time": "2021-03-12T11:42:40.559088",
     "exception": false,
     "start_time": "2021-03-12T11:42:40.462776",
     "status": "completed"
    },
    "tags": []
   },
   "outputs": [
    {
     "data": {
      "text/plain": [
       "{'apple': 200, 'orange': 20, 'banana': 30, 'grapes': 50}"
      ]
     },
     "execution_count": 28,
     "metadata": {},
     "output_type": "execute_result"
    }
   ],
   "source": [
    "#Modifying a Dictionary\n",
    "#Adding a new element in last\n",
    "al={\"apple\":10,\"orange\":20,\"banana\":30}\n",
    "al[\"grapes\"]=50\n",
    "#changing an existing element\n",
    "al[\"apple\"]=200\n",
    "al"
   ]
  },
  {
   "cell_type": "code",
   "execution_count": 29,
   "metadata": {
    "execution": {
     "iopub.execute_input": "2021-03-12T11:42:40.739448Z",
     "iopub.status.busy": "2021-03-12T11:42:40.738393Z",
     "iopub.status.idle": "2021-03-12T11:42:40.742901Z",
     "shell.execute_reply": "2021-03-12T11:42:40.742273Z"
    },
    "papermill": {
     "duration": 0.097758,
     "end_time": "2021-03-12T11:42:40.743042",
     "exception": false,
     "start_time": "2021-03-12T11:42:40.645284",
     "status": "completed"
    },
    "tags": []
   },
   "outputs": [
    {
     "data": {
      "text/plain": [
       "{'apple': 10, 'Banana': 50, 'grapes': 60}"
      ]
     },
     "execution_count": 29,
     "metadata": {},
     "output_type": "execute_result"
    }
   ],
   "source": [
    "#Dictionary functions\n",
    "fruit1={\"apple\":10,\"orange\":20}\n",
    "fruit2={\"Banana\":50,\"grapes\":60}\n",
    "#updateing one dictionary elements with another\n",
    "fruit1.update(fruit2)\n",
    "#following function is used to pop or delete any key from Dictionary\n",
    "fruit1.pop(\"orange\")\n",
    "fruit1 "
   ]
  },
  {
   "cell_type": "code",
   "execution_count": 30,
   "metadata": {
    "execution": {
     "iopub.execute_input": "2021-03-12T11:42:40.920100Z",
     "iopub.status.busy": "2021-03-12T11:42:40.919119Z",
     "iopub.status.idle": "2021-03-12T11:42:40.926865Z",
     "shell.execute_reply": "2021-03-12T11:42:40.926234Z"
    },
    "papermill": {
     "duration": 0.098012,
     "end_time": "2021-03-12T11:42:40.927002",
     "exception": false,
     "start_time": "2021-03-12T11:42:40.828990",
     "status": "completed"
    },
    "tags": []
   },
   "outputs": [
    {
     "data": {
      "text/plain": [
       "{1, 3.14, 'a', 'b'}"
      ]
     },
     "execution_count": 30,
     "metadata": {},
     "output_type": "execute_result"
    }
   ],
   "source": [
    "#Now we discuss our next data structure which is \"set\"\n",
    "#4.Set (Set is an unindexed collection of elements enclosed within curly braces{})\n",
    "#Note that,Duplicates are not allowed in set.Set can be modified\n",
    "#Example of set\n",
    "s1={1,'a',3.14,'b','a','a','a'}\n",
    "s1\n",
    "#Here you can see that duplicate value \"a\" is not allowed to be repeated in set."
   ]
  },
  {
   "cell_type": "code",
   "execution_count": 31,
   "metadata": {
    "execution": {
     "iopub.execute_input": "2021-03-12T11:42:41.109905Z",
     "iopub.status.busy": "2021-03-12T11:42:41.109243Z",
     "iopub.status.idle": "2021-03-12T11:42:41.113536Z",
     "shell.execute_reply": "2021-03-12T11:42:41.112948Z"
    },
    "papermill": {
     "duration": 0.098349,
     "end_time": "2021-03-12T11:42:41.113672",
     "exception": false,
     "start_time": "2021-03-12T11:42:41.015323",
     "status": "completed"
    },
    "tags": []
   },
   "outputs": [
    {
     "data": {
      "text/plain": [
       "{3.14, 'Ahmad', 'Ali', 'Ammar', 'Ammara', 'a', 'al-Nafi', 'b'}"
      ]
     },
     "execution_count": 31,
     "metadata": {},
     "output_type": "execute_result"
    }
   ],
   "source": [
    "#Set operations\n",
    "s1={1,'a',3.14,'b','al-Nafi'}\n",
    "#Following statement is used to Add any element into set\n",
    "s1.add(\"Ammar\")\n",
    "#Following statement is used to removeany element from set\n",
    "s1.remove(1)\n",
    "#Following statement is used update or add multiple elements into set\n",
    "s1.update([\"Ammara\",\"Ahmad\",\"Ali\"])\n",
    "#here is the implementation of all above operations\n",
    "s1\n",
    "#As we can see that in output section output elements are stored in unindexed order because in Set elements have no index order."
   ]
  },
  {
   "cell_type": "code",
   "execution_count": 32,
   "metadata": {
    "execution": {
     "iopub.execute_input": "2021-03-12T11:42:41.291116Z",
     "iopub.status.busy": "2021-03-12T11:42:41.290444Z",
     "iopub.status.idle": "2021-03-12T11:42:41.296818Z",
     "shell.execute_reply": "2021-03-12T11:42:41.297376Z"
    },
    "papermill": {
     "duration": 0.097008,
     "end_time": "2021-03-12T11:42:41.297542",
     "exception": false,
     "start_time": "2021-03-12T11:42:41.200534",
     "status": "completed"
    },
    "tags": []
   },
   "outputs": [
    {
     "data": {
      "text/plain": [
       "({1, 2, 3, 'a', 'b', 'c'}, {1, 'a'})"
      ]
     },
     "execution_count": 32,
     "metadata": {},
     "output_type": "execute_result"
    }
   ],
   "source": [
    "#Set functions\n",
    "s1={1,2,3,'a'}\n",
    "s2={'a','b','c',1}\n",
    "#Following function is used to find union of two sets\n",
    "s1.union(s2)\n",
    "#Fullowing function is used to find intersection of two sets\n",
    "s1.intersection(s2)\n",
    "#Implementation of both of these functions\n",
    "s1.union(s2) , s1.intersection(s2)"
   ]
  },
  {
   "cell_type": "code",
   "execution_count": 33,
   "metadata": {
    "execution": {
     "iopub.execute_input": "2021-03-12T11:42:41.476462Z",
     "iopub.status.busy": "2021-03-12T11:42:41.475840Z",
     "iopub.status.idle": "2021-03-12T11:42:41.482564Z",
     "shell.execute_reply": "2021-03-12T11:42:41.483074Z"
    },
    "papermill": {
     "duration": 0.097445,
     "end_time": "2021-03-12T11:42:41.483273",
     "exception": false,
     "start_time": "2021-03-12T11:42:41.385828",
     "status": "completed"
    },
    "tags": []
   },
   "outputs": [
    {
     "name": "stdout",
     "output_type": "stream",
     "text": [
      "yes,10 is smaller than 20\n"
     ]
    }
   ],
   "source": [
    "#3- control flow statements\n",
    "#if-else statement (This statement consists of a condition,if condition is true then first statement is executed,if false then second statement is executed)\n",
    "#Example of if-else statement\n",
    "if(10<20):\n",
    " print(\"yes,10 is smaller than 20\")\n",
    "else:\n",
    " print(\"No,10 is not smaller than 20\")"
   ]
  },
  {
   "cell_type": "code",
   "execution_count": 34,
   "metadata": {
    "execution": {
     "iopub.execute_input": "2021-03-12T11:42:41.666867Z",
     "iopub.status.busy": "2021-03-12T11:42:41.665914Z",
     "iopub.status.idle": "2021-03-12T11:42:41.669688Z",
     "shell.execute_reply": "2021-03-12T11:42:41.670311Z"
    },
    "papermill": {
     "duration": 0.097955,
     "end_time": "2021-03-12T11:42:41.670480",
     "exception": false,
     "start_time": "2021-03-12T11:42:41.572525",
     "status": "completed"
    },
    "tags": []
   },
   "outputs": [
    {
     "ename": "IndentationError",
     "evalue": "expected an indented block (<ipython-input-34-429ba4a4963e>, line 3)",
     "output_type": "error",
     "traceback": [
      "\u001b[0;36m  File \u001b[0;32m\"<ipython-input-34-429ba4a4963e>\"\u001b[0;36m, line \u001b[0;32m3\u001b[0m\n\u001b[0;31m    print(\"10 is smaller than 20\")\u001b[0m\n\u001b[0m        ^\u001b[0m\n\u001b[0;31mIndentationError\u001b[0m\u001b[0;31m:\u001b[0m expected an indented block\n"
     ]
    }
   ],
   "source": [
    "#Here note that, we must enter space before print statement,this is called indentation.If we do not enter space,it will generate an error as shown in fallowing.\n",
    "if (10<20):\n",
    "print(\"10 is smaller than 20\")\n",
    "#This error is because of not entering space before print statement."
   ]
  },
  {
   "cell_type": "code",
   "execution_count": 35,
   "metadata": {
    "execution": {
     "iopub.execute_input": "2021-03-12T11:42:41.855826Z",
     "iopub.status.busy": "2021-03-12T11:42:41.854899Z",
     "iopub.status.idle": "2021-03-12T11:42:41.858591Z",
     "shell.execute_reply": "2021-03-12T11:42:41.859525Z"
    },
    "papermill": {
     "duration": 0.099895,
     "end_time": "2021-03-12T11:42:41.859790",
     "exception": false,
     "start_time": "2021-03-12T11:42:41.759895",
     "status": "completed"
    },
    "tags": []
   },
   "outputs": [
    {
     "name": "stdout",
     "output_type": "stream",
     "text": [
      "A has greatest value\n"
     ]
    }
   ],
   "source": [
    "#Now we use any three variables and check which variable has greatest value.\n",
    "a=100\n",
    "b=20\n",
    "c=30\n",
    "if (a>b)&(a>c):\n",
    "    print(\"A has greatest value\")\n",
    "elif (b>a)&(b>c):\n",
    "    print(\"B has greatest value\")\n",
    "else:\n",
    "    print(\"C has greatest value\")\n",
    "#In 7th line \"elif\" means that \"else-if\""
   ]
  },
  {
   "cell_type": "code",
   "execution_count": 36,
   "metadata": {
    "execution": {
     "iopub.execute_input": "2021-03-12T11:42:42.049881Z",
     "iopub.status.busy": "2021-03-12T11:42:42.048872Z",
     "iopub.status.idle": "2021-03-12T11:42:42.053498Z",
     "shell.execute_reply": "2021-03-12T11:42:42.052528Z"
    },
    "papermill": {
     "duration": 0.100631,
     "end_time": "2021-03-12T11:42:42.053754",
     "exception": false,
     "start_time": "2021-03-12T11:42:41.953123",
     "status": "completed"
    },
    "tags": []
   },
   "outputs": [
    {
     "name": "stdout",
     "output_type": "stream",
     "text": [
      "al-nafi is present in tup1\n"
     ]
    }
   ],
   "source": [
    "#Now we use tuple(Data structure) in if-else statement\n",
    "tup1=('a','z',3,3.123,'al-nafi')\n",
    "if 'al-nafi' in tup1:\n",
    " print(\"al-nafi is present in tup1\")\n",
    "else:\n",
    " print(\"al-nafi is not present in tup1\")"
   ]
  },
  {
   "cell_type": "code",
   "execution_count": 37,
   "metadata": {
    "execution": {
     "iopub.execute_input": "2021-03-12T11:42:42.240729Z",
     "iopub.status.busy": "2021-03-12T11:42:42.240034Z",
     "iopub.status.idle": "2021-03-12T11:42:42.244197Z",
     "shell.execute_reply": "2021-03-12T11:42:42.243425Z"
    },
    "papermill": {
     "duration": 0.09917,
     "end_time": "2021-03-12T11:42:42.244346",
     "exception": false,
     "start_time": "2021-03-12T11:42:42.145176",
     "status": "completed"
    },
    "tags": []
   },
   "outputs": [
    {
     "name": "stdout",
     "output_type": "stream",
     "text": [
      "['a', 'b', 'z']\n"
     ]
    }
   ],
   "source": [
    "#Now we use List(Data structure) in if-else statement\n",
    "list1=['a','b','c']\n",
    "if list1[2]=='c':\n",
    "    list1[2]='z'\n",
    "    print(list1)\n",
    "else:\n",
    "    print(\"c is not available in List.\")\n",
    "#Here you can see that 'c' is present in list and then list is modified."
   ]
  },
  {
   "cell_type": "code",
   "execution_count": 38,
   "metadata": {
    "execution": {
     "iopub.execute_input": "2021-03-12T11:42:42.431714Z",
     "iopub.status.busy": "2021-03-12T11:42:42.431002Z",
     "iopub.status.idle": "2021-03-12T11:42:42.434383Z",
     "shell.execute_reply": "2021-03-12T11:42:42.434953Z"
    },
    "papermill": {
     "duration": 0.099893,
     "end_time": "2021-03-12T11:42:42.435127",
     "exception": false,
     "start_time": "2021-03-12T11:42:42.335234",
     "status": "completed"
    },
    "tags": []
   },
   "outputs": [
    {
     "name": "stdout",
     "output_type": "stream",
     "text": [
      "{'k1': 1005, 'k2': 10, 'k3': 15}\n"
     ]
    }
   ],
   "source": [
    "#Now we use Dictionary(Data structure) in if-else statement\n",
    "d1={'k1':5,'k2':10,'k3':15}\n",
    "if d1['k1'] == 5:\n",
    "    d1['k1'] =d1['k1']+1000\n",
    "    print(d1)\n",
    "else:\n",
    "    print(\"values are not matched\")"
   ]
  },
  {
   "cell_type": "code",
   "execution_count": 39,
   "metadata": {
    "execution": {
     "iopub.execute_input": "2021-03-12T11:42:42.620534Z",
     "iopub.status.busy": "2021-03-12T11:42:42.619928Z",
     "iopub.status.idle": "2021-03-12T11:42:42.624922Z",
     "shell.execute_reply": "2021-03-12T11:42:42.625446Z"
    },
    "papermill": {
     "duration": 0.099952,
     "end_time": "2021-03-12T11:42:42.625620",
     "exception": false,
     "start_time": "2021-03-12T11:42:42.525668",
     "status": "completed"
    },
    "tags": []
   },
   "outputs": [
    {
     "ename": "SyntaxError",
     "evalue": "invalid syntax (<ipython-input-39-5d71a6935105>, line 11)",
     "output_type": "error",
     "traceback": [
      "\u001b[0;36m  File \u001b[0;32m\"<ipython-input-39-5d71a6935105>\"\u001b[0;36m, line \u001b[0;32m11\u001b[0m\n\u001b[0;31m    i=i+1\u001b[0m\n\u001b[0m    ^\u001b[0m\n\u001b[0;31mSyntaxError\u001b[0m\u001b[0;31m:\u001b[0m invalid syntax\n"
     ]
    }
   ],
   "source": [
    "#4-\"Loops\"\n",
    "#Loops (Loops are used to repeat a task multiple times)\n",
    "#There are two types of loop statements. 1.while loop 2.for loop \n",
    "#First of all,we discuss about \"while loop\"\n",
    "#1.while loop\n",
    "#Example of while loop\n",
    "i=1\n",
    "while i<=10:\n",
    "    {\n",
    "    print(i)\n",
    "    i=i+1\n",
    "    }\n",
    "#when i=11,condition becomes false and the loop ends.    "
   ]
  },
  {
   "cell_type": "code",
   "execution_count": 40,
   "metadata": {
    "execution": {
     "iopub.execute_input": "2021-03-12T11:42:42.813373Z",
     "iopub.status.busy": "2021-03-12T11:42:42.812729Z",
     "iopub.status.idle": "2021-03-12T11:42:42.825442Z",
     "shell.execute_reply": "2021-03-12T11:42:42.826271Z"
    },
    "papermill": {
     "duration": 0.108282,
     "end_time": "2021-03-12T11:42:42.826459",
     "exception": false,
     "start_time": "2021-03-12T11:42:42.718177",
     "status": "completed"
    },
    "tags": []
   },
   "outputs": [
    {
     "name": "stdout",
     "output_type": "stream",
     "text": [
      "5  *  1  =  5\n",
      "5  *  2  =  10\n",
      "5  *  3  =  15\n",
      "5  *  4  =  20\n",
      "5  *  5  =  25\n",
      "5  *  6  =  30\n",
      "5  *  7  =  35\n",
      "5  *  8  =  40\n",
      "5  *  9  =  45\n",
      "5  *  10  =  50\n"
     ]
    }
   ],
   "source": [
    "#Another example of while loop, we print table of 5 using while loop\n",
    "i=1\n",
    "n=5\n",
    "while i<=10:\n",
    "    print(n ,\" * \",i,\" = \",n*i)\n",
    "    i=i+1"
   ]
  },
  {
   "cell_type": "code",
   "execution_count": 41,
   "metadata": {
    "execution": {
     "iopub.execute_input": "2021-03-12T11:42:43.016095Z",
     "iopub.status.busy": "2021-03-12T11:42:43.015368Z",
     "iopub.status.idle": "2021-03-12T11:42:43.018707Z",
     "shell.execute_reply": "2021-03-12T11:42:43.018032Z"
    },
    "papermill": {
     "duration": 0.10074,
     "end_time": "2021-03-12T11:42:43.018851",
     "exception": false,
     "start_time": "2021-03-12T11:42:42.918111",
     "status": "completed"
    },
    "tags": []
   },
   "outputs": [],
   "source": [
    "#Now,we use list in while loop\n",
    "l1=[1,2,3,4,5]\n",
    "i=0\n",
    "while i<len(l1):\n",
    "    l1[i]=l1[i]+1000\n",
    "    i=i+1\n",
    "    "
   ]
  },
  {
   "cell_type": "code",
   "execution_count": 42,
   "metadata": {
    "execution": {
     "iopub.execute_input": "2021-03-12T11:42:43.209226Z",
     "iopub.status.busy": "2021-03-12T11:42:43.208169Z",
     "iopub.status.idle": "2021-03-12T11:42:43.213228Z",
     "shell.execute_reply": "2021-03-12T11:42:43.212619Z"
    },
    "papermill": {
     "duration": 0.102169,
     "end_time": "2021-03-12T11:42:43.213373",
     "exception": false,
     "start_time": "2021-03-12T11:42:43.111204",
     "status": "completed"
    },
    "tags": []
   },
   "outputs": [
    {
     "data": {
      "text/plain": [
       "[1001, 1002, 1003, 1004, 1005]"
      ]
     },
     "execution_count": 42,
     "metadata": {},
     "output_type": "execute_result"
    }
   ],
   "source": [
    "l1\n",
    "#Here we can see that in every list element 1000 is added."
   ]
  },
  {
   "cell_type": "code",
   "execution_count": 43,
   "metadata": {
    "execution": {
     "iopub.execute_input": "2021-03-12T11:42:43.404378Z",
     "iopub.status.busy": "2021-03-12T11:42:43.403386Z",
     "iopub.status.idle": "2021-03-12T11:42:43.408392Z",
     "shell.execute_reply": "2021-03-12T11:42:43.407737Z"
    },
    "papermill": {
     "duration": 0.102811,
     "end_time": "2021-03-12T11:42:43.408546",
     "exception": false,
     "start_time": "2021-03-12T11:42:43.305735",
     "status": "completed"
    },
    "tags": []
   },
   "outputs": [
    {
     "name": "stdout",
     "output_type": "stream",
     "text": [
      "Ammar\n",
      "Ahmad\n",
      "Ali\n"
     ]
    }
   ],
   "source": [
    "#2.For loop (For loop is used to iterate over a sequence such as tuple,list,dictionary etc )\n",
    "#For example,\n",
    "l1=['Ammar','Ahmad','Ali']\n",
    "for i in l1:\n",
    "    print(i)\n"
   ]
  },
  {
   "cell_type": "code",
   "execution_count": 44,
   "metadata": {
    "execution": {
     "iopub.execute_input": "2021-03-12T11:42:43.601991Z",
     "iopub.status.busy": "2021-03-12T11:42:43.601152Z",
     "iopub.status.idle": "2021-03-12T11:42:43.607899Z",
     "shell.execute_reply": "2021-03-12T11:42:43.609033Z"
    },
    "papermill": {
     "duration": 0.106991,
     "end_time": "2021-03-12T11:42:43.609273",
     "exception": false,
     "start_time": "2021-03-12T11:42:43.502282",
     "status": "completed"
    },
    "tags": []
   },
   "outputs": [
    {
     "name": "stdout",
     "output_type": "stream",
     "text": [
      "black laptop\n",
      "black mobile\n",
      "black pad\n",
      "dark black laptop\n",
      "dark black mobile\n",
      "dark black pad\n",
      "light black laptop\n",
      "light black mobile\n",
      "light black pad\n"
     ]
    }
   ],
   "source": [
    "#Now we look at example of nested for loop.\n",
    "l1=['black','dark black','light black']\n",
    "l2=['laptop','mobile','pad']\n",
    "for i in l1:\n",
    "    for j in l2:\n",
    "        print(i,j)\n",
    "#In this example,outer loop l1 is executed one time,then three time inner loop is executed.This process is repeated until outer loop is completed.        "
   ]
  },
  {
   "cell_type": "code",
   "execution_count": 45,
   "metadata": {
    "execution": {
     "iopub.execute_input": "2021-03-12T11:42:43.805227Z",
     "iopub.status.busy": "2021-03-12T11:42:43.804523Z",
     "iopub.status.idle": "2021-03-12T11:42:43.807887Z",
     "shell.execute_reply": "2021-03-12T11:42:43.807260Z"
    },
    "papermill": {
     "duration": 0.102439,
     "end_time": "2021-03-12T11:42:43.808040",
     "exception": false,
     "start_time": "2021-03-12T11:42:43.705601",
     "status": "completed"
    },
    "tags": []
   },
   "outputs": [],
   "source": [
    "#5-Python Functions\n",
    "#Function is a block of code which performs a specific task.For example,\n",
    "def add_10(x):\n",
    "     return x+10 \n"
   ]
  },
  {
   "cell_type": "code",
   "execution_count": 46,
   "metadata": {
    "execution": {
     "iopub.execute_input": "2021-03-12T11:42:44.001859Z",
     "iopub.status.busy": "2021-03-12T11:42:44.000861Z",
     "iopub.status.idle": "2021-03-12T11:42:44.004633Z",
     "shell.execute_reply": "2021-03-12T11:42:44.005112Z"
    },
    "papermill": {
     "duration": 0.103136,
     "end_time": "2021-03-12T11:42:44.005304",
     "exception": false,
     "start_time": "2021-03-12T11:42:43.902168",
     "status": "completed"
    },
    "tags": []
   },
   "outputs": [
    {
     "data": {
      "text/plain": [
       "(20, 15)"
      ]
     },
     "execution_count": 46,
     "metadata": {},
     "output_type": "execute_result"
    }
   ],
   "source": [
    "#Calling a Function\n",
    "add_10(10),add_10(5)"
   ]
  },
  {
   "cell_type": "code",
   "execution_count": 47,
   "metadata": {
    "execution": {
     "iopub.execute_input": "2021-03-12T11:42:44.198841Z",
     "iopub.status.busy": "2021-03-12T11:42:44.197845Z",
     "iopub.status.idle": "2021-03-12T11:42:44.203664Z",
     "shell.execute_reply": "2021-03-12T11:42:44.203001Z"
    },
    "papermill": {
     "duration": 0.103382,
     "end_time": "2021-03-12T11:42:44.203834",
     "exception": false,
     "start_time": "2021-03-12T11:42:44.100452",
     "status": "completed"
    },
    "tags": []
   },
   "outputs": [],
   "source": [
    "#Function example,check even or odd\n",
    "def check(x):\n",
    "    if x%2==0:\n",
    "        print(x, \" is even\")\n",
    "    else:\n",
    "        print(x, \" is odd\")"
   ]
  },
  {
   "cell_type": "code",
   "execution_count": 48,
   "metadata": {
    "execution": {
     "iopub.execute_input": "2021-03-12T11:42:44.397191Z",
     "iopub.status.busy": "2021-03-12T11:42:44.396202Z",
     "iopub.status.idle": "2021-03-12T11:42:44.399342Z",
     "shell.execute_reply": "2021-03-12T11:42:44.399840Z"
    },
    "papermill": {
     "duration": 0.102176,
     "end_time": "2021-03-12T11:42:44.400012",
     "exception": false,
     "start_time": "2021-03-12T11:42:44.297836",
     "status": "completed"
    },
    "tags": []
   },
   "outputs": [
    {
     "name": "stdout",
     "output_type": "stream",
     "text": [
      "6  is even\n"
     ]
    }
   ],
   "source": [
    "check(6)"
   ]
  },
  {
   "cell_type": "code",
   "execution_count": 49,
   "metadata": {
    "execution": {
     "iopub.execute_input": "2021-03-12T11:42:44.594895Z",
     "iopub.status.busy": "2021-03-12T11:42:44.594006Z",
     "iopub.status.idle": "2021-03-12T11:42:44.598806Z",
     "shell.execute_reply": "2021-03-12T11:42:44.599275Z"
    },
    "papermill": {
     "duration": 0.10498,
     "end_time": "2021-03-12T11:42:44.599456",
     "exception": false,
     "start_time": "2021-03-12T11:42:44.494476",
     "status": "completed"
    },
    "tags": []
   },
   "outputs": [
    {
     "data": {
      "text/plain": [
       "3"
      ]
     },
     "execution_count": 49,
     "metadata": {},
     "output_type": "execute_result"
    }
   ],
   "source": [
    "#Now we discuss about \"lambda function\"\n",
    "#lambda function(it is an anonymous function,can take any number of arguments but only have one expression)\n",
    "#lambda keyword is used to declare this function\n",
    "g=lambda x:x+x+x\n",
    "g(1)\n"
   ]
  },
  {
   "cell_type": "code",
   "execution_count": 50,
   "metadata": {
    "execution": {
     "iopub.execute_input": "2021-03-12T11:42:44.794942Z",
     "iopub.status.busy": "2021-03-12T11:42:44.794238Z",
     "iopub.status.idle": "2021-03-12T11:42:44.800821Z",
     "shell.execute_reply": "2021-03-12T11:42:44.801361Z"
    },
    "papermill": {
     "duration": 0.106485,
     "end_time": "2021-03-12T11:42:44.801538",
     "exception": false,
     "start_time": "2021-03-12T11:42:44.695053",
     "status": "completed"
    },
    "tags": []
   },
   "outputs": [
    {
     "data": {
      "text/plain": [
       "[16, 20, 14, 2, 8]"
      ]
     },
     "execution_count": 50,
     "metadata": {},
     "output_type": "execute_result"
    }
   ],
   "source": [
    "#Use of lambda function with filter function\n",
    "#Filter is used to filter given sequence with the help of a function that tests each element in the sequence to be true or not.\n",
    "li = [17,16,20,14,2,25,37,11,8]\n",
    "final_list=list(filter(lambda x:(x%2==0),li))\n",
    "final_list\n",
    "#This function is used to filter all even values from list."
   ]
  },
  {
   "cell_type": "code",
   "execution_count": 51,
   "metadata": {
    "execution": {
     "iopub.execute_input": "2021-03-12T11:42:45.001514Z",
     "iopub.status.busy": "2021-03-12T11:42:45.000369Z",
     "iopub.status.idle": "2021-03-12T11:42:45.005477Z",
     "shell.execute_reply": "2021-03-12T11:42:45.004817Z"
    },
    "papermill": {
     "duration": 0.108287,
     "end_time": "2021-03-12T11:42:45.005625",
     "exception": false,
     "start_time": "2021-03-12T11:42:44.897338",
     "status": "completed"
    },
    "tags": []
   },
   "outputs": [
    {
     "data": {
      "text/plain": [
       "[2, 4, 6, 8, 10, 12, 14, 16, 18, 20]"
      ]
     },
     "execution_count": 51,
     "metadata": {},
     "output_type": "execute_result"
    }
   ],
   "source": [
    "#Use of lambda function with map function\n",
    "#This function executes a specified function for each item in an iterable,item is sent to the function as a parameter.\n",
    "l1=[1,2,3,4,5,6,7,8,9,10]\n",
    "final_list=list(map(lambda x: x*2,l1))\n",
    "final_list"
   ]
  },
  {
   "cell_type": "code",
   "execution_count": 52,
   "metadata": {
    "execution": {
     "iopub.execute_input": "2021-03-12T11:42:45.207823Z",
     "iopub.status.busy": "2021-03-12T11:42:45.207092Z",
     "iopub.status.idle": "2021-03-12T11:42:45.210273Z",
     "shell.execute_reply": "2021-03-12T11:42:45.210815Z"
    },
    "papermill": {
     "duration": 0.107179,
     "end_time": "2021-03-12T11:42:45.210989",
     "exception": false,
     "start_time": "2021-03-12T11:42:45.103810",
     "status": "completed"
    },
    "tags": []
   },
   "outputs": [
    {
     "data": {
      "text/plain": [
       "55"
      ]
     },
     "execution_count": 52,
     "metadata": {},
     "output_type": "execute_result"
    }
   ],
   "source": [
    "#use of lambda function with reduce function\n",
    "# reduce function implements a mathematical technique called folding or reduction.\n",
    "#it is useful when we wanted to reduce any list to a single cumulative value.\n",
    "l1=[1,2,3,4,5,6,7,8,9,10]\n",
    "from functools import reduce\n",
    "sum=reduce(lambda x,y: x+y,l1)\n",
    "sum"
   ]
  },
  {
   "cell_type": "code",
   "execution_count": 53,
   "metadata": {
    "execution": {
     "iopub.execute_input": "2021-03-12T11:42:45.408896Z",
     "iopub.status.busy": "2021-03-12T11:42:45.408059Z",
     "iopub.status.idle": "2021-03-12T11:42:45.414825Z",
     "shell.execute_reply": "2021-03-12T11:42:45.414199Z"
    },
    "papermill": {
     "duration": 0.107005,
     "end_time": "2021-03-12T11:42:45.414971",
     "exception": false,
     "start_time": "2021-03-12T11:42:45.307966",
     "status": "completed"
    },
    "tags": []
   },
   "outputs": [
    {
     "name": "stdout",
     "output_type": "stream",
     "text": [
      "Ammar is Making Phone call\n",
      "Ali is playing a Game\n"
     ]
    }
   ],
   "source": [
    "#6-Object oriented programming (oop)\n",
    "#Object Oriented Programming is a method of structuring a program by bundling related properties and behaviors into individual objects.\n",
    "#For this purpose , we understand the concepts of \"Classes\" and \"Objects\"\n",
    "#Class (Class is simply a basic template.Class is a user defined data type and consists of attributes and methods).\n",
    "#Object (An object is simply a collection of data (variables) and methods (functions) that act on those data and class is a blueprint for that object).\n",
    "#Example of Class\n",
    "#First of all,we create a class'Phone'\n",
    "class Phone:\n",
    "    def make_call(self):\n",
    "        print(\"Ammar is Making Phone call\")\n",
    "    def play_game(self):\n",
    "        print(\"Ali is playing a Game\")\n",
    "#secondly,we create an object \"ph\" of class \"Phone\"\n",
    "ph=Phone()\n",
    "#Lastly,we invoke methods through object\n",
    "ph.make_call()\n",
    "ph.play_game()\n",
    "#Here note that Class name is always started with capital alphabet e.g \"Phone\"."
   ]
  },
  {
   "cell_type": "code",
   "execution_count": 54,
   "metadata": {
    "execution": {
     "iopub.execute_input": "2021-03-12T11:42:45.620997Z",
     "iopub.status.busy": "2021-03-12T11:42:45.619850Z",
     "iopub.status.idle": "2021-03-12T11:42:45.624049Z",
     "shell.execute_reply": "2021-03-12T11:42:45.624556Z"
    },
    "papermill": {
     "duration": 0.110757,
     "end_time": "2021-03-12T11:42:45.624756",
     "exception": false,
     "start_time": "2021-03-12T11:42:45.513999",
     "status": "completed"
    },
    "tags": []
   },
   "outputs": [
    {
     "data": {
      "text/plain": [
       "('Black', 50000)"
      ]
     },
     "execution_count": 54,
     "metadata": {},
     "output_type": "execute_result"
    }
   ],
   "source": [
    "#Another Example of Class\n",
    "#In this example we understand returning and passing variable into calling function\n",
    "class Phone:\n",
    "    def set_color(self,color):\n",
    "        self.color=color\n",
    "    def set_cost(self,cost):\n",
    "        self.cost=cost\n",
    "    def show_color(self):\n",
    "        return self.color\n",
    "    def show_cost(self):\n",
    "        return self.cost\n",
    "#Creating object        \n",
    "ph2=Phone()\n",
    "#Calling Functions\n",
    "ph2.set_color(\"Black\")\n",
    "ph2.set_cost(50000)\n",
    "ph2.show_color(),ph2.show_cost()\n",
    "\n",
    "        "
   ]
  },
  {
   "cell_type": "code",
   "execution_count": 55,
   "metadata": {
    "execution": {
     "iopub.execute_input": "2021-03-12T11:42:45.826454Z",
     "iopub.status.busy": "2021-03-12T11:42:45.825373Z",
     "iopub.status.idle": "2021-03-12T11:42:45.835469Z",
     "shell.execute_reply": "2021-03-12T11:42:45.836163Z"
    },
    "papermill": {
     "duration": 0.113284,
     "end_time": "2021-03-12T11:42:45.836409",
     "exception": false,
     "start_time": "2021-03-12T11:42:45.723125",
     "status": "completed"
    },
    "tags": []
   },
   "outputs": [
    {
     "name": "stdout",
     "output_type": "stream",
     "text": [
      "Employee name is Ammara\n",
      "Employee age is 20\n",
      "Employee salary is 50000\n",
      "Employee gender is Male\n"
     ]
    }
   ],
   "source": [
    "#Another Example of class by using constructor\n",
    "#constructor( The task of constructors is to initialize and assign values to the data members of the class when an object of class is created).\n",
    "class Employee:\n",
    "#Following code is used for creating constructor\n",
    "  def __init__(self, name, age,salary,gender):\n",
    "    self.name = name\n",
    "    self.age = age\n",
    "    self.salary = salary\n",
    "    self.gender = gender\n",
    "#Following function is used for displaying employee details\n",
    "  def display(self):\n",
    "    print(\"Employee name is\",self.name)\n",
    "    print(\"Employee age is\",self.age)\n",
    "    print(\"Employee salary is\",self.salary)\n",
    "    print(\"Employee gender is\",self.gender)\n",
    "#Creating object \"p1\"    \n",
    "p1 = Employee('Ammara',20,50000,'Male')\n",
    "#calling function using object\n",
    "p1.display()\n",
    "  \n",
    "\n",
    "    "
   ]
  },
  {
   "cell_type": "code",
   "execution_count": 56,
   "metadata": {
    "execution": {
     "iopub.execute_input": "2021-03-12T11:42:46.043901Z",
     "iopub.status.busy": "2021-03-12T11:42:46.042732Z",
     "iopub.status.idle": "2021-03-12T11:42:46.046575Z",
     "shell.execute_reply": "2021-03-12T11:42:46.047411Z"
    },
    "papermill": {
     "duration": 0.112467,
     "end_time": "2021-03-12T11:42:46.047686",
     "exception": false,
     "start_time": "2021-03-12T11:42:45.935219",
     "status": "completed"
    },
    "tags": []
   },
   "outputs": [
    {
     "name": "stdout",
     "output_type": "stream",
     "text": [
      "Employee name is Ammara\n",
      "Employee age is 20\n",
      "Employee salary is 50000\n",
      "Employee gender is Male\n",
      "Employee name is Ali\n",
      "Employee age is 30\n",
      "Employee salary is 100000\n",
      "Employee gender is Male\n"
     ]
    }
   ],
   "source": [
    "#Inheritance in Python\n",
    "#By using inheritance concept ,one class can derive properties of another class.It consists of parent class and child class or classes.\n",
    "#Example of Inheritance\n",
    "#Firstly,creating parent class\n",
    "class Employee:\n",
    "#Following code is used for creating constructor\n",
    "  def __init__(self, name, age,salary,gender):\n",
    "    self.name = name\n",
    "    self.age = age\n",
    "    self.salary = salary\n",
    "    self.gender = gender\n",
    "#Following function is used for displaying employee details\n",
    "  def display(self):\n",
    "    print(\"Employee name is\",self.name)\n",
    "    print(\"Employee age is\",self.age)\n",
    "    print(\"Employee salary is\",self.salary)\n",
    "    print(\"Employee gender is\",self.gender)\n",
    "#Creating object \"p1\"    \n",
    "p1 = Employee('Ammara',20,50000,'Male')\n",
    "#calling function using object\n",
    "p1.display()\n",
    "#Child class\n",
    "class Another_employee(Employee):\n",
    "   def details(self):\n",
    "        print(\"I am a car\")\n",
    "#creating child object\n",
    "c1 = Another_employee('Ali',30,100000,'Male')\n",
    "#calling parent class function by using child class object\n",
    "c1.display()\n",
    "#Here you can see that we can use parent class(Employee) functions in child class(Another_employee) as shown in following output section."
   ]
  },
  {
   "cell_type": "code",
   "execution_count": 57,
   "metadata": {
    "execution": {
     "iopub.execute_input": "2021-03-12T11:42:46.253141Z",
     "iopub.status.busy": "2021-03-12T11:42:46.252217Z",
     "iopub.status.idle": "2021-03-12T11:42:46.255459Z",
     "shell.execute_reply": "2021-03-12T11:42:46.255987Z"
    },
    "papermill": {
     "duration": 0.109932,
     "end_time": "2021-03-12T11:42:46.256175",
     "exception": false,
     "start_time": "2021-03-12T11:42:46.146243",
     "status": "completed"
    },
    "tags": []
   },
   "outputs": [
    {
     "name": "stdout",
     "output_type": "stream",
     "text": [
      "Inside Parent\n",
      "Inside Child\n"
     ]
    }
   ],
   "source": [
    "# method overriding using Inheritance\n",
    "# Defining parent class \n",
    "class Parent(): \n",
    "# Creating Constructor \n",
    " def __init__(self): \n",
    "  self.value = \"Inside Parent\"\n",
    "# Parent's show method \n",
    " def show(self): \n",
    "  print(self.value) \n",
    "# Defining child class \n",
    "class Child(Parent): \n",
    "# Creating Constructor\n",
    " def __init__(self): \n",
    "  self.value = \"Inside Child\"\n",
    "# Child's show method \n",
    " def show(self): \n",
    "  print(self.value) \n",
    "# Driver's code \n",
    "obj1 = Parent() \n",
    "obj2 = Child() \n",
    "\n",
    "obj1.show() \n",
    "obj2.show() \n",
    "#Here output shows that  executed will be determined by the object that is used to invoke it.\n",
    "#If an object of a parent class is used to invoke the method, then the version in the parent class will be executed and same for child class. "
   ]
  },
  {
   "cell_type": "code",
   "execution_count": 58,
   "metadata": {
    "execution": {
     "iopub.execute_input": "2021-03-12T11:42:46.464902Z",
     "iopub.status.busy": "2021-03-12T11:42:46.463961Z",
     "iopub.status.idle": "2021-03-12T11:42:46.466775Z",
     "shell.execute_reply": "2021-03-12T11:42:46.466192Z"
    },
    "papermill": {
     "duration": 0.107717,
     "end_time": "2021-03-12T11:42:46.466923",
     "exception": false,
     "start_time": "2021-03-12T11:42:46.359206",
     "status": "completed"
    },
    "tags": []
   },
   "outputs": [],
   "source": [
    "#7-Libraries in Python\n",
    "#Python library is a collection of functions and methods that allows you to perform many actions without writing your code.\n",
    "#We will discuss about important libraries like NumPy,matplotlib and Pandas etc.\n",
    "#Such libraries make our task easier and effective."
   ]
  },
  {
   "cell_type": "code",
   "execution_count": 59,
   "metadata": {
    "execution": {
     "iopub.execute_input": "2021-03-12T11:42:46.676323Z",
     "iopub.status.busy": "2021-03-12T11:42:46.675579Z",
     "iopub.status.idle": "2021-03-12T11:42:46.680269Z",
     "shell.execute_reply": "2021-03-12T11:42:46.679771Z"
    },
    "papermill": {
     "duration": 0.113131,
     "end_time": "2021-03-12T11:42:46.680415",
     "exception": false,
     "start_time": "2021-03-12T11:42:46.567284",
     "status": "completed"
    },
    "tags": []
   },
   "outputs": [
    {
     "data": {
      "text/plain": [
       "(array([1, 2, 3, 4, 5]),\n",
       " array([[ 10,  20,  30,  40,  50],\n",
       "        [ 60,  70,  80,  90, 100]]),\n",
       " numpy.ndarray)"
      ]
     },
     "execution_count": 59,
     "metadata": {},
     "output_type": "execute_result"
    }
   ],
   "source": [
    "#8-NumPy Liabrary\n",
    "#NumPy stands for Numerical Python and is the core library for numeric and scientific computing.\n",
    "#It consists of multi-dimentional array objects and a collection of routines for processing those arrays. \n",
    "#Creating  single-dimentional NumPy Array\n",
    "import numpy as np\n",
    "n1=np.array([1,2,3,4,5])\n",
    "n1\n",
    "#Creating multi-dimentional Numpy Array\n",
    "import numpy as np\n",
    "n2=np.array([[10,20,30,40,50],[60,70,80,90,100]])\n",
    "n2\n",
    "#Displaying single and double dimentional arrays\n",
    "n1,n2,type(n2)"
   ]
  },
  {
   "cell_type": "code",
   "execution_count": 60,
   "metadata": {
    "execution": {
     "iopub.execute_input": "2021-03-12T11:42:46.888175Z",
     "iopub.status.busy": "2021-03-12T11:42:46.887433Z",
     "iopub.status.idle": "2021-03-12T11:42:46.891866Z",
     "shell.execute_reply": "2021-03-12T11:42:46.892400Z"
    },
    "papermill": {
     "duration": 0.111186,
     "end_time": "2021-03-12T11:42:46.892579",
     "exception": false,
     "start_time": "2021-03-12T11:42:46.781393",
     "status": "completed"
    },
    "tags": []
   },
   "outputs": [
    {
     "data": {
      "text/plain": [
       "(array([[0., 0.]]),\n",
       " array([[0., 0., 0., 0., 0.],\n",
       "        [0., 0., 0., 0., 0.],\n",
       "        [0., 0., 0., 0., 0.],\n",
       "        [0., 0., 0., 0., 0.],\n",
       "        [0., 0., 0., 0., 0.]]))"
      ]
     },
     "execution_count": 60,
     "metadata": {},
     "output_type": "execute_result"
    }
   ],
   "source": [
    "#Initializing NumPy Array\n",
    "#Now,we initialize NumPy Array using zeros method.\n",
    "import numpy as np\n",
    "n1=np.zeros((1,2))\n",
    "n1\n",
    "#In above statement 1 represents number of rows and 2 represents  number of columns.\n",
    "import numpy as np\n",
    "n2=np.zeros((5,5))\n",
    "n2\n",
    "#Here we implement both arrays\n",
    "n1,n2"
   ]
  },
  {
   "cell_type": "code",
   "execution_count": 61,
   "metadata": {
    "execution": {
     "iopub.execute_input": "2021-03-12T11:42:47.102414Z",
     "iopub.status.busy": "2021-03-12T11:42:47.101390Z",
     "iopub.status.idle": "2021-03-12T11:42:47.106396Z",
     "shell.execute_reply": "2021-03-12T11:42:47.105792Z"
    },
    "papermill": {
     "duration": 0.112113,
     "end_time": "2021-03-12T11:42:47.106541",
     "exception": false,
     "start_time": "2021-03-12T11:42:46.994428",
     "status": "completed"
    },
    "tags": []
   },
   "outputs": [
    {
     "data": {
      "text/plain": [
       "array([[10, 10, 10, 10],\n",
       "       [10, 10, 10, 10],\n",
       "       [10, 10, 10, 10],\n",
       "       [10, 10, 10, 10]])"
      ]
     },
     "execution_count": 61,
     "metadata": {},
     "output_type": "execute_result"
    }
   ],
   "source": [
    "#Initializing NumPy array using same number\n",
    "import numpy as np\n",
    "n1=np.full((4,4),10)\n",
    "n1"
   ]
  },
  {
   "cell_type": "code",
   "execution_count": 62,
   "metadata": {
    "execution": {
     "iopub.execute_input": "2021-03-12T11:42:47.315885Z",
     "iopub.status.busy": "2021-03-12T11:42:47.315088Z",
     "iopub.status.idle": "2021-03-12T11:42:47.319310Z",
     "shell.execute_reply": "2021-03-12T11:42:47.318602Z"
    },
    "papermill": {
     "duration": 0.111715,
     "end_time": "2021-03-12T11:42:47.319454",
     "exception": false,
     "start_time": "2021-03-12T11:42:47.207739",
     "status": "completed"
    },
    "tags": []
   },
   "outputs": [
    {
     "data": {
      "text/plain": [
       "(array([10, 11, 12, 13, 14, 15, 16, 17, 18, 19]), array([10, 15, 20, 25]))"
      ]
     },
     "execution_count": 62,
     "metadata": {},
     "output_type": "execute_result"
    }
   ],
   "source": [
    "#Initializing NumPy array within a range\n",
    "import numpy as np\n",
    "n2=np.arange(10,20)\n",
    "n2\n",
    "#Initializing NumPy array using gap of 5 within range \n",
    "n3=np.arange(10,30,5)\n",
    "n3\n",
    "#Displaying both of these ranges\n",
    "n2,n3\n",
    "#Here you can see that the last value in range(20 and 30) is not displayed,because in range last value is not included. "
   ]
  },
  {
   "cell_type": "code",
   "execution_count": 63,
   "metadata": {
    "execution": {
     "iopub.execute_input": "2021-03-12T11:42:47.533307Z",
     "iopub.status.busy": "2021-03-12T11:42:47.532358Z",
     "iopub.status.idle": "2021-03-12T11:42:47.537307Z",
     "shell.execute_reply": "2021-03-12T11:42:47.536747Z"
    },
    "papermill": {
     "duration": 0.11385,
     "end_time": "2021-03-12T11:42:47.537452",
     "exception": false,
     "start_time": "2021-03-12T11:42:47.423602",
     "status": "completed"
    },
    "tags": []
   },
   "outputs": [
    {
     "data": {
      "text/plain": [
       "array([18, 47, 35, 81, 40])"
      ]
     },
     "execution_count": 63,
     "metadata": {},
     "output_type": "execute_result"
    }
   ],
   "source": [
    "#Initializing NumPy array with random numbers\n",
    "import numpy as np\n",
    "n1=np.random.randint(1,100,5)\n",
    "n1\n",
    "#In above statement '5' shows that five random integers are required from 1 to 100.\n",
    "#Here note that if we again run these set of lines then random integers will change every time."
   ]
  },
  {
   "cell_type": "code",
   "execution_count": 64,
   "metadata": {
    "execution": {
     "iopub.execute_input": "2021-03-12T11:42:47.755397Z",
     "iopub.status.busy": "2021-03-12T11:42:47.754539Z",
     "iopub.status.idle": "2021-03-12T11:42:47.759160Z",
     "shell.execute_reply": "2021-03-12T11:42:47.758594Z"
    },
    "papermill": {
     "duration": 0.117857,
     "end_time": "2021-03-12T11:42:47.759332",
     "exception": false,
     "start_time": "2021-03-12T11:42:47.641475",
     "status": "completed"
    },
    "tags": []
   },
   "outputs": [
    {
     "data": {
      "text/plain": [
       "((2, 3),\n",
       " array([[1, 2, 3],\n",
       "        [4, 5, 6]]))"
      ]
     },
     "execution_count": 64,
     "metadata": {},
     "output_type": "execute_result"
    }
   ],
   "source": [
    "#Checking the shape of NumPy arrays\n",
    "import numpy as np\n",
    "n1=np.array([[1,2,3],[4,5,6]])\n",
    "#Following statement is used for checking shape and of NumPy arrays\n",
    "n1.shape\n",
    "#Now,printing shape and size of array together\n",
    "n1.shape,n1\n",
    "#In output section,(2,3) shows shape of arrays"
   ]
  },
  {
   "cell_type": "code",
   "execution_count": 65,
   "metadata": {
    "execution": {
     "iopub.execute_input": "2021-03-12T11:42:47.971239Z",
     "iopub.status.busy": "2021-03-12T11:42:47.970297Z",
     "iopub.status.idle": "2021-03-12T11:42:47.974596Z",
     "shell.execute_reply": "2021-03-12T11:42:47.975123Z"
    },
    "papermill": {
     "duration": 0.112912,
     "end_time": "2021-03-12T11:42:47.975297",
     "exception": false,
     "start_time": "2021-03-12T11:42:47.862385",
     "status": "completed"
    },
    "tags": []
   },
   "outputs": [
    {
     "data": {
      "text/plain": [
       "((6, 1),\n",
       " array([[1],\n",
       "        [2],\n",
       "        [3],\n",
       "        [4],\n",
       "        [5],\n",
       "        [6]]))"
      ]
     },
     "execution_count": 65,
     "metadata": {},
     "output_type": "execute_result"
    }
   ],
   "source": [
    "#Changing the shape of NumPy arrays\n",
    "n1.shape = (6,1)\n",
    "n1.shape,n1\n",
    "#In output section,(6,1) shows shape of arrays."
   ]
  },
  {
   "cell_type": "code",
   "execution_count": 66,
   "metadata": {
    "execution": {
     "iopub.execute_input": "2021-03-12T11:42:48.189125Z",
     "iopub.status.busy": "2021-03-12T11:42:48.188436Z",
     "iopub.status.idle": "2021-03-12T11:42:48.192667Z",
     "shell.execute_reply": "2021-03-12T11:42:48.192145Z"
    },
    "papermill": {
     "duration": 0.114072,
     "end_time": "2021-03-12T11:42:48.192829",
     "exception": false,
     "start_time": "2021-03-12T11:42:48.078757",
     "status": "completed"
    },
    "tags": []
   },
   "outputs": [
    {
     "data": {
      "text/plain": [
       "array([[10, 20, 30],\n",
       "       [40, 50, 60]])"
      ]
     },
     "execution_count": 66,
     "metadata": {},
     "output_type": "execute_result"
    }
   ],
   "source": [
    "#Joining NumPy arrays\n",
    "#Jioning can be done by using these three ways. 1-vertical_stack 2_horizontal_stack 3_column_stack\n",
    "#Firstly,we discuss about \"vertical_stack\"\n",
    "import numpy as np\n",
    "n1=np.array([10,20,30])\n",
    "n2=np.array([40,50,60])\n",
    "np.vstack((n1,n2))\n",
    "#Here you noticed that values are stacked in vertical manner"
   ]
  },
  {
   "cell_type": "code",
   "execution_count": 67,
   "metadata": {
    "execution": {
     "iopub.execute_input": "2021-03-12T11:42:48.409878Z",
     "iopub.status.busy": "2021-03-12T11:42:48.408899Z",
     "iopub.status.idle": "2021-03-12T11:42:48.413432Z",
     "shell.execute_reply": "2021-03-12T11:42:48.412817Z"
    },
    "papermill": {
     "duration": 0.117275,
     "end_time": "2021-03-12T11:42:48.413571",
     "exception": false,
     "start_time": "2021-03-12T11:42:48.296296",
     "status": "completed"
    },
    "tags": []
   },
   "outputs": [
    {
     "data": {
      "text/plain": [
       "array([10, 20, 30, 40, 50, 60])"
      ]
     },
     "execution_count": 67,
     "metadata": {},
     "output_type": "execute_result"
    }
   ],
   "source": [
    "#Horizontal_stack\n",
    "import numpy as np\n",
    "n1=np.array([10,20,30])\n",
    "n2=np.array([40,50,60])\n",
    "np.hstack((n1,n2))\n",
    "#Here you noticed that values are stacked in horizontal manner"
   ]
  },
  {
   "cell_type": "code",
   "execution_count": 68,
   "metadata": {
    "execution": {
     "iopub.execute_input": "2021-03-12T11:42:48.625991Z",
     "iopub.status.busy": "2021-03-12T11:42:48.625128Z",
     "iopub.status.idle": "2021-03-12T11:42:48.628615Z",
     "shell.execute_reply": "2021-03-12T11:42:48.629154Z"
    },
    "papermill": {
     "duration": 0.113168,
     "end_time": "2021-03-12T11:42:48.629347",
     "exception": false,
     "start_time": "2021-03-12T11:42:48.516179",
     "status": "completed"
    },
    "tags": []
   },
   "outputs": [
    {
     "data": {
      "text/plain": [
       "array([[10, 40],\n",
       "       [20, 50],\n",
       "       [30, 60]])"
      ]
     },
     "execution_count": 68,
     "metadata": {},
     "output_type": "execute_result"
    }
   ],
   "source": [
    "#column_stack\n",
    "import numpy as np\n",
    "n1=np.array([10,20,30])\n",
    "n2=np.array([40,50,60])\n",
    "np.column_stack((n1,n2))\n",
    "#Here you noticed that first array is stored as first column and second array as second column."
   ]
  },
  {
   "cell_type": "code",
   "execution_count": 69,
   "metadata": {
    "execution": {
     "iopub.execute_input": "2021-03-12T11:42:48.840840Z",
     "iopub.status.busy": "2021-03-12T11:42:48.839834Z",
     "iopub.status.idle": "2021-03-12T11:42:48.846891Z",
     "shell.execute_reply": "2021-03-12T11:42:48.847339Z"
    },
    "papermill": {
     "duration": 0.113555,
     "end_time": "2021-03-12T11:42:48.847515",
     "exception": false,
     "start_time": "2021-03-12T11:42:48.733960",
     "status": "completed"
    },
    "tags": []
   },
   "outputs": [
    {
     "data": {
      "text/plain": [
       "array([50, 60])"
      ]
     },
     "execution_count": 69,
     "metadata": {},
     "output_type": "execute_result"
    }
   ],
   "source": [
    "#Intersection between two arrays\n",
    "import numpy as np\n",
    "n1=np.array([10,20,30,40,50,60])\n",
    "n2=np.array([50,60,70,80,90,100])\n",
    "np.intersect1d(n1,n2)"
   ]
  },
  {
   "cell_type": "code",
   "execution_count": 70,
   "metadata": {
    "execution": {
     "iopub.execute_input": "2021-03-12T11:42:49.059232Z",
     "iopub.status.busy": "2021-03-12T11:42:49.058169Z",
     "iopub.status.idle": "2021-03-12T11:42:49.066227Z",
     "shell.execute_reply": "2021-03-12T11:42:49.065644Z"
    },
    "papermill": {
     "duration": 0.115551,
     "end_time": "2021-03-12T11:42:49.066382",
     "exception": false,
     "start_time": "2021-03-12T11:42:48.950831",
     "status": "completed"
    },
    "tags": []
   },
   "outputs": [
    {
     "data": {
      "text/plain": [
       "array([10, 20, 30, 40])"
      ]
     },
     "execution_count": 70,
     "metadata": {},
     "output_type": "execute_result"
    }
   ],
   "source": [
    "#Check difference between two arrays\n",
    "n1=np.array([10,20,30,40,50,60])\n",
    "n2=np.array([50,60,70,80,90,100])\n",
    "np.setdiff1d(n1,n2)\n",
    "#In output section,all values which are not present in second array is displayed."
   ]
  },
  {
   "cell_type": "code",
   "execution_count": 71,
   "metadata": {
    "execution": {
     "iopub.execute_input": "2021-03-12T11:42:49.282969Z",
     "iopub.status.busy": "2021-03-12T11:42:49.282088Z",
     "iopub.status.idle": "2021-03-12T11:42:49.285587Z",
     "shell.execute_reply": "2021-03-12T11:42:49.286135Z"
    },
    "papermill": {
     "duration": 0.114443,
     "end_time": "2021-03-12T11:42:49.286310",
     "exception": false,
     "start_time": "2021-03-12T11:42:49.171867",
     "status": "completed"
    },
    "tags": []
   },
   "outputs": [
    {
     "data": {
      "text/plain": [
       "array([ 70,  80,  90, 100])"
      ]
     },
     "execution_count": 71,
     "metadata": {},
     "output_type": "execute_result"
    }
   ],
   "source": [
    "#Check difference between two arrays\n",
    "n1=np.array([10,20,30,40,50,60])\n",
    "n2=np.array([50,60,70,80,90,100])\n",
    "np.setdiff1d(n2,n1)\n",
    "#In output section,all values which are not present in first array is displayed."
   ]
  },
  {
   "cell_type": "code",
   "execution_count": 72,
   "metadata": {
    "execution": {
     "iopub.execute_input": "2021-03-12T11:42:49.524685Z",
     "iopub.status.busy": "2021-03-12T11:42:49.523768Z",
     "iopub.status.idle": "2021-03-12T11:42:49.533053Z",
     "shell.execute_reply": "2021-03-12T11:42:49.533543Z"
    },
    "papermill": {
     "duration": 0.126446,
     "end_time": "2021-03-12T11:42:49.533727",
     "exception": false,
     "start_time": "2021-03-12T11:42:49.407281",
     "status": "completed"
    },
    "tags": []
   },
   "outputs": [
    {
     "data": {
      "text/plain": [
       "(100, array([40, 60]), array([30, 70]))"
      ]
     },
     "execution_count": 72,
     "metadata": {},
     "output_type": "execute_result"
    }
   ],
   "source": [
    "#Addition of Numpy arrays\n",
    "import numpy as np\n",
    "n1=np.array([10,20])\n",
    "n2=np.array([30,40])\n",
    "#Following statement is used to add all elements in both arrays\n",
    "np.sum([n1,n2])\n",
    "#Following statement is used to add columns in both arrays\n",
    "np.sum([n1,n2],axis=0)\n",
    "#Following statement is used to add rows in both arrays\n",
    "np.sum([n1,n2],axis=0)\n",
    "#Now,displaying all above three statements\n",
    "np.sum([n1,n2]),np.sum([n1,n2],axis=0),np.sum([n1,n2],axis=1)"
   ]
  },
  {
   "cell_type": "code",
   "execution_count": 73,
   "metadata": {
    "execution": {
     "iopub.execute_input": "2021-03-12T11:42:49.748093Z",
     "iopub.status.busy": "2021-03-12T11:42:49.747139Z",
     "iopub.status.idle": "2021-03-12T11:42:49.756607Z",
     "shell.execute_reply": "2021-03-12T11:42:49.757095Z"
    },
    "papermill": {
     "duration": 0.119137,
     "end_time": "2021-03-12T11:42:49.757277",
     "exception": false,
     "start_time": "2021-03-12T11:42:49.638140",
     "status": "completed"
    },
    "tags": []
   },
   "outputs": [
    {
     "data": {
      "text/plain": [
       "(array([11, 21, 31]),\n",
       " array([ 9, 19, 29]),\n",
       " array([20, 40, 60]),\n",
       " array([ 5., 10., 15.]))"
      ]
     },
     "execution_count": 73,
     "metadata": {},
     "output_type": "execute_result"
    }
   ],
   "source": [
    "#Basic operations on array using NumPy\n",
    "#Addition operation\n",
    "import numpy as np\n",
    "n1=np.array([10,20,30])\n",
    "n1=n1+1\n",
    "n1\n",
    "#subtraction operation\n",
    "n2=np.array([10,20,30])\n",
    "n2=n2-1\n",
    "n2\n",
    "#Multiplication operation\n",
    "n3=np.array([10,20,30])\n",
    "n3=n3*2\n",
    "n3\n",
    "#Division operation\n",
    "n4=np.array([10,20,30])\n",
    "n4=n4/2\n",
    "n4\n",
    "#Now,we display all above four operations\n",
    "n1,n2,n3,n4"
   ]
  },
  {
   "cell_type": "code",
   "execution_count": 74,
   "metadata": {
    "execution": {
     "iopub.execute_input": "2021-03-12T11:42:49.971246Z",
     "iopub.status.busy": "2021-03-12T11:42:49.970293Z",
     "iopub.status.idle": "2021-03-12T11:42:49.982446Z",
     "shell.execute_reply": "2021-03-12T11:42:49.981796Z"
    },
    "papermill": {
     "duration": 0.120674,
     "end_time": "2021-03-12T11:42:49.982586",
     "exception": false,
     "start_time": "2021-03-12T11:42:49.861912",
     "status": "completed"
    },
    "tags": []
   },
   "outputs": [
    {
     "data": {
      "text/plain": [
       "(35.0, 50.0, 31.480021212464106)"
      ]
     },
     "execution_count": 74,
     "metadata": {},
     "output_type": "execute_result"
    }
   ],
   "source": [
    "#Basic math functions using NumPy\n",
    "#Mean function\n",
    "import numpy as np\n",
    "n1=np.array([10,20,30,40,50,60])\n",
    "np.mean(n1)\n",
    "#Median function\n",
    "n2=np.array([1,10,20,30,40,50,60,70,80,90,100])\n",
    "np.median(n2)\n",
    "#Standard Daviation function\n",
    "n3=np.array([1,10,20,30,40,50,60,70,80,90,100])\n",
    "np.std(n3)\n",
    "#Now,we display all above functions.\n",
    "np.mean(n1),np.median(n2),np.std(n3)"
   ]
  },
  {
   "cell_type": "code",
   "execution_count": 75,
   "metadata": {
    "execution": {
     "iopub.execute_input": "2021-03-12T11:42:50.201983Z",
     "iopub.status.busy": "2021-03-12T11:42:50.201296Z",
     "iopub.status.idle": "2021-03-12T11:42:50.206363Z",
     "shell.execute_reply": "2021-03-12T11:42:50.206869Z"
    },
    "papermill": {
     "duration": 0.117248,
     "end_time": "2021-03-12T11:42:50.207047",
     "exception": false,
     "start_time": "2021-03-12T11:42:50.089799",
     "status": "completed"
    },
    "tags": []
   },
   "outputs": [
    {
     "data": {
      "text/plain": [
       "array([10, 20, 30, 40, 50, 60])"
      ]
     },
     "execution_count": 75,
     "metadata": {},
     "output_type": "execute_result"
    }
   ],
   "source": [
    "#Saving and Loading NumPy array\n",
    "import numpy as np\n",
    "n1=np.array([10,20,30,40,50,60])\n",
    "#Following statement is used to store NumPy array,we can assign any name as I assign \"Ammar\" .\n",
    "np.save('Ammar',n1)\n",
    "#Following statement is used for loading numPy array\n",
    "n2=np.load('Ammar.npy')\n",
    "n2"
   ]
  },
  {
   "cell_type": "code",
   "execution_count": 76,
   "metadata": {
    "execution": {
     "iopub.execute_input": "2021-03-12T11:42:50.424900Z",
     "iopub.status.busy": "2021-03-12T11:42:50.424080Z",
     "iopub.status.idle": "2021-03-12T11:42:50.432369Z",
     "shell.execute_reply": "2021-03-12T11:42:50.432960Z"
    },
    "papermill": {
     "duration": 0.119414,
     "end_time": "2021-03-12T11:42:50.433133",
     "exception": false,
     "start_time": "2021-03-12T11:42:50.313719",
     "status": "completed"
    },
    "tags": []
   },
   "outputs": [
    {
     "data": {
      "text/plain": [
       "(0    10\n",
       " 1    20\n",
       " 2    30\n",
       " 3    40\n",
       " 4    50\n",
       " dtype: int64,\n",
       " pandas.core.series.Series)"
      ]
     },
     "execution_count": 76,
     "metadata": {},
     "output_type": "execute_result"
    }
   ],
   "source": [
    "#9-Pandas Liabrary\n",
    "#Pandas stands for Panel Data and is the core library for data manipulation and data analysis.\n",
    "#It consists of single-dimentional(also called Series object) and multi-dimentional(also called Data frame) data structures.\n",
    "#Series object (It is a one-dimentional labeled array)\n",
    "import pandas as pd\n",
    "#Creating a series object\n",
    "s1=pd.Series([10,20,30,40,50])\n",
    "s1,type(s1)\n",
    "#Here in output section,0-4 shows index number,it also shows its type."
   ]
  },
  {
   "cell_type": "code",
   "execution_count": 77,
   "metadata": {
    "execution": {
     "iopub.execute_input": "2021-03-12T11:42:50.650760Z",
     "iopub.status.busy": "2021-03-12T11:42:50.650063Z",
     "iopub.status.idle": "2021-03-12T11:42:50.666478Z",
     "shell.execute_reply": "2021-03-12T11:42:50.667088Z"
    },
    "papermill": {
     "duration": 0.127172,
     "end_time": "2021-03-12T11:42:50.667264",
     "exception": false,
     "start_time": "2021-03-12T11:42:50.540092",
     "status": "completed"
    },
    "tags": []
   },
   "outputs": [
    {
     "data": {
      "text/plain": [
       "a    10\n",
       "b    20\n",
       "c    30\n",
       "d    40\n",
       "e    50\n",
       "dtype: int64"
      ]
     },
     "execution_count": 77,
     "metadata": {},
     "output_type": "execute_result"
    }
   ],
   "source": [
    "#Changing numeric index into alphabetic index\n",
    "import pandas as pd\n",
    "s1=pd.Series([10,20,30,40,50],index=['a','b','c','d','e'])\n",
    "s1"
   ]
  },
  {
   "cell_type": "code",
   "execution_count": 78,
   "metadata": {
    "execution": {
     "iopub.execute_input": "2021-03-12T11:42:50.888180Z",
     "iopub.status.busy": "2021-03-12T11:42:50.887494Z",
     "iopub.status.idle": "2021-03-12T11:42:50.895826Z",
     "shell.execute_reply": "2021-03-12T11:42:50.895182Z"
    },
    "papermill": {
     "duration": 0.119727,
     "end_time": "2021-03-12T11:42:50.895967",
     "exception": false,
     "start_time": "2021-03-12T11:42:50.776240",
     "status": "completed"
    },
    "tags": []
   },
   "outputs": [
    {
     "data": {
      "text/plain": [
       "a    10\n",
       "b    20\n",
       "c    30\n",
       "dtype: int64"
      ]
     },
     "execution_count": 78,
     "metadata": {},
     "output_type": "execute_result"
    }
   ],
   "source": [
    "#Series object using Dictionary\n",
    "import pandas as pd\n",
    "pd.Series({'a':10,'b':20,'c':30})"
   ]
  },
  {
   "cell_type": "code",
   "execution_count": 79,
   "metadata": {
    "execution": {
     "iopub.execute_input": "2021-03-12T11:42:51.130913Z",
     "iopub.status.busy": "2021-03-12T11:42:51.129987Z",
     "iopub.status.idle": "2021-03-12T11:42:51.133787Z",
     "shell.execute_reply": "2021-03-12T11:42:51.134320Z"
    },
    "papermill": {
     "duration": 0.128132,
     "end_time": "2021-03-12T11:42:51.134489",
     "exception": false,
     "start_time": "2021-03-12T11:42:51.006357",
     "status": "completed"
    },
    "tags": []
   },
   "outputs": [
    {
     "data": {
      "text/plain": [
       "c    30.0\n",
       "b    20.0\n",
       "a    10.0\n",
       "z     NaN\n",
       "dtype: float64"
      ]
     },
     "execution_count": 79,
     "metadata": {},
     "output_type": "execute_result"
    }
   ],
   "source": [
    "#Series object using Dictionary\n",
    "s1=pd.Series({'a':10,'b':20,'c':30},index=['c','b','a','z'])\n",
    "s1\n",
    "#In output section you can see that by changing index number values also changes and if we add extra index then it will result \"NaN\"."
   ]
  },
  {
   "cell_type": "code",
   "execution_count": 80,
   "metadata": {
    "execution": {
     "iopub.execute_input": "2021-03-12T11:42:51.404242Z",
     "iopub.status.busy": "2021-03-12T11:42:51.403312Z",
     "iopub.status.idle": "2021-03-12T11:42:51.414202Z",
     "shell.execute_reply": "2021-03-12T11:42:51.414760Z"
    },
    "papermill": {
     "duration": 0.123068,
     "end_time": "2021-03-12T11:42:51.414934",
     "exception": false,
     "start_time": "2021-03-12T11:42:51.291866",
     "status": "completed"
    },
    "tags": []
   },
   "outputs": [
    {
     "data": {
      "text/plain": [
       "(7,\n",
       " 0    1\n",
       " 1    2\n",
       " dtype: int64,\n",
       " 6    7\n",
       " 7    8\n",
       " dtype: int64)"
      ]
     },
     "execution_count": 80,
     "metadata": {},
     "output_type": "execute_result"
    }
   ],
   "source": [
    "#Extracting single and multiple elements from list using Series object\n",
    "import pandas as pd\n",
    "s1 = pd.Series([1,2,3,4,5,6,7,8])\n",
    "#Following statement is used for extracting single element from list\n",
    "s1[6]\n",
    "#Following statement is used for extracting multiple elements from start\n",
    "s1 = pd.Series([1,2,3,4,5,6,7,8])\n",
    "s1[:2]\n",
    "#Here notice that index number two is not included.\n",
    "#Following statement is used for extracting multiple elements from end\n",
    "s1 = pd.Series([1,2,3,4,5,6,7,8])\n",
    "s1[-2:]\n",
    "#Displaying all above statements.\n",
    "s1[6],s1[:2],s1[-2:]"
   ]
  },
  {
   "cell_type": "code",
   "execution_count": 81,
   "metadata": {
    "execution": {
     "iopub.execute_input": "2021-03-12T11:42:51.636795Z",
     "iopub.status.busy": "2021-03-12T11:42:51.635812Z",
     "iopub.status.idle": "2021-03-12T11:42:51.665519Z",
     "shell.execute_reply": "2021-03-12T11:42:51.666086Z"
    },
    "papermill": {
     "duration": 0.142835,
     "end_time": "2021-03-12T11:42:51.666265",
     "exception": false,
     "start_time": "2021-03-12T11:42:51.523430",
     "status": "completed"
    },
    "tags": []
   },
   "outputs": [
    {
     "data": {
      "text/plain": [
       "(0    2\n",
       " 1    3\n",
       " 2    4\n",
       " 3    5\n",
       " dtype: int64,\n",
       " 0    11\n",
       " 1    22\n",
       " 2    33\n",
       " 3    44\n",
       " dtype: int64,\n",
       " 0     9\n",
       " 1    18\n",
       " 2    27\n",
       " 3    36\n",
       " dtype: int64,\n",
       " 0     10\n",
       " 1     40\n",
       " 2     90\n",
       " 3    160\n",
       " dtype: int64,\n",
       " 0    10.0\n",
       " 1    10.0\n",
       " 2    10.0\n",
       " 3    10.0\n",
       " dtype: float64)"
      ]
     },
     "execution_count": 81,
     "metadata": {},
     "output_type": "execute_result"
    }
   ],
   "source": [
    "#Basic math operations on series object\n",
    "import pandas as pd\n",
    "s1=pd.Series([1,2,3,4])\n",
    "s2=pd.Series([10,20,30,40])\n",
    "#Adding any value to all series elements\n",
    "s1 +1\n",
    "#In above statement we can also perform subtraction operation by using minus(-) sign,Similarly multiplication and division operation can also be performed.\n",
    "#Adding two series objects\n",
    "s1+s2\n",
    "#Subtracting two series objects\n",
    "s1-s2\n",
    "#Multiplying two series objects\n",
    "s1*s2\n",
    "#Division of these two series objects\n",
    "s1/s2\n",
    "#Displaying both above operations\n",
    "s1 +1,s1+s2,s2-s1,s1*s2,s2/s1"
   ]
  },
  {
   "cell_type": "code",
   "execution_count": 82,
   "metadata": {
    "execution": {
     "iopub.execute_input": "2021-03-12T11:42:51.893658Z",
     "iopub.status.busy": "2021-03-12T11:42:51.892730Z",
     "iopub.status.idle": "2021-03-12T11:42:51.909530Z",
     "shell.execute_reply": "2021-03-12T11:42:51.909013Z"
    },
    "papermill": {
     "duration": 0.130332,
     "end_time": "2021-03-12T11:42:51.909679",
     "exception": false,
     "start_time": "2021-03-12T11:42:51.779347",
     "status": "completed"
    },
    "tags": []
   },
   "outputs": [
    {
     "data": {
      "text/html": [
       "<div>\n",
       "<style scoped>\n",
       "    .dataframe tbody tr th:only-of-type {\n",
       "        vertical-align: middle;\n",
       "    }\n",
       "\n",
       "    .dataframe tbody tr th {\n",
       "        vertical-align: top;\n",
       "    }\n",
       "\n",
       "    .dataframe thead th {\n",
       "        text-align: right;\n",
       "    }\n",
       "</style>\n",
       "<table border=\"1\" class=\"dataframe\">\n",
       "  <thead>\n",
       "    <tr style=\"text-align: right;\">\n",
       "      <th></th>\n",
       "      <th>Name</th>\n",
       "      <th>Marks</th>\n",
       "    </tr>\n",
       "  </thead>\n",
       "  <tbody>\n",
       "    <tr>\n",
       "      <th>0</th>\n",
       "      <td>Ammara</td>\n",
       "      <td>70</td>\n",
       "    </tr>\n",
       "    <tr>\n",
       "      <th>1</th>\n",
       "      <td>Ahmad</td>\n",
       "      <td>80</td>\n",
       "    </tr>\n",
       "    <tr>\n",
       "      <th>2</th>\n",
       "      <td>Ali</td>\n",
       "      <td>90</td>\n",
       "    </tr>\n",
       "  </tbody>\n",
       "</table>\n",
       "</div>"
      ],
      "text/plain": [
       "     Name  Marks\n",
       "0  Ammara     70\n",
       "1   Ahmad     80\n",
       "2     Ali     90"
      ]
     },
     "execution_count": 82,
     "metadata": {},
     "output_type": "execute_result"
    }
   ],
   "source": [
    "#Dataframe(it is a 2-dimentional(rows and columns) labelled data-structure)\n",
    "#Creating DataFrame using Dictionary\n",
    "import pandas as pd\n",
    "pd.DataFrame({\"Name\":['Ammara','Ahmad','Ali'],\"Marks\":[70,80,90]})\n",
    "#In output section, 0,1,2 shows index number."
   ]
  },
  {
   "cell_type": "code",
   "execution_count": 83,
   "metadata": {
    "execution": {
     "iopub.execute_input": "2021-03-12T11:42:52.133841Z",
     "iopub.status.busy": "2021-03-12T11:42:52.133196Z",
     "iopub.status.idle": "2021-03-12T11:42:52.160921Z",
     "shell.execute_reply": "2021-03-12T11:42:52.161403Z"
    },
    "papermill": {
     "duration": 0.142,
     "end_time": "2021-03-12T11:42:52.161583",
     "exception": false,
     "start_time": "2021-03-12T11:42:52.019583",
     "status": "completed"
    },
    "tags": []
   },
   "outputs": [
    {
     "data": {
      "text/html": [
       "<div>\n",
       "<style scoped>\n",
       "    .dataframe tbody tr th:only-of-type {\n",
       "        vertical-align: middle;\n",
       "    }\n",
       "\n",
       "    .dataframe tbody tr th {\n",
       "        vertical-align: top;\n",
       "    }\n",
       "\n",
       "    .dataframe thead th {\n",
       "        text-align: right;\n",
       "    }\n",
       "</style>\n",
       "<table border=\"1\" class=\"dataframe\">\n",
       "  <thead>\n",
       "    <tr style=\"text-align: right;\">\n",
       "      <th></th>\n",
       "      <th>Id</th>\n",
       "      <th>SepalLengthCm</th>\n",
       "      <th>SepalWidthCm</th>\n",
       "      <th>PetalLengthCm</th>\n",
       "      <th>PetalWidthCm</th>\n",
       "      <th>Species</th>\n",
       "    </tr>\n",
       "  </thead>\n",
       "  <tbody>\n",
       "    <tr>\n",
       "      <th>0</th>\n",
       "      <td>1</td>\n",
       "      <td>5.1</td>\n",
       "      <td>3.5</td>\n",
       "      <td>1.4</td>\n",
       "      <td>0.2</td>\n",
       "      <td>Iris-setosa</td>\n",
       "    </tr>\n",
       "    <tr>\n",
       "      <th>1</th>\n",
       "      <td>2</td>\n",
       "      <td>4.9</td>\n",
       "      <td>3.0</td>\n",
       "      <td>1.4</td>\n",
       "      <td>0.2</td>\n",
       "      <td>Iris-setosa</td>\n",
       "    </tr>\n",
       "    <tr>\n",
       "      <th>2</th>\n",
       "      <td>3</td>\n",
       "      <td>4.7</td>\n",
       "      <td>3.2</td>\n",
       "      <td>1.3</td>\n",
       "      <td>0.2</td>\n",
       "      <td>Iris-setosa</td>\n",
       "    </tr>\n",
       "    <tr>\n",
       "      <th>3</th>\n",
       "      <td>4</td>\n",
       "      <td>4.6</td>\n",
       "      <td>3.1</td>\n",
       "      <td>1.5</td>\n",
       "      <td>0.2</td>\n",
       "      <td>Iris-setosa</td>\n",
       "    </tr>\n",
       "    <tr>\n",
       "      <th>4</th>\n",
       "      <td>5</td>\n",
       "      <td>5.0</td>\n",
       "      <td>3.6</td>\n",
       "      <td>1.4</td>\n",
       "      <td>0.2</td>\n",
       "      <td>Iris-setosa</td>\n",
       "    </tr>\n",
       "  </tbody>\n",
       "</table>\n",
       "</div>"
      ],
      "text/plain": [
       "   Id  SepalLengthCm  SepalWidthCm  PetalLengthCm  PetalWidthCm      Species\n",
       "0   1            5.1           3.5            1.4           0.2  Iris-setosa\n",
       "1   2            4.9           3.0            1.4           0.2  Iris-setosa\n",
       "2   3            4.7           3.2            1.3           0.2  Iris-setosa\n",
       "3   4            4.6           3.1            1.5           0.2  Iris-setosa\n",
       "4   5            5.0           3.6            1.4           0.2  Iris-setosa"
      ]
     },
     "execution_count": 83,
     "metadata": {},
     "output_type": "execute_result"
    }
   ],
   "source": [
    "#Data Frame In-built Functions\n",
    "#There are many commonly used built-in functions.1-head() 2-tail() 3-shape 4-describe() 5-iloc[] 6-loc[]\n",
    "import pandas as pd\n",
    "#1-head() function (This function is used to print first five records of that Dataset)\n",
    "iris=pd.read_csv('../input/iris/Iris.csv')\n",
    "iris.head()\n",
    "# if you have any problem in connecting with \"iris.csv\"dataset you can check this link\"https://www.kaggle.com/dansbecker/finding-your-files-in-kaggle-kernels\"   "
   ]
  },
  {
   "cell_type": "code",
   "execution_count": 84,
   "metadata": {
    "execution": {
     "iopub.execute_input": "2021-03-12T11:42:52.386799Z",
     "iopub.status.busy": "2021-03-12T11:42:52.386134Z",
     "iopub.status.idle": "2021-03-12T11:42:52.402762Z",
     "shell.execute_reply": "2021-03-12T11:42:52.403259Z"
    },
    "papermill": {
     "duration": 0.130849,
     "end_time": "2021-03-12T11:42:52.403435",
     "exception": false,
     "start_time": "2021-03-12T11:42:52.272586",
     "status": "completed"
    },
    "tags": []
   },
   "outputs": [
    {
     "data": {
      "text/html": [
       "<div>\n",
       "<style scoped>\n",
       "    .dataframe tbody tr th:only-of-type {\n",
       "        vertical-align: middle;\n",
       "    }\n",
       "\n",
       "    .dataframe tbody tr th {\n",
       "        vertical-align: top;\n",
       "    }\n",
       "\n",
       "    .dataframe thead th {\n",
       "        text-align: right;\n",
       "    }\n",
       "</style>\n",
       "<table border=\"1\" class=\"dataframe\">\n",
       "  <thead>\n",
       "    <tr style=\"text-align: right;\">\n",
       "      <th></th>\n",
       "      <th>Id</th>\n",
       "      <th>SepalLengthCm</th>\n",
       "      <th>SepalWidthCm</th>\n",
       "      <th>PetalLengthCm</th>\n",
       "      <th>PetalWidthCm</th>\n",
       "      <th>Species</th>\n",
       "    </tr>\n",
       "  </thead>\n",
       "  <tbody>\n",
       "    <tr>\n",
       "      <th>145</th>\n",
       "      <td>146</td>\n",
       "      <td>6.7</td>\n",
       "      <td>3.0</td>\n",
       "      <td>5.2</td>\n",
       "      <td>2.3</td>\n",
       "      <td>Iris-virginica</td>\n",
       "    </tr>\n",
       "    <tr>\n",
       "      <th>146</th>\n",
       "      <td>147</td>\n",
       "      <td>6.3</td>\n",
       "      <td>2.5</td>\n",
       "      <td>5.0</td>\n",
       "      <td>1.9</td>\n",
       "      <td>Iris-virginica</td>\n",
       "    </tr>\n",
       "    <tr>\n",
       "      <th>147</th>\n",
       "      <td>148</td>\n",
       "      <td>6.5</td>\n",
       "      <td>3.0</td>\n",
       "      <td>5.2</td>\n",
       "      <td>2.0</td>\n",
       "      <td>Iris-virginica</td>\n",
       "    </tr>\n",
       "    <tr>\n",
       "      <th>148</th>\n",
       "      <td>149</td>\n",
       "      <td>6.2</td>\n",
       "      <td>3.4</td>\n",
       "      <td>5.4</td>\n",
       "      <td>2.3</td>\n",
       "      <td>Iris-virginica</td>\n",
       "    </tr>\n",
       "    <tr>\n",
       "      <th>149</th>\n",
       "      <td>150</td>\n",
       "      <td>5.9</td>\n",
       "      <td>3.0</td>\n",
       "      <td>5.1</td>\n",
       "      <td>1.8</td>\n",
       "      <td>Iris-virginica</td>\n",
       "    </tr>\n",
       "  </tbody>\n",
       "</table>\n",
       "</div>"
      ],
      "text/plain": [
       "      Id  SepalLengthCm  SepalWidthCm  PetalLengthCm  PetalWidthCm  \\\n",
       "145  146            6.7           3.0            5.2           2.3   \n",
       "146  147            6.3           2.5            5.0           1.9   \n",
       "147  148            6.5           3.0            5.2           2.0   \n",
       "148  149            6.2           3.4            5.4           2.3   \n",
       "149  150            5.9           3.0            5.1           1.8   \n",
       "\n",
       "            Species  \n",
       "145  Iris-virginica  \n",
       "146  Iris-virginica  \n",
       "147  Iris-virginica  \n",
       "148  Iris-virginica  \n",
       "149  Iris-virginica  "
      ]
     },
     "execution_count": 84,
     "metadata": {},
     "output_type": "execute_result"
    }
   ],
   "source": [
    "#2-tail() function (This function is used to print last five records)\n",
    "iris=pd.read_csv('../input/iris/Iris.csv')\n",
    "iris.tail()"
   ]
  },
  {
   "cell_type": "code",
   "execution_count": 85,
   "metadata": {
    "execution": {
     "iopub.execute_input": "2021-03-12T11:42:52.629850Z",
     "iopub.status.busy": "2021-03-12T11:42:52.629192Z",
     "iopub.status.idle": "2021-03-12T11:42:52.639103Z",
     "shell.execute_reply": "2021-03-12T11:42:52.638534Z"
    },
    "papermill": {
     "duration": 0.125269,
     "end_time": "2021-03-12T11:42:52.639255",
     "exception": false,
     "start_time": "2021-03-12T11:42:52.513986",
     "status": "completed"
    },
    "tags": []
   },
   "outputs": [
    {
     "data": {
      "text/plain": [
       "(150, 6)"
      ]
     },
     "execution_count": 85,
     "metadata": {},
     "output_type": "execute_result"
    }
   ],
   "source": [
    "#3-Shape function(Checking total rows and columns in dataset)\n",
    "iris=pd.read_csv('../input/iris/Iris.csv')\n",
    "iris.shape\n",
    "#As,it consist of 99 rows and 9 columns as shown in output section"
   ]
  },
  {
   "cell_type": "code",
   "execution_count": 86,
   "metadata": {
    "execution": {
     "iopub.execute_input": "2021-03-12T11:42:52.869242Z",
     "iopub.status.busy": "2021-03-12T11:42:52.868473Z",
     "iopub.status.idle": "2021-03-12T11:42:52.897301Z",
     "shell.execute_reply": "2021-03-12T11:42:52.896671Z"
    },
    "papermill": {
     "duration": 0.145379,
     "end_time": "2021-03-12T11:42:52.897452",
     "exception": false,
     "start_time": "2021-03-12T11:42:52.752073",
     "status": "completed"
    },
    "tags": []
   },
   "outputs": [
    {
     "data": {
      "text/html": [
       "<div>\n",
       "<style scoped>\n",
       "    .dataframe tbody tr th:only-of-type {\n",
       "        vertical-align: middle;\n",
       "    }\n",
       "\n",
       "    .dataframe tbody tr th {\n",
       "        vertical-align: top;\n",
       "    }\n",
       "\n",
       "    .dataframe thead th {\n",
       "        text-align: right;\n",
       "    }\n",
       "</style>\n",
       "<table border=\"1\" class=\"dataframe\">\n",
       "  <thead>\n",
       "    <tr style=\"text-align: right;\">\n",
       "      <th></th>\n",
       "      <th>Id</th>\n",
       "      <th>SepalLengthCm</th>\n",
       "      <th>SepalWidthCm</th>\n",
       "      <th>PetalLengthCm</th>\n",
       "      <th>PetalWidthCm</th>\n",
       "    </tr>\n",
       "  </thead>\n",
       "  <tbody>\n",
       "    <tr>\n",
       "      <th>count</th>\n",
       "      <td>150.000000</td>\n",
       "      <td>150.000000</td>\n",
       "      <td>150.000000</td>\n",
       "      <td>150.000000</td>\n",
       "      <td>150.000000</td>\n",
       "    </tr>\n",
       "    <tr>\n",
       "      <th>mean</th>\n",
       "      <td>75.500000</td>\n",
       "      <td>5.843333</td>\n",
       "      <td>3.054000</td>\n",
       "      <td>3.758667</td>\n",
       "      <td>1.198667</td>\n",
       "    </tr>\n",
       "    <tr>\n",
       "      <th>std</th>\n",
       "      <td>43.445368</td>\n",
       "      <td>0.828066</td>\n",
       "      <td>0.433594</td>\n",
       "      <td>1.764420</td>\n",
       "      <td>0.763161</td>\n",
       "    </tr>\n",
       "    <tr>\n",
       "      <th>min</th>\n",
       "      <td>1.000000</td>\n",
       "      <td>4.300000</td>\n",
       "      <td>2.000000</td>\n",
       "      <td>1.000000</td>\n",
       "      <td>0.100000</td>\n",
       "    </tr>\n",
       "    <tr>\n",
       "      <th>25%</th>\n",
       "      <td>38.250000</td>\n",
       "      <td>5.100000</td>\n",
       "      <td>2.800000</td>\n",
       "      <td>1.600000</td>\n",
       "      <td>0.300000</td>\n",
       "    </tr>\n",
       "    <tr>\n",
       "      <th>50%</th>\n",
       "      <td>75.500000</td>\n",
       "      <td>5.800000</td>\n",
       "      <td>3.000000</td>\n",
       "      <td>4.350000</td>\n",
       "      <td>1.300000</td>\n",
       "    </tr>\n",
       "    <tr>\n",
       "      <th>75%</th>\n",
       "      <td>112.750000</td>\n",
       "      <td>6.400000</td>\n",
       "      <td>3.300000</td>\n",
       "      <td>5.100000</td>\n",
       "      <td>1.800000</td>\n",
       "    </tr>\n",
       "    <tr>\n",
       "      <th>max</th>\n",
       "      <td>150.000000</td>\n",
       "      <td>7.900000</td>\n",
       "      <td>4.400000</td>\n",
       "      <td>6.900000</td>\n",
       "      <td>2.500000</td>\n",
       "    </tr>\n",
       "  </tbody>\n",
       "</table>\n",
       "</div>"
      ],
      "text/plain": [
       "               Id  SepalLengthCm  SepalWidthCm  PetalLengthCm  PetalWidthCm\n",
       "count  150.000000     150.000000    150.000000     150.000000    150.000000\n",
       "mean    75.500000       5.843333      3.054000       3.758667      1.198667\n",
       "std     43.445368       0.828066      0.433594       1.764420      0.763161\n",
       "min      1.000000       4.300000      2.000000       1.000000      0.100000\n",
       "25%     38.250000       5.100000      2.800000       1.600000      0.300000\n",
       "50%     75.500000       5.800000      3.000000       4.350000      1.300000\n",
       "75%    112.750000       6.400000      3.300000       5.100000      1.800000\n",
       "max    150.000000       7.900000      4.400000       6.900000      2.500000"
      ]
     },
     "execution_count": 86,
     "metadata": {},
     "output_type": "execute_result"
    }
   ],
   "source": [
    "#4-Describe function(This is used find basic information about dataset)\n",
    "iris=pd.read_csv('../input/iris/Iris.csv')\n",
    "iris.describe()\n"
   ]
  },
  {
   "cell_type": "code",
   "execution_count": 87,
   "metadata": {
    "execution": {
     "iopub.execute_input": "2021-03-12T11:42:53.127512Z",
     "iopub.status.busy": "2021-03-12T11:42:53.126849Z",
     "iopub.status.idle": "2021-03-12T11:42:53.142529Z",
     "shell.execute_reply": "2021-03-12T11:42:53.141957Z"
    },
    "papermill": {
     "duration": 0.13285,
     "end_time": "2021-03-12T11:42:53.142688",
     "exception": false,
     "start_time": "2021-03-12T11:42:53.009838",
     "status": "completed"
    },
    "tags": []
   },
   "outputs": [
    {
     "data": {
      "text/html": [
       "<div>\n",
       "<style scoped>\n",
       "    .dataframe tbody tr th:only-of-type {\n",
       "        vertical-align: middle;\n",
       "    }\n",
       "\n",
       "    .dataframe tbody tr th {\n",
       "        vertical-align: top;\n",
       "    }\n",
       "\n",
       "    .dataframe thead th {\n",
       "        text-align: right;\n",
       "    }\n",
       "</style>\n",
       "<table border=\"1\" class=\"dataframe\">\n",
       "  <thead>\n",
       "    <tr style=\"text-align: right;\">\n",
       "      <th></th>\n",
       "      <th>SepalWidthCm</th>\n",
       "      <th>PetalLengthCm</th>\n",
       "      <th>PetalWidthCm</th>\n",
       "      <th>Species</th>\n",
       "    </tr>\n",
       "  </thead>\n",
       "  <tbody>\n",
       "    <tr>\n",
       "      <th>5</th>\n",
       "      <td>3.9</td>\n",
       "      <td>1.7</td>\n",
       "      <td>0.4</td>\n",
       "      <td>Iris-setosa</td>\n",
       "    </tr>\n",
       "    <tr>\n",
       "      <th>6</th>\n",
       "      <td>3.4</td>\n",
       "      <td>1.4</td>\n",
       "      <td>0.3</td>\n",
       "      <td>Iris-setosa</td>\n",
       "    </tr>\n",
       "    <tr>\n",
       "      <th>7</th>\n",
       "      <td>3.4</td>\n",
       "      <td>1.5</td>\n",
       "      <td>0.2</td>\n",
       "      <td>Iris-setosa</td>\n",
       "    </tr>\n",
       "    <tr>\n",
       "      <th>8</th>\n",
       "      <td>2.9</td>\n",
       "      <td>1.4</td>\n",
       "      <td>0.2</td>\n",
       "      <td>Iris-setosa</td>\n",
       "    </tr>\n",
       "    <tr>\n",
       "      <th>9</th>\n",
       "      <td>3.1</td>\n",
       "      <td>1.5</td>\n",
       "      <td>0.1</td>\n",
       "      <td>Iris-setosa</td>\n",
       "    </tr>\n",
       "    <tr>\n",
       "      <th>10</th>\n",
       "      <td>3.7</td>\n",
       "      <td>1.5</td>\n",
       "      <td>0.2</td>\n",
       "      <td>Iris-setosa</td>\n",
       "    </tr>\n",
       "  </tbody>\n",
       "</table>\n",
       "</div>"
      ],
      "text/plain": [
       "    SepalWidthCm  PetalLengthCm  PetalWidthCm      Species\n",
       "5            3.9            1.7           0.4  Iris-setosa\n",
       "6            3.4            1.4           0.3  Iris-setosa\n",
       "7            3.4            1.5           0.2  Iris-setosa\n",
       "8            2.9            1.4           0.2  Iris-setosa\n",
       "9            3.1            1.5           0.1  Iris-setosa\n",
       "10           3.7            1.5           0.2  Iris-setosa"
      ]
     },
     "execution_count": 87,
     "metadata": {},
     "output_type": "execute_result"
    }
   ],
   "source": [
    "#5-iloc[] method(This method is used to extract specific columns and rows from dataset)\n",
    "iris=pd.read_csv('../input/iris/Iris.csv')\n",
    "iris.iloc[5:11,2:]\n",
    "#In above statement,(5:11) show rows from 5 to 11 but 11 row is not included.This (2:) shows that after index number 2 all columns are displayed."
   ]
  },
  {
   "cell_type": "code",
   "execution_count": 88,
   "metadata": {
    "execution": {
     "iopub.execute_input": "2021-03-12T11:42:53.374771Z",
     "iopub.status.busy": "2021-03-12T11:42:53.374051Z",
     "iopub.status.idle": "2021-03-12T11:42:53.387488Z",
     "shell.execute_reply": "2021-03-12T11:42:53.386828Z"
    },
    "papermill": {
     "duration": 0.131513,
     "end_time": "2021-03-12T11:42:53.387650",
     "exception": false,
     "start_time": "2021-03-12T11:42:53.256137",
     "status": "completed"
    },
    "tags": []
   },
   "outputs": [
    {
     "data": {
      "text/html": [
       "<div>\n",
       "<style scoped>\n",
       "    .dataframe tbody tr th:only-of-type {\n",
       "        vertical-align: middle;\n",
       "    }\n",
       "\n",
       "    .dataframe tbody tr th {\n",
       "        vertical-align: top;\n",
       "    }\n",
       "\n",
       "    .dataframe thead th {\n",
       "        text-align: right;\n",
       "    }\n",
       "</style>\n",
       "<table border=\"1\" class=\"dataframe\">\n",
       "  <thead>\n",
       "    <tr style=\"text-align: right;\">\n",
       "      <th></th>\n",
       "      <th>PetalWidthCm</th>\n",
       "      <th>Species</th>\n",
       "    </tr>\n",
       "  </thead>\n",
       "  <tbody>\n",
       "    <tr>\n",
       "      <th>5</th>\n",
       "      <td>0.4</td>\n",
       "      <td>Iris-setosa</td>\n",
       "    </tr>\n",
       "    <tr>\n",
       "      <th>6</th>\n",
       "      <td>0.3</td>\n",
       "      <td>Iris-setosa</td>\n",
       "    </tr>\n",
       "    <tr>\n",
       "      <th>7</th>\n",
       "      <td>0.2</td>\n",
       "      <td>Iris-setosa</td>\n",
       "    </tr>\n",
       "    <tr>\n",
       "      <th>8</th>\n",
       "      <td>0.2</td>\n",
       "      <td>Iris-setosa</td>\n",
       "    </tr>\n",
       "    <tr>\n",
       "      <th>9</th>\n",
       "      <td>0.1</td>\n",
       "      <td>Iris-setosa</td>\n",
       "    </tr>\n",
       "    <tr>\n",
       "      <th>10</th>\n",
       "      <td>0.2</td>\n",
       "      <td>Iris-setosa</td>\n",
       "    </tr>\n",
       "    <tr>\n",
       "      <th>11</th>\n",
       "      <td>0.2</td>\n",
       "      <td>Iris-setosa</td>\n",
       "    </tr>\n",
       "  </tbody>\n",
       "</table>\n",
       "</div>"
      ],
      "text/plain": [
       "    PetalWidthCm      Species\n",
       "5            0.4  Iris-setosa\n",
       "6            0.3  Iris-setosa\n",
       "7            0.2  Iris-setosa\n",
       "8            0.2  Iris-setosa\n",
       "9            0.1  Iris-setosa\n",
       "10           0.2  Iris-setosa\n",
       "11           0.2  Iris-setosa"
      ]
     },
     "execution_count": 88,
     "metadata": {},
     "output_type": "execute_result"
    }
   ],
   "source": [
    "#6- .loc[] method (It is similar to .iloc[] method but in loc[] method we use column name instead of column index)\n",
    "#Another difference is that in .loc[] last row like 11 is also included as shown in output section\n",
    "iris=pd.read_csv('../input/iris/Iris.csv')\n",
    "iris.loc[5:11,(\"PetalWidthCm\",\"Species\")]"
   ]
  },
  {
   "cell_type": "code",
   "execution_count": 89,
   "metadata": {
    "execution": {
     "iopub.execute_input": "2021-03-12T11:42:53.622064Z",
     "iopub.status.busy": "2021-03-12T11:42:53.621379Z",
     "iopub.status.idle": "2021-03-12T11:42:53.642318Z",
     "shell.execute_reply": "2021-03-12T11:42:53.642828Z"
    },
    "papermill": {
     "duration": 0.140439,
     "end_time": "2021-03-12T11:42:53.643017",
     "exception": false,
     "start_time": "2021-03-12T11:42:53.502578",
     "status": "completed"
    },
    "tags": []
   },
   "outputs": [
    {
     "data": {
      "text/html": [
       "<div>\n",
       "<style scoped>\n",
       "    .dataframe tbody tr th:only-of-type {\n",
       "        vertical-align: middle;\n",
       "    }\n",
       "\n",
       "    .dataframe tbody tr th {\n",
       "        vertical-align: top;\n",
       "    }\n",
       "\n",
       "    .dataframe thead th {\n",
       "        text-align: right;\n",
       "    }\n",
       "</style>\n",
       "<table border=\"1\" class=\"dataframe\">\n",
       "  <thead>\n",
       "    <tr style=\"text-align: right;\">\n",
       "      <th></th>\n",
       "      <th>Id</th>\n",
       "      <th>SepalLengthCm</th>\n",
       "      <th>SepalWidthCm</th>\n",
       "      <th>PetalLengthCm</th>\n",
       "      <th>PetalWidthCm</th>\n",
       "      <th>Species</th>\n",
       "    </tr>\n",
       "  </thead>\n",
       "  <tbody>\n",
       "    <tr>\n",
       "      <th>0</th>\n",
       "      <td>1</td>\n",
       "      <td>5.1</td>\n",
       "      <td>3.5</td>\n",
       "      <td>1.4</td>\n",
       "      <td>0.2</td>\n",
       "      <td>Iris-setosa</td>\n",
       "    </tr>\n",
       "    <tr>\n",
       "      <th>2</th>\n",
       "      <td>3</td>\n",
       "      <td>4.7</td>\n",
       "      <td>3.2</td>\n",
       "      <td>1.3</td>\n",
       "      <td>0.2</td>\n",
       "      <td>Iris-setosa</td>\n",
       "    </tr>\n",
       "    <tr>\n",
       "      <th>3</th>\n",
       "      <td>4</td>\n",
       "      <td>4.6</td>\n",
       "      <td>3.1</td>\n",
       "      <td>1.5</td>\n",
       "      <td>0.2</td>\n",
       "      <td>Iris-setosa</td>\n",
       "    </tr>\n",
       "    <tr>\n",
       "      <th>4</th>\n",
       "      <td>5</td>\n",
       "      <td>5.0</td>\n",
       "      <td>3.6</td>\n",
       "      <td>1.4</td>\n",
       "      <td>0.2</td>\n",
       "      <td>Iris-setosa</td>\n",
       "    </tr>\n",
       "    <tr>\n",
       "      <th>5</th>\n",
       "      <td>6</td>\n",
       "      <td>5.4</td>\n",
       "      <td>3.9</td>\n",
       "      <td>1.7</td>\n",
       "      <td>0.4</td>\n",
       "      <td>Iris-setosa</td>\n",
       "    </tr>\n",
       "    <tr>\n",
       "      <th>...</th>\n",
       "      <td>...</td>\n",
       "      <td>...</td>\n",
       "      <td>...</td>\n",
       "      <td>...</td>\n",
       "      <td>...</td>\n",
       "      <td>...</td>\n",
       "    </tr>\n",
       "    <tr>\n",
       "      <th>145</th>\n",
       "      <td>146</td>\n",
       "      <td>6.7</td>\n",
       "      <td>3.0</td>\n",
       "      <td>5.2</td>\n",
       "      <td>2.3</td>\n",
       "      <td>Iris-virginica</td>\n",
       "    </tr>\n",
       "    <tr>\n",
       "      <th>146</th>\n",
       "      <td>147</td>\n",
       "      <td>6.3</td>\n",
       "      <td>2.5</td>\n",
       "      <td>5.0</td>\n",
       "      <td>1.9</td>\n",
       "      <td>Iris-virginica</td>\n",
       "    </tr>\n",
       "    <tr>\n",
       "      <th>147</th>\n",
       "      <td>148</td>\n",
       "      <td>6.5</td>\n",
       "      <td>3.0</td>\n",
       "      <td>5.2</td>\n",
       "      <td>2.0</td>\n",
       "      <td>Iris-virginica</td>\n",
       "    </tr>\n",
       "    <tr>\n",
       "      <th>148</th>\n",
       "      <td>149</td>\n",
       "      <td>6.2</td>\n",
       "      <td>3.4</td>\n",
       "      <td>5.4</td>\n",
       "      <td>2.3</td>\n",
       "      <td>Iris-virginica</td>\n",
       "    </tr>\n",
       "    <tr>\n",
       "      <th>149</th>\n",
       "      <td>150</td>\n",
       "      <td>5.9</td>\n",
       "      <td>3.0</td>\n",
       "      <td>5.1</td>\n",
       "      <td>1.8</td>\n",
       "      <td>Iris-virginica</td>\n",
       "    </tr>\n",
       "  </tbody>\n",
       "</table>\n",
       "<p>149 rows × 6 columns</p>\n",
       "</div>"
      ],
      "text/plain": [
       "      Id  SepalLengthCm  SepalWidthCm  PetalLengthCm  PetalWidthCm  \\\n",
       "0      1            5.1           3.5            1.4           0.2   \n",
       "2      3            4.7           3.2            1.3           0.2   \n",
       "3      4            4.6           3.1            1.5           0.2   \n",
       "4      5            5.0           3.6            1.4           0.2   \n",
       "5      6            5.4           3.9            1.7           0.4   \n",
       "..   ...            ...           ...            ...           ...   \n",
       "145  146            6.7           3.0            5.2           2.3   \n",
       "146  147            6.3           2.5            5.0           1.9   \n",
       "147  148            6.5           3.0            5.2           2.0   \n",
       "148  149            6.2           3.4            5.4           2.3   \n",
       "149  150            5.9           3.0            5.1           1.8   \n",
       "\n",
       "            Species  \n",
       "0       Iris-setosa  \n",
       "2       Iris-setosa  \n",
       "3       Iris-setosa  \n",
       "4       Iris-setosa  \n",
       "5       Iris-setosa  \n",
       "..              ...  \n",
       "145  Iris-virginica  \n",
       "146  Iris-virginica  \n",
       "147  Iris-virginica  \n",
       "148  Iris-virginica  \n",
       "149  Iris-virginica  \n",
       "\n",
       "[149 rows x 6 columns]"
      ]
     },
     "execution_count": 89,
     "metadata": {},
     "output_type": "execute_result"
    }
   ],
   "source": [
    "#Dropping any row in dataset\n",
    "import pandas as pd\n",
    "iris=pd.read_csv('../input/iris/Iris.csv')\n",
    "#Following code is used to drop any row in dataset\n",
    "iris.drop(1,axis=0)\n",
    "#axis=0 represent rows ,You can see that in output section row 1 is removed"
   ]
  },
  {
   "cell_type": "code",
   "execution_count": 90,
   "metadata": {
    "execution": {
     "iopub.execute_input": "2021-03-12T11:42:53.876124Z",
     "iopub.status.busy": "2021-03-12T11:42:53.875041Z",
     "iopub.status.idle": "2021-03-12T11:42:53.897147Z",
     "shell.execute_reply": "2021-03-12T11:42:53.897600Z"
    },
    "papermill": {
     "duration": 0.140569,
     "end_time": "2021-03-12T11:42:53.897794",
     "exception": false,
     "start_time": "2021-03-12T11:42:53.757225",
     "status": "completed"
    },
    "tags": []
   },
   "outputs": [
    {
     "data": {
      "text/html": [
       "<div>\n",
       "<style scoped>\n",
       "    .dataframe tbody tr th:only-of-type {\n",
       "        vertical-align: middle;\n",
       "    }\n",
       "\n",
       "    .dataframe tbody tr th {\n",
       "        vertical-align: top;\n",
       "    }\n",
       "\n",
       "    .dataframe thead th {\n",
       "        text-align: right;\n",
       "    }\n",
       "</style>\n",
       "<table border=\"1\" class=\"dataframe\">\n",
       "  <thead>\n",
       "    <tr style=\"text-align: right;\">\n",
       "      <th></th>\n",
       "      <th>Id</th>\n",
       "      <th>SepalLengthCm</th>\n",
       "      <th>SepalWidthCm</th>\n",
       "      <th>PetalLengthCm</th>\n",
       "      <th>PetalWidthCm</th>\n",
       "    </tr>\n",
       "  </thead>\n",
       "  <tbody>\n",
       "    <tr>\n",
       "      <th>0</th>\n",
       "      <td>1</td>\n",
       "      <td>5.1</td>\n",
       "      <td>3.5</td>\n",
       "      <td>1.4</td>\n",
       "      <td>0.2</td>\n",
       "    </tr>\n",
       "    <tr>\n",
       "      <th>1</th>\n",
       "      <td>2</td>\n",
       "      <td>4.9</td>\n",
       "      <td>3.0</td>\n",
       "      <td>1.4</td>\n",
       "      <td>0.2</td>\n",
       "    </tr>\n",
       "    <tr>\n",
       "      <th>2</th>\n",
       "      <td>3</td>\n",
       "      <td>4.7</td>\n",
       "      <td>3.2</td>\n",
       "      <td>1.3</td>\n",
       "      <td>0.2</td>\n",
       "    </tr>\n",
       "    <tr>\n",
       "      <th>3</th>\n",
       "      <td>4</td>\n",
       "      <td>4.6</td>\n",
       "      <td>3.1</td>\n",
       "      <td>1.5</td>\n",
       "      <td>0.2</td>\n",
       "    </tr>\n",
       "    <tr>\n",
       "      <th>4</th>\n",
       "      <td>5</td>\n",
       "      <td>5.0</td>\n",
       "      <td>3.6</td>\n",
       "      <td>1.4</td>\n",
       "      <td>0.2</td>\n",
       "    </tr>\n",
       "    <tr>\n",
       "      <th>...</th>\n",
       "      <td>...</td>\n",
       "      <td>...</td>\n",
       "      <td>...</td>\n",
       "      <td>...</td>\n",
       "      <td>...</td>\n",
       "    </tr>\n",
       "    <tr>\n",
       "      <th>145</th>\n",
       "      <td>146</td>\n",
       "      <td>6.7</td>\n",
       "      <td>3.0</td>\n",
       "      <td>5.2</td>\n",
       "      <td>2.3</td>\n",
       "    </tr>\n",
       "    <tr>\n",
       "      <th>146</th>\n",
       "      <td>147</td>\n",
       "      <td>6.3</td>\n",
       "      <td>2.5</td>\n",
       "      <td>5.0</td>\n",
       "      <td>1.9</td>\n",
       "    </tr>\n",
       "    <tr>\n",
       "      <th>147</th>\n",
       "      <td>148</td>\n",
       "      <td>6.5</td>\n",
       "      <td>3.0</td>\n",
       "      <td>5.2</td>\n",
       "      <td>2.0</td>\n",
       "    </tr>\n",
       "    <tr>\n",
       "      <th>148</th>\n",
       "      <td>149</td>\n",
       "      <td>6.2</td>\n",
       "      <td>3.4</td>\n",
       "      <td>5.4</td>\n",
       "      <td>2.3</td>\n",
       "    </tr>\n",
       "    <tr>\n",
       "      <th>149</th>\n",
       "      <td>150</td>\n",
       "      <td>5.9</td>\n",
       "      <td>3.0</td>\n",
       "      <td>5.1</td>\n",
       "      <td>1.8</td>\n",
       "    </tr>\n",
       "  </tbody>\n",
       "</table>\n",
       "<p>150 rows × 5 columns</p>\n",
       "</div>"
      ],
      "text/plain": [
       "      Id  SepalLengthCm  SepalWidthCm  PetalLengthCm  PetalWidthCm\n",
       "0      1            5.1           3.5            1.4           0.2\n",
       "1      2            4.9           3.0            1.4           0.2\n",
       "2      3            4.7           3.2            1.3           0.2\n",
       "3      4            4.6           3.1            1.5           0.2\n",
       "4      5            5.0           3.6            1.4           0.2\n",
       "..   ...            ...           ...            ...           ...\n",
       "145  146            6.7           3.0            5.2           2.3\n",
       "146  147            6.3           2.5            5.0           1.9\n",
       "147  148            6.5           3.0            5.2           2.0\n",
       "148  149            6.2           3.4            5.4           2.3\n",
       "149  150            5.9           3.0            5.1           1.8\n",
       "\n",
       "[150 rows x 5 columns]"
      ]
     },
     "execution_count": 90,
     "metadata": {},
     "output_type": "execute_result"
    }
   ],
   "source": [
    "#Dropping any column in dataset\n",
    "iris=pd.read_csv('../input/iris/Iris.csv' )\n",
    "#Following code is used to drop any column in dataset\n",
    "iris.drop('Species',axis=1)\n",
    "#axis=1 represent columns ,You can see that in output section last column is removed."
   ]
  },
  {
   "cell_type": "code",
   "execution_count": 91,
   "metadata": {
    "execution": {
     "iopub.execute_input": "2021-03-12T11:42:54.134255Z",
     "iopub.status.busy": "2021-03-12T11:42:54.133252Z",
     "iopub.status.idle": "2021-03-12T11:42:54.155638Z",
     "shell.execute_reply": "2021-03-12T11:42:54.155121Z"
    },
    "papermill": {
     "duration": 0.140869,
     "end_time": "2021-03-12T11:42:54.155807",
     "exception": false,
     "start_time": "2021-03-12T11:42:54.014938",
     "status": "completed"
    },
    "tags": []
   },
   "outputs": [
    {
     "data": {
      "text/html": [
       "<div>\n",
       "<style scoped>\n",
       "    .dataframe tbody tr th:only-of-type {\n",
       "        vertical-align: middle;\n",
       "    }\n",
       "\n",
       "    .dataframe tbody tr th {\n",
       "        vertical-align: top;\n",
       "    }\n",
       "\n",
       "    .dataframe thead th {\n",
       "        text-align: right;\n",
       "    }\n",
       "</style>\n",
       "<table border=\"1\" class=\"dataframe\">\n",
       "  <thead>\n",
       "    <tr style=\"text-align: right;\">\n",
       "      <th></th>\n",
       "      <th>Id</th>\n",
       "      <th>SepalLengthCm</th>\n",
       "      <th>SepalWidthCm</th>\n",
       "      <th>PetalLengthCm</th>\n",
       "      <th>PetalWidthCm</th>\n",
       "      <th>Species</th>\n",
       "    </tr>\n",
       "  </thead>\n",
       "  <tbody>\n",
       "    <tr>\n",
       "      <th>0</th>\n",
       "      <td>1</td>\n",
       "      <td>5.1</td>\n",
       "      <td>3.5</td>\n",
       "      <td>1.4</td>\n",
       "      <td>0.2</td>\n",
       "      <td>Iris-setosa</td>\n",
       "    </tr>\n",
       "    <tr>\n",
       "      <th>6</th>\n",
       "      <td>7</td>\n",
       "      <td>4.6</td>\n",
       "      <td>3.4</td>\n",
       "      <td>1.4</td>\n",
       "      <td>0.3</td>\n",
       "      <td>Iris-setosa</td>\n",
       "    </tr>\n",
       "    <tr>\n",
       "      <th>7</th>\n",
       "      <td>8</td>\n",
       "      <td>5.0</td>\n",
       "      <td>3.4</td>\n",
       "      <td>1.5</td>\n",
       "      <td>0.2</td>\n",
       "      <td>Iris-setosa</td>\n",
       "    </tr>\n",
       "    <tr>\n",
       "      <th>8</th>\n",
       "      <td>9</td>\n",
       "      <td>4.4</td>\n",
       "      <td>2.9</td>\n",
       "      <td>1.4</td>\n",
       "      <td>0.2</td>\n",
       "      <td>Iris-setosa</td>\n",
       "    </tr>\n",
       "    <tr>\n",
       "      <th>9</th>\n",
       "      <td>10</td>\n",
       "      <td>4.9</td>\n",
       "      <td>3.1</td>\n",
       "      <td>1.5</td>\n",
       "      <td>0.1</td>\n",
       "      <td>Iris-setosa</td>\n",
       "    </tr>\n",
       "    <tr>\n",
       "      <th>10</th>\n",
       "      <td>11</td>\n",
       "      <td>5.4</td>\n",
       "      <td>3.7</td>\n",
       "      <td>1.5</td>\n",
       "      <td>0.2</td>\n",
       "      <td>Iris-setosa</td>\n",
       "    </tr>\n",
       "    <tr>\n",
       "      <th>11</th>\n",
       "      <td>12</td>\n",
       "      <td>4.8</td>\n",
       "      <td>3.4</td>\n",
       "      <td>1.6</td>\n",
       "      <td>0.2</td>\n",
       "      <td>Iris-setosa</td>\n",
       "    </tr>\n",
       "    <tr>\n",
       "      <th>12</th>\n",
       "      <td>13</td>\n",
       "      <td>4.8</td>\n",
       "      <td>3.0</td>\n",
       "      <td>1.4</td>\n",
       "      <td>0.1</td>\n",
       "      <td>Iris-setosa</td>\n",
       "    </tr>\n",
       "    <tr>\n",
       "      <th>13</th>\n",
       "      <td>14</td>\n",
       "      <td>4.3</td>\n",
       "      <td>3.0</td>\n",
       "      <td>1.1</td>\n",
       "      <td>0.1</td>\n",
       "      <td>Iris-setosa</td>\n",
       "    </tr>\n",
       "    <tr>\n",
       "      <th>14</th>\n",
       "      <td>15</td>\n",
       "      <td>5.8</td>\n",
       "      <td>4.0</td>\n",
       "      <td>1.2</td>\n",
       "      <td>0.2</td>\n",
       "      <td>Iris-setosa</td>\n",
       "    </tr>\n",
       "  </tbody>\n",
       "</table>\n",
       "</div>"
      ],
      "text/plain": [
       "    Id  SepalLengthCm  SepalWidthCm  PetalLengthCm  PetalWidthCm      Species\n",
       "0    1            5.1           3.5            1.4           0.2  Iris-setosa\n",
       "6    7            4.6           3.4            1.4           0.3  Iris-setosa\n",
       "7    8            5.0           3.4            1.5           0.2  Iris-setosa\n",
       "8    9            4.4           2.9            1.4           0.2  Iris-setosa\n",
       "9   10            4.9           3.1            1.5           0.1  Iris-setosa\n",
       "10  11            5.4           3.7            1.5           0.2  Iris-setosa\n",
       "11  12            4.8           3.4            1.6           0.2  Iris-setosa\n",
       "12  13            4.8           3.0            1.4           0.1  Iris-setosa\n",
       "13  14            4.3           3.0            1.1           0.1  Iris-setosa\n",
       "14  15            5.8           4.0            1.2           0.2  Iris-setosa"
      ]
     },
     "execution_count": 91,
     "metadata": {},
     "output_type": "execute_result"
    }
   ],
   "source": [
    "#Dropping multiple rows in dataset\n",
    "iris=pd.read_csv('../input/iris/Iris.csv')\n",
    "#Following code is used to drop multiple rows in dataset\n",
    "i1=iris.drop([1,2,3,4,5],axis=0)\n",
    "i1.head(10)\n",
    "#In output section you can see that rows from (1 to 5) are removed"
   ]
  },
  {
   "cell_type": "code",
   "execution_count": 92,
   "metadata": {
    "execution": {
     "iopub.execute_input": "2021-03-12T11:42:54.392872Z",
     "iopub.status.busy": "2021-03-12T11:42:54.392157Z",
     "iopub.status.idle": "2021-03-12T11:42:54.403590Z",
     "shell.execute_reply": "2021-03-12T11:42:54.402956Z"
    },
    "papermill": {
     "duration": 0.132606,
     "end_time": "2021-03-12T11:42:54.403744",
     "exception": false,
     "start_time": "2021-03-12T11:42:54.271138",
     "status": "completed"
    },
    "tags": []
   },
   "outputs": [
    {
     "data": {
      "text/plain": [
       "Id                         1\n",
       "SepalLengthCm            4.3\n",
       "SepalWidthCm             2.0\n",
       "PetalLengthCm            1.0\n",
       "PetalWidthCm             0.1\n",
       "Species          Iris-setosa\n",
       "dtype: object"
      ]
     },
     "execution_count": 92,
     "metadata": {},
     "output_type": "execute_result"
    }
   ],
   "source": [
    "#Check minimum in dataset\n",
    "iris=pd.read_csv('../input/iris/Iris.csv')\n",
    "iris.min()"
   ]
  },
  {
   "cell_type": "code",
   "execution_count": 93,
   "metadata": {
    "execution": {
     "iopub.execute_input": "2021-03-12T11:42:54.641008Z",
     "iopub.status.busy": "2021-03-12T11:42:54.640275Z",
     "iopub.status.idle": "2021-03-12T11:42:54.650644Z",
     "shell.execute_reply": "2021-03-12T11:42:54.650047Z"
    },
    "papermill": {
     "duration": 0.131142,
     "end_time": "2021-03-12T11:42:54.650808",
     "exception": false,
     "start_time": "2021-03-12T11:42:54.519666",
     "status": "completed"
    },
    "tags": []
   },
   "outputs": [
    {
     "data": {
      "text/plain": [
       "Id                          150\n",
       "SepalLengthCm               7.9\n",
       "SepalWidthCm                4.4\n",
       "PetalLengthCm               6.9\n",
       "PetalWidthCm                2.5\n",
       "Species          Iris-virginica\n",
       "dtype: object"
      ]
     },
     "execution_count": 93,
     "metadata": {},
     "output_type": "execute_result"
    }
   ],
   "source": [
    "#Check maximum in Dataset\n",
    "iris=pd.read_csv('../input/iris/Iris.csv')\n",
    "iris.max()"
   ]
  },
  {
   "cell_type": "code",
   "execution_count": 94,
   "metadata": {
    "execution": {
     "iopub.execute_input": "2021-03-12T11:42:54.888841Z",
     "iopub.status.busy": "2021-03-12T11:42:54.888157Z",
     "iopub.status.idle": "2021-03-12T11:42:54.899166Z",
     "shell.execute_reply": "2021-03-12T11:42:54.899789Z"
    },
    "papermill": {
     "duration": 0.131692,
     "end_time": "2021-03-12T11:42:54.899961",
     "exception": false,
     "start_time": "2021-03-12T11:42:54.768269",
     "status": "completed"
    },
    "tags": []
   },
   "outputs": [
    {
     "data": {
      "text/plain": [
       "Id               75.500000\n",
       "SepalLengthCm     5.843333\n",
       "SepalWidthCm      3.054000\n",
       "PetalLengthCm     3.758667\n",
       "PetalWidthCm      1.198667\n",
       "dtype: float64"
      ]
     },
     "execution_count": 94,
     "metadata": {},
     "output_type": "execute_result"
    }
   ],
   "source": [
    "#Check mean value in Dataset\n",
    "iris=pd.read_csv('../input/iris/Iris.csv')\n",
    "iris.mean()"
   ]
  },
  {
   "cell_type": "code",
   "execution_count": 95,
   "metadata": {
    "execution": {
     "iopub.execute_input": "2021-03-12T11:42:55.177834Z",
     "iopub.status.busy": "2021-03-12T11:42:55.176846Z",
     "iopub.status.idle": "2021-03-12T11:42:55.189206Z",
     "shell.execute_reply": "2021-03-12T11:42:55.188323Z"
    },
    "papermill": {
     "duration": 0.147942,
     "end_time": "2021-03-12T11:42:55.189420",
     "exception": false,
     "start_time": "2021-03-12T11:42:55.041478",
     "status": "completed"
    },
    "tags": []
   },
   "outputs": [
    {
     "data": {
      "text/plain": [
       "Id                          150\n",
       "SepalLengthCm               7.9\n",
       "SepalWidthCm                4.4\n",
       "PetalLengthCm               6.9\n",
       "PetalWidthCm                2.5\n",
       "Species          Iris-virginica\n",
       "dtype: object"
      ]
     },
     "execution_count": 95,
     "metadata": {},
     "output_type": "execute_result"
    }
   ],
   "source": [
    "#Check median in dataset\n",
    "iris=pd.read_csv('../input/iris/Iris.csv')\n",
    "iris.max()"
   ]
  },
  {
   "cell_type": "code",
   "execution_count": 96,
   "metadata": {
    "execution": {
     "iopub.execute_input": "2021-03-12T11:42:55.447195Z",
     "iopub.status.busy": "2021-03-12T11:42:55.446191Z",
     "iopub.status.idle": "2021-03-12T11:42:55.466988Z",
     "shell.execute_reply": "2021-03-12T11:42:55.467525Z"
    },
    "papermill": {
     "duration": 0.14516,
     "end_time": "2021-03-12T11:42:55.467724",
     "exception": false,
     "start_time": "2021-03-12T11:42:55.322564",
     "status": "completed"
    },
    "tags": []
   },
   "outputs": [
    {
     "data": {
      "text/html": [
       "<div>\n",
       "<style scoped>\n",
       "    .dataframe tbody tr th:only-of-type {\n",
       "        vertical-align: middle;\n",
       "    }\n",
       "\n",
       "    .dataframe tbody tr th {\n",
       "        vertical-align: top;\n",
       "    }\n",
       "\n",
       "    .dataframe thead th {\n",
       "        text-align: right;\n",
       "    }\n",
       "</style>\n",
       "<table border=\"1\" class=\"dataframe\">\n",
       "  <thead>\n",
       "    <tr style=\"text-align: right;\">\n",
       "      <th></th>\n",
       "      <th>SepalWidthCm</th>\n",
       "      <th>PetalLengthCm</th>\n",
       "    </tr>\n",
       "  </thead>\n",
       "  <tbody>\n",
       "    <tr>\n",
       "      <th>0</th>\n",
       "      <td>7.0</td>\n",
       "      <td>2.8</td>\n",
       "    </tr>\n",
       "    <tr>\n",
       "      <th>1</th>\n",
       "      <td>6.0</td>\n",
       "      <td>2.8</td>\n",
       "    </tr>\n",
       "    <tr>\n",
       "      <th>2</th>\n",
       "      <td>6.4</td>\n",
       "      <td>2.6</td>\n",
       "    </tr>\n",
       "    <tr>\n",
       "      <th>3</th>\n",
       "      <td>6.2</td>\n",
       "      <td>3.0</td>\n",
       "    </tr>\n",
       "    <tr>\n",
       "      <th>4</th>\n",
       "      <td>7.2</td>\n",
       "      <td>2.8</td>\n",
       "    </tr>\n",
       "    <tr>\n",
       "      <th>...</th>\n",
       "      <td>...</td>\n",
       "      <td>...</td>\n",
       "    </tr>\n",
       "    <tr>\n",
       "      <th>145</th>\n",
       "      <td>6.0</td>\n",
       "      <td>10.4</td>\n",
       "    </tr>\n",
       "    <tr>\n",
       "      <th>146</th>\n",
       "      <td>5.0</td>\n",
       "      <td>10.0</td>\n",
       "    </tr>\n",
       "    <tr>\n",
       "      <th>147</th>\n",
       "      <td>6.0</td>\n",
       "      <td>10.4</td>\n",
       "    </tr>\n",
       "    <tr>\n",
       "      <th>148</th>\n",
       "      <td>6.8</td>\n",
       "      <td>10.8</td>\n",
       "    </tr>\n",
       "    <tr>\n",
       "      <th>149</th>\n",
       "      <td>6.0</td>\n",
       "      <td>10.2</td>\n",
       "    </tr>\n",
       "  </tbody>\n",
       "</table>\n",
       "<p>150 rows × 2 columns</p>\n",
       "</div>"
      ],
      "text/plain": [
       "     SepalWidthCm  PetalLengthCm\n",
       "0             7.0            2.8\n",
       "1             6.0            2.8\n",
       "2             6.4            2.6\n",
       "3             6.2            3.0\n",
       "4             7.2            2.8\n",
       "..            ...            ...\n",
       "145           6.0           10.4\n",
       "146           5.0           10.0\n",
       "147           6.0           10.4\n",
       "148           6.8           10.8\n",
       "149           6.0           10.2\n",
       "\n",
       "[150 rows x 2 columns]"
      ]
     },
     "execution_count": 96,
     "metadata": {},
     "output_type": "execute_result"
    }
   ],
   "source": [
    "#Apply any formula on specific columns\n",
    "def double_make(s):\n",
    "    return s*2\n",
    "iris=pd.read_csv('../input/iris/Iris.csv')\n",
    "iris[['SepalWidthCm','PetalLengthCm']].apply(double_make)\n",
    "#In above code,we use two columns and multiply all elements with 2."
   ]
  },
  {
   "cell_type": "code",
   "execution_count": 97,
   "metadata": {
    "execution": {
     "iopub.execute_input": "2021-03-12T11:42:55.717714Z",
     "iopub.status.busy": "2021-03-12T11:42:55.716957Z",
     "iopub.status.idle": "2021-03-12T11:42:55.732249Z",
     "shell.execute_reply": "2021-03-12T11:42:55.732844Z"
    },
    "papermill": {
     "duration": 0.145185,
     "end_time": "2021-03-12T11:42:55.733030",
     "exception": false,
     "start_time": "2021-03-12T11:42:55.587845",
     "status": "completed"
    },
    "tags": []
   },
   "outputs": [
    {
     "data": {
      "text/plain": [
       "Iris-versicolor    50\n",
       "Iris-virginica     50\n",
       "Iris-setosa        50\n",
       "Name: Species, dtype: int64"
      ]
     },
     "execution_count": 97,
     "metadata": {},
     "output_type": "execute_result"
    }
   ],
   "source": [
    "#Value_counts() function \n",
    "#This function is used to find that how much time any value is used in that category\n",
    "iris=pd.read_csv('../input/iris/Iris.csv')\n",
    "iris['Species'].value_counts()\n",
    "#Output shows that in \"Species\" column \"versicolor\" and \"virginica\" and \"setosa\" repeats 50 times."
   ]
  },
  {
   "cell_type": "code",
   "execution_count": 98,
   "metadata": {
    "execution": {
     "iopub.execute_input": "2021-03-12T11:42:55.981851Z",
     "iopub.status.busy": "2021-03-12T11:42:55.981127Z",
     "iopub.status.idle": "2021-03-12T11:42:56.002615Z",
     "shell.execute_reply": "2021-03-12T11:42:56.003098Z"
    },
    "papermill": {
     "duration": 0.147655,
     "end_time": "2021-03-12T11:42:56.003285",
     "exception": false,
     "start_time": "2021-03-12T11:42:55.855630",
     "status": "completed"
    },
    "tags": []
   },
   "outputs": [
    {
     "data": {
      "text/html": [
       "<div>\n",
       "<style scoped>\n",
       "    .dataframe tbody tr th:only-of-type {\n",
       "        vertical-align: middle;\n",
       "    }\n",
       "\n",
       "    .dataframe tbody tr th {\n",
       "        vertical-align: top;\n",
       "    }\n",
       "\n",
       "    .dataframe thead th {\n",
       "        text-align: right;\n",
       "    }\n",
       "</style>\n",
       "<table border=\"1\" class=\"dataframe\">\n",
       "  <thead>\n",
       "    <tr style=\"text-align: right;\">\n",
       "      <th></th>\n",
       "      <th>Id</th>\n",
       "      <th>SepalLengthCm</th>\n",
       "      <th>SepalWidthCm</th>\n",
       "      <th>PetalLengthCm</th>\n",
       "      <th>PetalWidthCm</th>\n",
       "      <th>Species</th>\n",
       "    </tr>\n",
       "  </thead>\n",
       "  <tbody>\n",
       "    <tr>\n",
       "      <th>0</th>\n",
       "      <td>1</td>\n",
       "      <td>5.1</td>\n",
       "      <td>3.5</td>\n",
       "      <td>1.4</td>\n",
       "      <td>0.2</td>\n",
       "      <td>Iris-setosa</td>\n",
       "    </tr>\n",
       "    <tr>\n",
       "      <th>1</th>\n",
       "      <td>2</td>\n",
       "      <td>4.9</td>\n",
       "      <td>3.0</td>\n",
       "      <td>1.4</td>\n",
       "      <td>0.2</td>\n",
       "      <td>Iris-setosa</td>\n",
       "    </tr>\n",
       "    <tr>\n",
       "      <th>2</th>\n",
       "      <td>3</td>\n",
       "      <td>4.7</td>\n",
       "      <td>3.2</td>\n",
       "      <td>1.3</td>\n",
       "      <td>0.2</td>\n",
       "      <td>Iris-setosa</td>\n",
       "    </tr>\n",
       "    <tr>\n",
       "      <th>3</th>\n",
       "      <td>4</td>\n",
       "      <td>4.6</td>\n",
       "      <td>3.1</td>\n",
       "      <td>1.5</td>\n",
       "      <td>0.2</td>\n",
       "      <td>Iris-setosa</td>\n",
       "    </tr>\n",
       "    <tr>\n",
       "      <th>4</th>\n",
       "      <td>5</td>\n",
       "      <td>5.0</td>\n",
       "      <td>3.6</td>\n",
       "      <td>1.4</td>\n",
       "      <td>0.2</td>\n",
       "      <td>Iris-setosa</td>\n",
       "    </tr>\n",
       "    <tr>\n",
       "      <th>...</th>\n",
       "      <td>...</td>\n",
       "      <td>...</td>\n",
       "      <td>...</td>\n",
       "      <td>...</td>\n",
       "      <td>...</td>\n",
       "      <td>...</td>\n",
       "    </tr>\n",
       "    <tr>\n",
       "      <th>145</th>\n",
       "      <td>146</td>\n",
       "      <td>6.7</td>\n",
       "      <td>3.0</td>\n",
       "      <td>5.2</td>\n",
       "      <td>2.3</td>\n",
       "      <td>Iris-virginica</td>\n",
       "    </tr>\n",
       "    <tr>\n",
       "      <th>146</th>\n",
       "      <td>147</td>\n",
       "      <td>6.3</td>\n",
       "      <td>2.5</td>\n",
       "      <td>5.0</td>\n",
       "      <td>1.9</td>\n",
       "      <td>Iris-virginica</td>\n",
       "    </tr>\n",
       "    <tr>\n",
       "      <th>147</th>\n",
       "      <td>148</td>\n",
       "      <td>6.5</td>\n",
       "      <td>3.0</td>\n",
       "      <td>5.2</td>\n",
       "      <td>2.0</td>\n",
       "      <td>Iris-virginica</td>\n",
       "    </tr>\n",
       "    <tr>\n",
       "      <th>148</th>\n",
       "      <td>149</td>\n",
       "      <td>6.2</td>\n",
       "      <td>3.4</td>\n",
       "      <td>5.4</td>\n",
       "      <td>2.3</td>\n",
       "      <td>Iris-virginica</td>\n",
       "    </tr>\n",
       "    <tr>\n",
       "      <th>149</th>\n",
       "      <td>150</td>\n",
       "      <td>5.9</td>\n",
       "      <td>3.0</td>\n",
       "      <td>5.1</td>\n",
       "      <td>1.8</td>\n",
       "      <td>Iris-virginica</td>\n",
       "    </tr>\n",
       "  </tbody>\n",
       "</table>\n",
       "<p>150 rows × 6 columns</p>\n",
       "</div>"
      ],
      "text/plain": [
       "      Id  SepalLengthCm  SepalWidthCm  PetalLengthCm  PetalWidthCm  \\\n",
       "0      1            5.1           3.5            1.4           0.2   \n",
       "1      2            4.9           3.0            1.4           0.2   \n",
       "2      3            4.7           3.2            1.3           0.2   \n",
       "3      4            4.6           3.1            1.5           0.2   \n",
       "4      5            5.0           3.6            1.4           0.2   \n",
       "..   ...            ...           ...            ...           ...   \n",
       "145  146            6.7           3.0            5.2           2.3   \n",
       "146  147            6.3           2.5            5.0           1.9   \n",
       "147  148            6.5           3.0            5.2           2.0   \n",
       "148  149            6.2           3.4            5.4           2.3   \n",
       "149  150            5.9           3.0            5.1           1.8   \n",
       "\n",
       "            Species  \n",
       "0       Iris-setosa  \n",
       "1       Iris-setosa  \n",
       "2       Iris-setosa  \n",
       "3       Iris-setosa  \n",
       "4       Iris-setosa  \n",
       "..              ...  \n",
       "145  Iris-virginica  \n",
       "146  Iris-virginica  \n",
       "147  Iris-virginica  \n",
       "148  Iris-virginica  \n",
       "149  Iris-virginica  \n",
       "\n",
       "[150 rows x 6 columns]"
      ]
     },
     "execution_count": 98,
     "metadata": {},
     "output_type": "execute_result"
    }
   ],
   "source": [
    "#sort_values() function\n",
    "#This function is used to sort values with respect to the selected column.\n",
    "iris=pd.read_csv('../input/iris/Iris.csv')\n",
    "iris.sort_values(by='Id')\n",
    "#Output section shows that whole dataset has been sorted with respect to column Id ."
   ]
  },
  {
   "cell_type": "code",
   "execution_count": 99,
   "metadata": {
    "execution": {
     "iopub.execute_input": "2021-03-12T11:42:56.246624Z",
     "iopub.status.busy": "2021-03-12T11:42:56.245997Z",
     "iopub.status.idle": "2021-03-12T11:42:56.415531Z",
     "shell.execute_reply": "2021-03-12T11:42:56.416215Z"
    },
    "papermill": {
     "duration": 0.292278,
     "end_time": "2021-03-12T11:42:56.416391",
     "exception": false,
     "start_time": "2021-03-12T11:42:56.124113",
     "status": "completed"
    },
    "tags": []
   },
   "outputs": [
    {
     "data": {
      "image/png": "[encoded data removed]",
      "text/plain": [
       "<Figure size 432x288 with 1 Axes>"
      ]
     },
     "metadata": {
      "needs_background": "light"
     },
     "output_type": "display_data"
    }
   ],
   "source": [
    "#10-Data visualization with Matplotlib library\n",
    "#It is used for data visualization and helps in creating bar-plots,scatter-plots,histograms and lot more.\n",
    "#Creating Line Plot\n",
    "import numpy as np\n",
    "from matplotlib import pyplot as plt\n",
    "x=np.arange(1,11)\n",
    "x\n",
    "y=2*x\n",
    "y\n",
    "plt.plot(x,y)\n",
    "plt.show()"
   ]
  },
  {
   "cell_type": "code",
   "execution_count": 100,
   "metadata": {
    "execution": {
     "iopub.execute_input": "2021-03-12T11:42:56.663579Z",
     "iopub.status.busy": "2021-03-12T11:42:56.662936Z",
     "iopub.status.idle": "2021-03-12T11:42:56.813173Z",
     "shell.execute_reply": "2021-03-12T11:42:56.813731Z"
    },
    "papermill": {
     "duration": 0.275923,
     "end_time": "2021-03-12T11:42:56.813922",
     "exception": false,
     "start_time": "2021-03-12T11:42:56.537999",
     "status": "completed"
    },
    "tags": []
   },
   "outputs": [
    {
     "data": {
      "image/png": "[encoded data removed]",
      "text/plain": [
       "<Figure size 432x288 with 1 Axes>"
      ]
     },
     "metadata": {
      "needs_background": "light"
     },
     "output_type": "display_data"
    }
   ],
   "source": [
    "#Formatting with Line Chart\n",
    "#Following code is used for adding xy-label and title in line chart\n",
    "plt.plot(x,y,color='r',linestyle=':',linewidth=4)\n",
    "#In above line writing \"color='r',linestyle=':',linewidth=2\" is not compulsory.These attributes are used for formatting purposes.  \n",
    "plt.title(\"X vs Y\")\n",
    "plt.ylabel(\"y-axis\")\n",
    "plt.xlabel(\"x-axis\")\n",
    "plt.show()"
   ]
  },
  {
   "cell_type": "code",
   "execution_count": 101,
   "metadata": {
    "execution": {
     "iopub.execute_input": "2021-03-12T11:42:57.064216Z",
     "iopub.status.busy": "2021-03-12T11:42:57.063173Z",
     "iopub.status.idle": "2021-03-12T11:42:57.221532Z",
     "shell.execute_reply": "2021-03-12T11:42:57.220982Z"
    },
    "papermill": {
     "duration": 0.287571,
     "end_time": "2021-03-12T11:42:57.221710",
     "exception": false,
     "start_time": "2021-03-12T11:42:56.934139",
     "status": "completed"
    },
    "tags": []
   },
   "outputs": [
    {
     "data": {
      "image/png": "[encoded data removed]",
      "text/plain": [
       "<Figure size 432x288 with 1 Axes>"
      ]
     },
     "metadata": {
      "needs_background": "light"
     },
     "output_type": "display_data"
    }
   ],
   "source": [
    "#Adding three lines in the same plot\n",
    "x=np.arange(1,11)\n",
    "y1=2*x\n",
    "y2=3*x\n",
    "y3=4*x\n",
    "plt.plot(x,y1,color='r',linestyle=':',linewidth=4)\n",
    "plt.plot(x,y2,color='g',linestyle=':',linewidth=4)\n",
    "plt.plot(x,y3,color='b',linestyle=':',linewidth=4)\n",
    "plt.title(\"Three lines in graph\")\n",
    "plt.ylabel(\"y-axis\")\n",
    "plt.xlabel(\"x-axis\")\n",
    "plt.grid(True)\n",
    "plt.show()"
   ]
  },
  {
   "cell_type": "code",
   "execution_count": 102,
   "metadata": {
    "execution": {
     "iopub.execute_input": "2021-03-12T11:42:57.493359Z",
     "iopub.status.busy": "2021-03-12T11:42:57.492159Z",
     "iopub.status.idle": "2021-03-12T11:42:57.678625Z",
     "shell.execute_reply": "2021-03-12T11:42:57.679166Z"
    },
    "papermill": {
     "duration": 0.333649,
     "end_time": "2021-03-12T11:42:57.679365",
     "exception": false,
     "start_time": "2021-03-12T11:42:57.345716",
     "status": "completed"
    },
    "tags": []
   },
   "outputs": [
    {
     "data": {
      "image/png": "[encoded data removed]",
      "text/plain": [
       "<Figure size 432x288 with 2 Axes>"
      ]
     },
     "metadata": {
      "needs_background": "light"
     },
     "output_type": "display_data"
    }
   ],
   "source": [
    "#Plot two graphs in one image\n",
    "x=np.arange(1,11)\n",
    "y1=2*x\n",
    "y2=3*x\n",
    "y3=4*x\n",
    "#In following statement (2,1,1) 2 and 1 shows rows and columns ,last 1 shows graph index \n",
    "plt.subplot(2,1,1)\n",
    "plt.plot(x,y1,color='r',linestyle=':',linewidth=4)\n",
    "plt.subplot(2,1,2)\n",
    "plt.plot(x,y2,color='g',linestyle=':',linewidth=4)\n",
    "plt.show()"
   ]
  },
  {
   "cell_type": "code",
   "execution_count": 103,
   "metadata": {
    "execution": {
     "iopub.execute_input": "2021-03-12T11:42:57.934807Z",
     "iopub.status.busy": "2021-03-12T11:42:57.933826Z",
     "iopub.status.idle": "2021-03-12T11:42:58.083849Z",
     "shell.execute_reply": "2021-03-12T11:42:58.084356Z"
    },
    "papermill": {
     "duration": 0.278932,
     "end_time": "2021-03-12T11:42:58.084550",
     "exception": false,
     "start_time": "2021-03-12T11:42:57.805618",
     "status": "completed"
    },
    "tags": []
   },
   "outputs": [
    {
     "data": {
      "image/png": "[encoded data removed]",
      "text/plain": [
       "<Figure size 432x288 with 1 Axes>"
      ]
     },
     "metadata": {
      "needs_background": "light"
     },
     "output_type": "display_data"
    }
   ],
   "source": [
    "#Bar plot\n",
    "#Bar plot requires two items(key and value) so we use Dictionary.\n",
    "student={\"Ammara\":2.00,\"Ahmad\":3.12,\"Ali\":3.01,\"Umer\":3.57}\n",
    "names=list(student.keys())\n",
    "numbers=list(student.values())\n",
    "plt.bar(names,numbers)\n",
    "plt.title(\"SYMMESTER GPA\")\n",
    "plt.ylabel(\"GPA\")\n",
    "plt.xlabel(\"NAMES\")\n",
    "plt.grid(True)\n",
    "plt.show()"
   ]
  },
  {
   "cell_type": "code",
   "execution_count": 104,
   "metadata": {
    "execution": {
     "iopub.execute_input": "2021-03-12T11:42:58.358576Z",
     "iopub.status.busy": "2021-03-12T11:42:58.349127Z",
     "iopub.status.idle": "2021-03-12T11:42:58.489123Z",
     "shell.execute_reply": "2021-03-12T11:42:58.488304Z"
    },
    "papermill": {
     "duration": 0.279385,
     "end_time": "2021-03-12T11:42:58.489333",
     "exception": false,
     "start_time": "2021-03-12T11:42:58.209948",
     "status": "completed"
    },
    "tags": []
   },
   "outputs": [
    {
     "data": {
      "image/png": "[encoded data removed]",
      "text/plain": [
       "<Figure size 432x288 with 1 Axes>"
      ]
     },
     "metadata": {
      "needs_background": "light"
     },
     "output_type": "display_data"
    }
   ],
   "source": [
    "#Horizontal Bar plot\n",
    "#Bar plot requires two items(key and value) so we use Dictionary.\n",
    "student={\"Ammara\":2.00,\"Ahmad\":3.12,\"Ali\":3.01,\"Umer\":3.57}\n",
    "names=list(student.keys())\n",
    "numbers=list(student.values())\n",
    "plt.barh(names,numbers,color='b')\n",
    "plt.title(\"SYMMESTER GPA\")\n",
    "plt.ylabel(\"GPA\")\n",
    "plt.xlabel(\"NAMES\")\n",
    "plt.grid(True)\n",
    "plt.show()\n",
    "#It is similar to vertical bar chart but only difference is in horizontal we use \"barh\" instead of \"bar\"."
   ]
  },
  {
   "cell_type": "code",
   "execution_count": 105,
   "metadata": {
    "execution": {
     "iopub.execute_input": "2021-03-12T11:42:58.760616Z",
     "iopub.status.busy": "2021-03-12T11:42:58.745542Z",
     "iopub.status.idle": "2021-03-12T11:42:58.881957Z",
     "shell.execute_reply": "2021-03-12T11:42:58.882457Z"
    },
    "papermill": {
     "duration": 0.268705,
     "end_time": "2021-03-12T11:42:58.882639",
     "exception": false,
     "start_time": "2021-03-12T11:42:58.613934",
     "status": "completed"
    },
    "tags": []
   },
   "outputs": [
    {
     "data": {
      "image/png": "[encoded data removed]",
      "text/plain": [
       "<Figure size 432x288 with 1 Axes>"
      ]
     },
     "metadata": {
      "needs_background": "light"
     },
     "output_type": "display_data"
    }
   ],
   "source": [
    "#Scatter plot\n",
    "a=[10,20,30,40,50,60,70,80,90,100]\n",
    "b=[30,40,15,66,27,38,49,20,50,18]\n",
    "plt.scatter(a,b)\n",
    "plt.show()"
   ]
  },
  {
   "cell_type": "code",
   "execution_count": 106,
   "metadata": {
    "execution": {
     "iopub.execute_input": "2021-03-12T11:42:59.139735Z",
     "iopub.status.busy": "2021-03-12T11:42:59.138765Z",
     "iopub.status.idle": "2021-03-12T11:42:59.263816Z",
     "shell.execute_reply": "2021-03-12T11:42:59.263266Z"
    },
    "papermill": {
     "duration": 0.255882,
     "end_time": "2021-03-12T11:42:59.263962",
     "exception": false,
     "start_time": "2021-03-12T11:42:59.008080",
     "status": "completed"
    },
    "tags": []
   },
   "outputs": [
    {
     "data": {
      "image/png": "[encoded data removed]",
      "text/plain": [
       "<Figure size 432x288 with 1 Axes>"
      ]
     },
     "metadata": {
      "needs_background": "light"
     },
     "output_type": "display_data"
    }
   ],
   "source": [
    "#Formatting scatter Plot\n",
    "a=[10,20,30,40,50,60,70,80,90,100]\n",
    "b=[30,40,15,66,27,38,49,20,50,18]\n",
    "plt.scatter(a,b,marker=\"*\",c=\"g\",s=100)\n",
    "plt.show()"
   ]
  },
  {
   "cell_type": "code",
   "execution_count": 107,
   "metadata": {
    "execution": {
     "iopub.execute_input": "2021-03-12T11:42:59.625604Z",
     "iopub.status.busy": "2021-03-12T11:42:59.617659Z",
     "iopub.status.idle": "2021-03-12T11:42:59.749196Z",
     "shell.execute_reply": "2021-03-12T11:42:59.749679Z"
    },
    "papermill": {
     "duration": 0.357722,
     "end_time": "2021-03-12T11:42:59.749865",
     "exception": false,
     "start_time": "2021-03-12T11:42:59.392143",
     "status": "completed"
    },
    "tags": []
   },
   "outputs": [
    {
     "data": {
      "image/png": "[encoded data removed]",
      "text/plain": [
       "<Figure size 432x288 with 1 Axes>"
      ]
     },
     "metadata": {
      "needs_background": "light"
     },
     "output_type": "display_data"
    }
   ],
   "source": [
    "#Adding two markers in same plot\n",
    "a=[10,20,30,40,50,60,70,80,90,100]\n",
    "b=[5,10,15,20,25,30,35,40,45,50]\n",
    "c=[2,4,6,8,10,12,14,16,18,20]\n",
    "plt.scatter(a,b,marker=\"*\",c=\"g\",s=100)\n",
    "plt.scatter(a,c,marker=\".\",c=\"b\",s=100)\n",
    "plt.show()"
   ]
  },
  {
   "cell_type": "code",
   "execution_count": 108,
   "metadata": {
    "execution": {
     "iopub.execute_input": "2021-03-12T11:43:00.033046Z",
     "iopub.status.busy": "2021-03-12T11:43:00.030454Z",
     "iopub.status.idle": "2021-03-12T11:43:00.262887Z",
     "shell.execute_reply": "2021-03-12T11:43:00.261546Z"
    },
    "papermill": {
     "duration": 0.384776,
     "end_time": "2021-03-12T11:43:00.263072",
     "exception": false,
     "start_time": "2021-03-12T11:42:59.878296",
     "status": "completed"
    },
    "tags": []
   },
   "outputs": [
    {
     "data": {
      "image/png": "[encoded data removed]",
      "text/plain": [
       "<Figure size 432x288 with 2 Axes>"
      ]
     },
     "metadata": {
      "needs_background": "light"
     },
     "output_type": "display_data"
    }
   ],
   "source": [
    "#Graphing two sub-plots\n",
    "a=[10,20,30,40,50,60,70,80,90,100]\n",
    "b=[5,10,15,20,25,30,35,40,45,50]\n",
    "c=[2,4,6,8,10,12,14,16,18,20]\n",
    "plt.subplot(1,2,1)\n",
    "plt.scatter(a,b,marker=\"*\",c=\"g\",s=100)\n",
    "plt.subplot(1,2,2)\n",
    "plt.scatter(a,c,marker=\".\",c=\"b\",s=100)\n",
    "plt.show()"
   ]
  },
  {
   "cell_type": "code",
   "execution_count": 109,
   "metadata": {
    "execution": {
     "iopub.execute_input": "2021-03-12T11:43:00.574009Z",
     "iopub.status.busy": "2021-03-12T11:43:00.573281Z",
     "iopub.status.idle": "2021-03-12T11:43:00.726395Z",
     "shell.execute_reply": "2021-03-12T11:43:00.726877Z"
    },
    "papermill": {
     "duration": 0.305856,
     "end_time": "2021-03-12T11:43:00.727072",
     "exception": false,
     "start_time": "2021-03-12T11:43:00.421216",
     "status": "completed"
    },
    "tags": []
   },
   "outputs": [
    {
     "data": {
      "image/png": "[encoded data removed]",
      "text/plain": [
       "<Figure size 432x288 with 1 Axes>"
      ]
     },
     "metadata": {
      "needs_background": "light"
     },
     "output_type": "display_data"
    }
   ],
   "source": [
    "#Histogram\n",
    "#It is used to visualize numeric data(On the other hand,Bar chart is used to visualize categorized data)\n",
    "#For example\n",
    "data = [1,3,3,3,3,3,9,9,9,5,6,7,4,4,4,8,8,8,1]\n",
    "plt.hist(data)\n",
    "plt.show()"
   ]
  },
  {
   "cell_type": "code",
   "execution_count": 110,
   "metadata": {
    "execution": {
     "iopub.execute_input": "2021-03-12T11:43:00.990619Z",
     "iopub.status.busy": "2021-03-12T11:43:00.989884Z",
     "iopub.status.idle": "2021-03-12T11:43:01.153592Z",
     "shell.execute_reply": "2021-03-12T11:43:01.154166Z"
    },
    "papermill": {
     "duration": 0.297826,
     "end_time": "2021-03-12T11:43:01.154354",
     "exception": false,
     "start_time": "2021-03-12T11:43:00.856528",
     "status": "completed"
    },
    "tags": []
   },
   "outputs": [
    {
     "data": {
      "image/png": "[encoded data removed]",
      "text/plain": [
       "<Figure size 432x288 with 1 Axes>"
      ]
     },
     "metadata": {
      "needs_background": "light"
     },
     "output_type": "display_data"
    }
   ],
   "source": [
    "#Formating Histogram\n",
    "data = [1,3,3,3,3,3,9,9,9,5,6,7,4,4,4,8,8,8,1]\n",
    "plt.hist(data,color='r',bins=5)\n",
    "plt.show()"
   ]
  },
  {
   "cell_type": "code",
   "execution_count": 111,
   "metadata": {
    "execution": {
     "iopub.execute_input": "2021-03-12T11:43:01.422333Z",
     "iopub.status.busy": "2021-03-12T11:43:01.421588Z",
     "iopub.status.idle": "2021-03-12T11:43:01.631076Z",
     "shell.execute_reply": "2021-03-12T11:43:01.631715Z"
    },
    "papermill": {
     "duration": 0.346432,
     "end_time": "2021-03-12T11:43:01.631904",
     "exception": false,
     "start_time": "2021-03-12T11:43:01.285472",
     "status": "completed"
    },
    "tags": []
   },
   "outputs": [
    {
     "data": {
      "image/png": "[encoded data removed]",
      "text/plain": [
       "<Figure size 432x288 with 1 Axes>"
      ]
     },
     "metadata": {
      "needs_background": "light"
     },
     "output_type": "display_data"
    }
   ],
   "source": [
    "#Histogram and working with datasets\n",
    "iris=pd.read_csv('../input/iris/Iris.csv')\n",
    "iris.head()\n",
    "plt.hist(iris['SepalLengthCm'],bins=30,color=\"b\")\n",
    "#In above statement,'SepalLengthCm' is the column name in dataset         \n",
    "plt.show()"
   ]
  },
  {
   "cell_type": "code",
   "execution_count": 112,
   "metadata": {
    "execution": {
     "iopub.execute_input": "2021-03-12T11:43:01.901906Z",
     "iopub.status.busy": "2021-03-12T11:43:01.901230Z",
     "iopub.status.idle": "2021-03-12T11:43:02.031401Z",
     "shell.execute_reply": "2021-03-12T11:43:02.032164Z"
    },
    "papermill": {
     "duration": 0.267723,
     "end_time": "2021-03-12T11:43:02.032389",
     "exception": false,
     "start_time": "2021-03-12T11:43:01.764666",
     "status": "completed"
    },
    "tags": []
   },
   "outputs": [
    {
     "data": {
      "image/png": "[encoded data removed]",
      "text/plain": [
       "<Figure size 432x288 with 1 Axes>"
      ]
     },
     "metadata": {
      "needs_background": "light"
     },
     "output_type": "display_data"
    }
   ],
   "source": [
    "#Box plot\n",
    "one=[12,2,3,4,5,2,7,8,9]\n",
    "two=[11,12,13,14,15,16,17,18,11]\n",
    "three=[20,30,40,50,60,70,80,90,10]\n",
    "data = list([one,two,three])\n",
    "#Making plot\n",
    "plt.boxplot(data)\n",
    "plt.show()\n",
    "#This graph shows smallest,largest,median,25% and 75% values"
   ]
  },
  {
   "cell_type": "code",
   "execution_count": 113,
   "metadata": {
    "execution": {
     "iopub.execute_input": "2021-03-12T11:43:02.299589Z",
     "iopub.status.busy": "2021-03-12T11:43:02.298958Z",
     "iopub.status.idle": "2021-03-12T11:43:02.436351Z",
     "shell.execute_reply": "2021-03-12T11:43:02.435796Z"
    },
    "papermill": {
     "duration": 0.270864,
     "end_time": "2021-03-12T11:43:02.436507",
     "exception": false,
     "start_time": "2021-03-12T11:43:02.165643",
     "status": "completed"
    },
    "tags": []
   },
   "outputs": [
    {
     "data": {
      "image/png": "[encoded data removed]",
      "text/plain": [
       "<Figure size 432x288 with 1 Axes>"
      ]
     },
     "metadata": {
      "needs_background": "light"
     },
     "output_type": "display_data"
    }
   ],
   "source": [
    "#ViolIn Box\n",
    "one=[12,2,3,4,5,2,7,8,9]\n",
    "two=[11,12,13,14,15,16,17,18,11]\n",
    "three=[20,30,40,50,60,70,80,90,10]\n",
    "data = list([one,two,three])\n",
    "#Making violin box plot\n",
    "plt.violinplot(data)\n",
    "plt.show()"
   ]
  },
  {
   "cell_type": "code",
   "execution_count": 114,
   "metadata": {
    "execution": {
     "iopub.execute_input": "2021-03-12T11:43:02.729918Z",
     "iopub.status.busy": "2021-03-12T11:43:02.728162Z",
     "iopub.status.idle": "2021-03-12T11:43:02.796735Z",
     "shell.execute_reply": "2021-03-12T11:43:02.796155Z"
    },
    "papermill": {
     "duration": 0.223378,
     "end_time": "2021-03-12T11:43:02.796880",
     "exception": false,
     "start_time": "2021-03-12T11:43:02.573502",
     "status": "completed"
    },
    "tags": []
   },
   "outputs": [
    {
     "data": {
      "image/png": "[encoded data removed]",
      "text/plain": [
       "<Figure size 432x288 with 1 Axes>"
      ]
     },
     "metadata": {},
     "output_type": "display_data"
    }
   ],
   "source": [
    "#pie-chart\n",
    "fruit=['Apple','Orange','Mango','Banana']\n",
    "quantity=[60,30,19,100]\n",
    "#Making plot\n",
    "plt.pie(quantity,labels=fruit)\n",
    "plt.show()"
   ]
  },
  {
   "cell_type": "code",
   "execution_count": 115,
   "metadata": {
    "execution": {
     "iopub.execute_input": "2021-03-12T11:43:03.093028Z",
     "iopub.status.busy": "2021-03-12T11:43:03.090197Z",
     "iopub.status.idle": "2021-03-12T11:43:03.171282Z",
     "shell.execute_reply": "2021-03-12T11:43:03.170744Z"
    },
    "papermill": {
     "duration": 0.239948,
     "end_time": "2021-03-12T11:43:03.171439",
     "exception": false,
     "start_time": "2021-03-12T11:43:02.931491",
     "status": "completed"
    },
    "tags": []
   },
   "outputs": [
    {
     "data": {
      "image/png": "[encoded data removed]",
      "text/plain": [
       "<Figure size 432x288 with 1 Axes>"
      ]
     },
     "metadata": {},
     "output_type": "display_data"
    }
   ],
   "source": [
    "#Formating with pie-chart\n",
    "fruit=['Apple','Orange','Mango','Banana']\n",
    "quantity=[60,30,19,100]\n",
    "#Making plot\n",
    "plt.pie(quantity,labels=fruit,autopct=\"%0.1f%%\",colors=['red','blue','black','green'])\n",
    "plt.show()"
   ]
  },
  {
   "cell_type": "code",
   "execution_count": 116,
   "metadata": {
    "execution": {
     "iopub.execute_input": "2021-03-12T11:43:03.464918Z",
     "iopub.status.busy": "2021-03-12T11:43:03.462860Z",
     "iopub.status.idle": "2021-03-12T11:43:03.562442Z",
     "shell.execute_reply": "2021-03-12T11:43:03.561387Z"
    },
    "papermill": {
     "duration": 0.256168,
     "end_time": "2021-03-12T11:43:03.562594",
     "exception": false,
     "start_time": "2021-03-12T11:43:03.306426",
     "status": "completed"
    },
    "tags": []
   },
   "outputs": [
    {
     "data": {
      "image/png": "[encoded data removed]",
      "text/plain": [
       "<Figure size 432x288 with 1 Axes>"
      ]
     },
     "metadata": {},
     "output_type": "display_data"
    }
   ],
   "source": [
    "#DoughNut-chart\n",
    "fruit=['Apple','Orange','Mango','Banana']\n",
    "quantity=[60,30,19,100]\n",
    "#Making Plot\n",
    "plt.pie(quantity,labels=fruit,radius=2)\n",
    "plt.pie([1],colors=['w'],radius=1)\n",
    "plt.show()"
   ]
  },
  {
   "cell_type": "code",
   "execution_count": 117,
   "metadata": {
    "execution": {
     "iopub.execute_input": "2021-03-12T11:43:03.839595Z",
     "iopub.status.busy": "2021-03-12T11:43:03.838779Z",
     "iopub.status.idle": "2021-03-12T11:43:05.933429Z",
     "shell.execute_reply": "2021-03-12T11:43:05.932661Z"
    },
    "papermill": {
     "duration": 2.235844,
     "end_time": "2021-03-12T11:43:05.933575",
     "exception": false,
     "start_time": "2021-03-12T11:43:03.697731",
     "status": "completed"
    },
    "tags": []
   },
   "outputs": [
    {
     "data": {
      "text/html": [
       "<div>\n",
       "<style scoped>\n",
       "    .dataframe tbody tr th:only-of-type {\n",
       "        vertical-align: middle;\n",
       "    }\n",
       "\n",
       "    .dataframe tbody tr th {\n",
       "        vertical-align: top;\n",
       "    }\n",
       "\n",
       "    .dataframe thead th {\n",
       "        text-align: right;\n",
       "    }\n",
       "</style>\n",
       "<table border=\"1\" class=\"dataframe\">\n",
       "  <thead>\n",
       "    <tr style=\"text-align: right;\">\n",
       "      <th></th>\n",
       "      <th>subject</th>\n",
       "      <th>timepoint</th>\n",
       "      <th>event</th>\n",
       "      <th>region</th>\n",
       "      <th>signal</th>\n",
       "    </tr>\n",
       "  </thead>\n",
       "  <tbody>\n",
       "    <tr>\n",
       "      <th>0</th>\n",
       "      <td>s13</td>\n",
       "      <td>18</td>\n",
       "      <td>stim</td>\n",
       "      <td>parietal</td>\n",
       "      <td>-0.017552</td>\n",
       "    </tr>\n",
       "    <tr>\n",
       "      <th>1</th>\n",
       "      <td>s5</td>\n",
       "      <td>14</td>\n",
       "      <td>stim</td>\n",
       "      <td>parietal</td>\n",
       "      <td>-0.080883</td>\n",
       "    </tr>\n",
       "    <tr>\n",
       "      <th>2</th>\n",
       "      <td>s12</td>\n",
       "      <td>18</td>\n",
       "      <td>stim</td>\n",
       "      <td>parietal</td>\n",
       "      <td>-0.081033</td>\n",
       "    </tr>\n",
       "    <tr>\n",
       "      <th>3</th>\n",
       "      <td>s11</td>\n",
       "      <td>18</td>\n",
       "      <td>stim</td>\n",
       "      <td>parietal</td>\n",
       "      <td>-0.046134</td>\n",
       "    </tr>\n",
       "    <tr>\n",
       "      <th>4</th>\n",
       "      <td>s10</td>\n",
       "      <td>18</td>\n",
       "      <td>stim</td>\n",
       "      <td>parietal</td>\n",
       "      <td>-0.037970</td>\n",
       "    </tr>\n",
       "  </tbody>\n",
       "</table>\n",
       "</div>"
      ],
      "text/plain": [
       "  subject  timepoint event    region    signal\n",
       "0     s13         18  stim  parietal -0.017552\n",
       "1      s5         14  stim  parietal -0.080883\n",
       "2     s12         18  stim  parietal -0.081033\n",
       "3     s11         18  stim  parietal -0.046134\n",
       "4     s10         18  stim  parietal -0.037970"
      ]
     },
     "execution_count": 117,
     "metadata": {},
     "output_type": "execute_result"
    }
   ],
   "source": [
    "#11-Data visualization with SeaBorn library\n",
    "#This library is bulit on matplotlib and used for Data Visualization.It provides more features than matplotlib.\n",
    "import seaborn as sns\n",
    "from matplotlib import pyplot as plt\n",
    "#Loading built-in data-set 'fmri'\n",
    "fmri=sns.load_dataset('fmri')\n",
    "fmri.head()\n"
   ]
  },
  {
   "cell_type": "code",
   "execution_count": 118,
   "metadata": {
    "execution": {
     "iopub.execute_input": "2021-03-12T11:43:06.234349Z",
     "iopub.status.busy": "2021-03-12T11:43:06.233628Z",
     "iopub.status.idle": "2021-03-12T11:43:06.961775Z",
     "shell.execute_reply": "2021-03-12T11:43:06.961197Z"
    },
    "papermill": {
     "duration": 0.892513,
     "end_time": "2021-03-12T11:43:06.961937",
     "exception": false,
     "start_time": "2021-03-12T11:43:06.069424",
     "status": "completed"
    },
    "tags": []
   },
   "outputs": [
    {
     "data": {
      "image/png": "[encoded data removed]",
      "text/plain": [
       "<Figure size 432x288 with 1 Axes>"
      ]
     },
     "metadata": {
      "needs_background": "light"
     },
     "output_type": "display_data"
    }
   ],
   "source": [
    "#Following chart shows graph between 'signal' column and 'timepoint' column.\n",
    "sns.lineplot(x=\"timepoint\",y=\"signal\",data=fmri)\n",
    "plt.show()\n",
    "#In Seaborn library,we do not have any need to add x and y axis label seperatly as we need in matplotlib.\n",
    "#So,seaborn library make code easy as compared to matplotlib."
   ]
  },
  {
   "cell_type": "code",
   "execution_count": 119,
   "metadata": {
    "execution": {
     "iopub.execute_input": "2021-03-12T11:43:07.245062Z",
     "iopub.status.busy": "2021-03-12T11:43:07.244242Z",
     "iopub.status.idle": "2021-03-12T11:43:07.248823Z",
     "shell.execute_reply": "2021-03-12T11:43:07.248193Z"
    },
    "papermill": {
     "duration": 0.14861,
     "end_time": "2021-03-12T11:43:07.248984",
     "exception": false,
     "start_time": "2021-03-12T11:43:07.100374",
     "status": "completed"
    },
    "tags": []
   },
   "outputs": [
    {
     "data": {
      "text/plain": [
       "(1064, 5)"
      ]
     },
     "execution_count": 119,
     "metadata": {},
     "output_type": "execute_result"
    }
   ],
   "source": [
    "#\"fmri data-set\" consists of 1064 rows and 5 columns\n",
    "fmri.shape"
   ]
  },
  {
   "cell_type": "code",
   "execution_count": 120,
   "metadata": {
    "execution": {
     "iopub.execute_input": "2021-03-12T11:43:07.536374Z",
     "iopub.status.busy": "2021-03-12T11:43:07.533385Z",
     "iopub.status.idle": "2021-03-12T11:43:08.862073Z",
     "shell.execute_reply": "2021-03-12T11:43:08.862553Z"
    },
    "papermill": {
     "duration": 1.475878,
     "end_time": "2021-03-12T11:43:08.862774",
     "exception": false,
     "start_time": "2021-03-12T11:43:07.386896",
     "status": "completed"
    },
    "tags": []
   },
   "outputs": [
    {
     "data": {
      "image/png": "[encoded data removed]",
      "text/plain": [
       "<Figure size 432x288 with 1 Axes>"
      ]
     },
     "metadata": {
      "needs_background": "light"
     },
     "output_type": "display_data"
    }
   ],
   "source": [
    "#Working and formatting with line chart\n",
    "sns.lineplot(x=\"timepoint\",y=\"signal\",data=fmri,hue='event',style=\"event\",markers=True)\n",
    "plt.show()\n",
    "#In above statement,'markers' refers to dots in these lines. "
   ]
  },
  {
   "cell_type": "code",
   "execution_count": 121,
   "metadata": {
    "execution": {
     "iopub.execute_input": "2021-03-12T11:43:09.150505Z",
     "iopub.status.busy": "2021-03-12T11:43:09.149786Z",
     "iopub.status.idle": "2021-03-12T11:43:09.400038Z",
     "shell.execute_reply": "2021-03-12T11:43:09.399322Z"
    },
    "papermill": {
     "duration": 0.397882,
     "end_time": "2021-03-12T11:43:09.400188",
     "exception": false,
     "start_time": "2021-03-12T11:43:09.002306",
     "status": "completed"
    },
    "tags": []
   },
   "outputs": [
    {
     "data": {
      "image/png": "[encoded data removed]",
      "text/plain": [
       "<Figure size 432x288 with 1 Axes>"
      ]
     },
     "metadata": {},
     "output_type": "display_data"
    }
   ],
   "source": [
    "#Bar plot using seaborn\n",
    "import pandas as pd\n",
    "sns.set(style=\"whitegrid\")\n",
    "iris=pd.read_csv('../input/iris/Iris.csv')\n",
    "sns.barplot(x=\"Species\",y=\"SepalLengthCm\",data=iris)\n",
    "plt.show()\n",
    "#Here we input two columns(Species,SepalLengthCm) from 'iris dataset' and visualize them into Bar plot"
   ]
  },
  {
   "cell_type": "code",
   "execution_count": 122,
   "metadata": {
    "execution": {
     "iopub.execute_input": "2021-03-12T11:43:09.687547Z",
     "iopub.status.busy": "2021-03-12T11:43:09.686485Z",
     "iopub.status.idle": "2021-03-12T11:43:09.944473Z",
     "shell.execute_reply": "2021-03-12T11:43:09.943770Z"
    },
    "papermill": {
     "duration": 0.40412,
     "end_time": "2021-03-12T11:43:09.944842",
     "exception": false,
     "start_time": "2021-03-12T11:43:09.540722",
     "status": "completed"
    },
    "tags": []
   },
   "outputs": [
    {
     "data": {
      "image/png": "[encoded data removed]",
      "text/plain": [
       "<Figure size 432x288 with 1 Axes>"
      ]
     },
     "metadata": {},
     "output_type": "display_data"
    }
   ],
   "source": [
    "#Formatting Bar Plot\n",
    "sns.set(style=\"whitegrid\")\n",
    "iris=pd.read_csv('../input/iris/Iris.csv')\n",
    "sns.barplot(x=\"Species\",y=\"SepalWidthCm\",data=iris,palette='vlag')\n",
    "plt.show()\n",
    "#Here you noticed that colours are changed, we can also choose any other colours by writting \"rocket\",\"Blues_d\" instead of writting \"vlag\" in above statement."
   ]
  },
  {
   "cell_type": "code",
   "execution_count": 123,
   "metadata": {
    "execution": {
     "iopub.execute_input": "2021-03-12T11:43:10.237507Z",
     "iopub.status.busy": "2021-03-12T11:43:10.236308Z",
     "iopub.status.idle": "2021-03-12T11:43:10.480876Z",
     "shell.execute_reply": "2021-03-12T11:43:10.480275Z"
    },
    "papermill": {
     "duration": 0.392423,
     "end_time": "2021-03-12T11:43:10.481030",
     "exception": false,
     "start_time": "2021-03-12T11:43:10.088607",
     "status": "completed"
    },
    "tags": []
   },
   "outputs": [
    {
     "data": {
      "image/png": "[encoded data removed]",
      "text/plain": [
       "<Figure size 432x288 with 1 Axes>"
      ]
     },
     "metadata": {},
     "output_type": "display_data"
    }
   ],
   "source": [
    "#Formatting bar plot\n",
    "#If we want any fixed color then we use following code\n",
    "sns.set(style=\"whitegrid\")\n",
    "iris=pd.read_csv('../input/iris/Iris.csv')\n",
    "sns.barplot(x=\"Species\",y=\"SepalLengthCm\",data=iris,color=\"green\")\n",
    "plt.show()\n",
    "#We can also use any color instead of green.You just have to write that color name instead of \"green\" in above statement"
   ]
  },
  {
   "cell_type": "code",
   "execution_count": 124,
   "metadata": {
    "execution": {
     "iopub.execute_input": "2021-03-12T11:43:10.768006Z",
     "iopub.status.busy": "2021-03-12T11:43:10.767312Z",
     "iopub.status.idle": "2021-03-12T11:43:10.998823Z",
     "shell.execute_reply": "2021-03-12T11:43:10.999307Z"
    },
    "papermill": {
     "duration": 0.376479,
     "end_time": "2021-03-12T11:43:10.999495",
     "exception": false,
     "start_time": "2021-03-12T11:43:10.623016",
     "status": "completed"
    },
    "tags": []
   },
   "outputs": [
    {
     "data": {
      "image/png": "[encoded data removed]",
      "text/plain": [
       "<Figure size 432x288 with 1 Axes>"
      ]
     },
     "metadata": {},
     "output_type": "display_data"
    }
   ],
   "source": [
    "#scatterplot using SeaBorn\n",
    "import pandas as pd\n",
    "#Reading data set from \"iris.csv\"\n",
    "iris=pd.read_csv('../input/iris/Iris.csv')\n",
    "iris.head()\n",
    "#Following statement is used to visualize two columns(SepalLengthCm and SepalWidthCm) from\"IRIS.csv\" data set\n",
    "sns.scatterplot(x=\"SepalLengthCm\",y=\"PetalLengthCm\",data=iris)\n",
    "plt.show()\n",
    "#This graph shows that values in both columns increases linearly. "
   ]
  },
  {
   "cell_type": "code",
   "execution_count": 125,
   "metadata": {
    "execution": {
     "iopub.execute_input": "2021-03-12T11:43:11.293852Z",
     "iopub.status.busy": "2021-03-12T11:43:11.293156Z",
     "iopub.status.idle": "2021-03-12T11:43:11.631759Z",
     "shell.execute_reply": "2021-03-12T11:43:11.632229Z"
    },
    "papermill": {
     "duration": 0.488122,
     "end_time": "2021-03-12T11:43:11.632443",
     "exception": false,
     "start_time": "2021-03-12T11:43:11.144321",
     "status": "completed"
    },
    "tags": []
   },
   "outputs": [
    {
     "data": {
      "image/png": "[encoded data removed]",
      "text/plain": [
       "<Figure size 432x288 with 1 Axes>"
      ]
     },
     "metadata": {},
     "output_type": "display_data"
    }
   ],
   "source": [
    "#Analysing Dataset using scatterplot\n",
    "import pandas as pd\n",
    "iris=pd.read_csv('../input/iris/Iris.csv')\n",
    "iris.head()\n",
    "sns.scatterplot(x=\"SepalLengthCm\",y=\"PetalLengthCm\",data=iris,hue=\"Species\",style=\"Species\")\n",
    "plt.show()\n",
    "#In dataset,last column(Species)consists of three species ,1-setosa,2-versicolor,3-virginica.\n",
    "#Following chart shows that setosa is situated below middle,versicolor is situated in middle and virginica is situated above middle."
   ]
  },
  {
   "cell_type": "code",
   "execution_count": 126,
   "metadata": {
    "execution": {
     "iopub.execute_input": "2021-03-12T11:43:11.927532Z",
     "iopub.status.busy": "2021-03-12T11:43:11.926800Z",
     "iopub.status.idle": "2021-03-12T11:43:12.422641Z",
     "shell.execute_reply": "2021-03-12T11:43:12.421953Z"
    },
    "papermill": {
     "duration": 0.645615,
     "end_time": "2021-03-12T11:43:12.422802",
     "exception": false,
     "start_time": "2021-03-12T11:43:11.777187",
     "status": "completed"
    },
    "tags": []
   },
   "outputs": [
    {
     "data": {
      "image/png": "[encoded data removed]",
      "text/plain": [
       "<Figure size 432x288 with 1 Axes>"
      ]
     },
     "metadata": {},
     "output_type": "display_data"
    }
   ],
   "source": [
    "#Analysing Data set using another column in scatterplot\n",
    "import pandas as pd\n",
    "iris=pd.read_csv('../input/iris/Iris.csv')\n",
    "iris.head()\n",
    "sns.scatterplot(x=\"SepalLengthCm\",y=\"PetalLengthCm\",data=iris,hue=\"PetalLengthCm\")\n",
    "plt.show()\n",
    "#Here you noticed that we have got numeric data and when value increases the intensity of color also increases. "
   ]
  },
  {
   "cell_type": "code",
   "execution_count": 127,
   "metadata": {
    "execution": {
     "iopub.execute_input": "2021-03-12T11:43:12.726563Z",
     "iopub.status.busy": "2021-03-12T11:43:12.725482Z",
     "iopub.status.idle": "2021-03-12T11:43:12.949634Z",
     "shell.execute_reply": "2021-03-12T11:43:12.950162Z"
    },
    "papermill": {
     "duration": 0.376347,
     "end_time": "2021-03-12T11:43:12.950366",
     "exception": false,
     "start_time": "2021-03-12T11:43:12.574019",
     "status": "completed"
    },
    "tags": []
   },
   "outputs": [
    {
     "name": "stderr",
     "output_type": "stream",
     "text": [
      "/opt/conda/lib/python3.7/site-packages/seaborn/distributions.py:2557: FutureWarning: `distplot` is a deprecated function and will be removed in a future version. Please adapt your code to use either `displot` (a figure-level function with similar flexibility) or `histplot` (an axes-level function for histograms).\n",
      "  warnings.warn(msg, FutureWarning)\n"
     ]
    },
    {
     "data": {
      "image/png": "[encoded data removed]",
      "text/plain": [
       "<Figure size 432x288 with 1 Axes>"
      ]
     },
     "metadata": {},
     "output_type": "display_data"
    }
   ],
   "source": [
    "#Histogram/Distplot using Seaborn\n",
    "#It is a combination of histogram and frequency polygon\n",
    "iris=pd.read_csv('../input/iris/Iris.csv')\n",
    "iris.head()\n",
    "sns.distplot(iris['PetalLengthCm'])\n",
    "plt.show()"
   ]
  },
  {
   "cell_type": "code",
   "execution_count": 128,
   "metadata": {
    "execution": {
     "iopub.execute_input": "2021-03-12T11:43:13.253494Z",
     "iopub.status.busy": "2021-03-12T11:43:13.252410Z",
     "iopub.status.idle": "2021-03-12T11:43:13.455471Z",
     "shell.execute_reply": "2021-03-12T11:43:13.454811Z"
    },
    "papermill": {
     "duration": 0.357402,
     "end_time": "2021-03-12T11:43:13.455767",
     "exception": false,
     "start_time": "2021-03-12T11:43:13.098365",
     "status": "completed"
    },
    "tags": []
   },
   "outputs": [
    {
     "name": "stderr",
     "output_type": "stream",
     "text": [
      "/opt/conda/lib/python3.7/site-packages/seaborn/distributions.py:2557: FutureWarning: `distplot` is a deprecated function and will be removed in a future version. Please adapt your code to use either `displot` (a figure-level function with similar flexibility) or `kdeplot` (an axes-level function for kernel density plots).\n",
      "  warnings.warn(msg, FutureWarning)\n"
     ]
    },
    {
     "data": {
      "image/png": "[encoded data removed]",
      "text/plain": [
       "<Figure size 432x288 with 1 Axes>"
      ]
     },
     "metadata": {},
     "output_type": "display_data"
    }
   ],
   "source": [
    "#Modifying Histogram\n",
    "#As we know that Histogram is a combination if polygram and histogram.We can also remove histogram from chart as shown in following.\n",
    "iris=pd.read_csv('../input/iris/Iris.csv')\n",
    "iris.head()\n",
    "sns.distplot(iris['PetalLengthCm'],hist=False)\n",
    "plt.show()"
   ]
  },
  {
   "cell_type": "code",
   "execution_count": 129,
   "metadata": {
    "execution": {
     "iopub.execute_input": "2021-03-12T11:43:13.760805Z",
     "iopub.status.busy": "2021-03-12T11:43:13.760122Z",
     "iopub.status.idle": "2021-03-12T11:43:13.993017Z",
     "shell.execute_reply": "2021-03-12T11:43:13.992293Z"
    },
    "papermill": {
     "duration": 0.38803,
     "end_time": "2021-03-12T11:43:13.993180",
     "exception": false,
     "start_time": "2021-03-12T11:43:13.605150",
     "status": "completed"
    },
    "tags": []
   },
   "outputs": [
    {
     "name": "stderr",
     "output_type": "stream",
     "text": [
      "/opt/conda/lib/python3.7/site-packages/seaborn/distributions.py:2557: FutureWarning: `distplot` is a deprecated function and will be removed in a future version. Please adapt your code to use either `displot` (a figure-level function with similar flexibility) or `histplot` (an axes-level function for histograms).\n",
      "  warnings.warn(msg, FutureWarning)\n"
     ]
    },
    {
     "data": {
      "image/png": "[encoded data removed]",
      "text/plain": [
       "<Figure size 432x288 with 1 Axes>"
      ]
     },
     "metadata": {},
     "output_type": "display_data"
    }
   ],
   "source": [
    "#Modifying Histogram\n",
    "#As above mantioned,we can also remove frequency by using \"kde\" as shown in following\n",
    "iris=pd.read_csv('../input/iris/Iris.csv')\n",
    "iris.head()\n",
    "sns.distplot(iris['PetalLengthCm'],color=\"green\",bins=10,kde=False)\n",
    "plt.show()"
   ]
  },
  {
   "cell_type": "code",
   "execution_count": 130,
   "metadata": {
    "execution": {
     "iopub.execute_input": "2021-03-12T11:43:14.299181Z",
     "iopub.status.busy": "2021-03-12T11:43:14.298441Z",
     "iopub.status.idle": "2021-03-12T11:43:14.528353Z",
     "shell.execute_reply": "2021-03-12T11:43:14.527781Z"
    },
    "papermill": {
     "duration": 0.38555,
     "end_time": "2021-03-12T11:43:14.528501",
     "exception": false,
     "start_time": "2021-03-12T11:43:14.142951",
     "status": "completed"
    },
    "tags": []
   },
   "outputs": [
    {
     "data": {
      "image/png": "[encoded data removed]",
      "text/plain": [
       "<Figure size 432x288 with 1 Axes>"
      ]
     },
     "metadata": {},
     "output_type": "display_data"
    }
   ],
   "source": [
    "#Modifying histogram\n",
    "iris=pd.read_csv('../input/iris/Iris.csv')\n",
    "iris.head()\n",
    "sns.distplot(iris['PetalLengthCm'],color=\"green\",bins=10,kde=False,vertical=True)\n",
    "plt.show()\n",
    "#Here you notice that we can also change this graph vertically"
   ]
  },
  {
   "cell_type": "code",
   "execution_count": 131,
   "metadata": {
    "execution": {
     "iopub.execute_input": "2021-03-12T11:43:14.881513Z",
     "iopub.status.busy": "2021-03-12T11:43:14.880496Z",
     "iopub.status.idle": "2021-03-12T11:43:15.397795Z",
     "shell.execute_reply": "2021-03-12T11:43:15.397250Z"
    },
    "papermill": {
     "duration": 0.674698,
     "end_time": "2021-03-12T11:43:15.397945",
     "exception": false,
     "start_time": "2021-03-12T11:43:14.723247",
     "status": "completed"
    },
    "tags": []
   },
   "outputs": [
    {
     "data": {
      "image/png": "[encoded data removed]",
      "text/plain": [
       "<Figure size 432x432 with 3 Axes>"
      ]
     },
     "metadata": {},
     "output_type": "display_data"
    }
   ],
   "source": [
    "#Jointplot using SeaBorn\n",
    "#In jointplot, we use histogram and scatter-plot together as shown in following\n",
    "iris=pd.read_csv('../input/iris/Iris.csv')\n",
    "iris.head()\n",
    "sns.jointplot(x='SepalLengthCm',y='PetalLengthCm',data=iris,color=\"green\")\n",
    "plt.show()\n",
    "#On right side we saw histogram of column \"PetalLengthCm\" and on up side we saw histogram of column \"SepalLengthCm\". "
   ]
  },
  {
   "cell_type": "code",
   "execution_count": 132,
   "metadata": {
    "execution": {
     "iopub.execute_input": "2021-03-12T11:43:15.712487Z",
     "iopub.status.busy": "2021-03-12T11:43:15.711415Z",
     "iopub.status.idle": "2021-03-12T11:43:16.355333Z",
     "shell.execute_reply": "2021-03-12T11:43:16.354795Z"
    },
    "papermill": {
     "duration": 0.805747,
     "end_time": "2021-03-12T11:43:16.355492",
     "exception": false,
     "start_time": "2021-03-12T11:43:15.549745",
     "status": "completed"
    },
    "tags": []
   },
   "outputs": [
    {
     "data": {
      "image/png": "[encoded data removed]",
      "text/plain": [
       "<Figure size 432x432 with 3 Axes>"
      ]
     },
     "metadata": {},
     "output_type": "display_data"
    }
   ],
   "source": [
    "#Modifying scatterplot \n",
    "#We can also add line in histogram and scatterplot using regression attribute as shown in following statement\n",
    "iris=pd.read_csv('../input/iris/Iris.csv')\n",
    "iris.head()\n",
    "sns.jointplot(x='SepalLengthCm',y='PetalLengthCm',data=iris,color=\"green\",kind=\"reg\")\n",
    "plt.show()\n"
   ]
  },
  {
   "cell_type": "code",
   "execution_count": 133,
   "metadata": {
    "execution": {
     "iopub.execute_input": "2021-03-12T11:43:16.667804Z",
     "iopub.status.busy": "2021-03-12T11:43:16.667107Z",
     "iopub.status.idle": "2021-03-12T11:43:16.847335Z",
     "shell.execute_reply": "2021-03-12T11:43:16.846390Z"
    },
    "papermill": {
     "duration": 0.338643,
     "end_time": "2021-03-12T11:43:16.847592",
     "exception": false,
     "start_time": "2021-03-12T11:43:16.508949",
     "status": "completed"
    },
    "tags": []
   },
   "outputs": [
    {
     "data": {
      "image/png": "[encoded data removed]",
      "text/plain": [
       "<Figure size 432x288 with 1 Axes>"
      ]
     },
     "metadata": {},
     "output_type": "display_data"
    }
   ],
   "source": [
    "#BoxPlot using SeaBorn\n",
    "#BoxPlot is usually used when we try to find average between Yes/No in Dataset  . \n",
    "iris=pd.read_csv('../input/iris/Iris.csv')\n",
    "iris.head()\n",
    "sns.boxplot(x='Species',y='SepalWidthCm',data=iris,color=\"green\",linewidth=5)\n",
    "plt.show()"
   ]
  },
  {
   "cell_type": "code",
   "execution_count": 134,
   "metadata": {
    "execution": {
     "iopub.execute_input": "2021-03-12T11:43:17.162875Z",
     "iopub.status.busy": "2021-03-12T11:43:17.161860Z",
     "iopub.status.idle": "2021-03-12T11:43:17.165050Z",
     "shell.execute_reply": "2021-03-12T11:43:17.165552Z"
    },
    "papermill": {
     "duration": 0.162663,
     "end_time": "2021-03-12T11:43:17.165757",
     "exception": false,
     "start_time": "2021-03-12T11:43:17.003094",
     "status": "completed"
    },
    "tags": []
   },
   "outputs": [],
   "source": [
    "#If you like my work,dont forget to upvote and post a comment."
   ]
  }
 ],
 "metadata": {
  "kernelspec": {
   "display_name": "Python 3",
   "language": "python",
   "name": "python3"
  },
  "language_info": {
   "codemirror_mode": {
    "name": "ipython",
    "version": 3
   },
   "file_extension": ".py",
   "mimetype": "text/x-python",
   "name": "python",
   "nbconvert_exporter": "python",
   "pygments_lexer": "ipython3",
   "version": "3.7.9"
  },
  "papermill": {
   "default_parameters": {},
   "duration": 48.413629,
   "end_time": "2021-03-12T11:43:18.031825",
   "environment_variables": {},
   "exception": null,
   "input_path": "__notebook__.ipynb",
   "output_path": "__notebook__.ipynb",
   "parameters": {},
   "start_time": "2021-03-12T11:42:29.618196",
   "version": "2.2.2"
  }
 },
 "nbformat": 4,
 "nbformat_minor": 4
}
