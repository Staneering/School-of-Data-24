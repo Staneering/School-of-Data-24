{
  "cells": [
    {
      "cell_type": "markdown",
      "source": [
        "Data Description\n",
        "\n"
      ],
      "metadata": {
        "id": "nJyC9ELvqI40"
      },
      "id": "nJyC9ELvqI40"
    },
    {
      "cell_type": "code",
      "execution_count": 1,
      "id": "c89c5feb",
      "metadata": {
        "id": "c89c5feb"
      },
      "outputs": [],
      "source": [
        "# Importing necessary libraries\n",
        "import pandas as pd"
      ]
    },
    {
      "cell_type": "code",
      "execution_count": 2,
      "id": "a911cf4d",
      "metadata": {
        "id": "a911cf4d"
      },
      "outputs": [],
      "source": [
        "# Reading the CSV file into a DataFrame\n",
        "file = r\"/content/ds_salaries.csv\"\n",
        "df = pd.read_csv(file)"
      ]
    },
    {
      "cell_type": "code",
      "execution_count": 3,
      "id": "70d72426",
      "metadata": {
        "id": "70d72426",
        "outputId": "a9a56e0a-72de-44f9-a97a-9049fc36ac96",
        "colab": {
          "base_uri": "https://localhost:8080/",
          "height": 382
        }
      },
      "outputs": [
        {
          "output_type": "execute_result",
          "data": {
            "text/plain": [
              "   Unnamed: 0  work_year experience_level employment_type  \\\n",
              "0           0       2020               MI              FT   \n",
              "1           1       2020               SE              FT   \n",
              "2           2       2020               SE              FT   \n",
              "3           3       2020               MI              FT   \n",
              "4           4       2020               SE              FT   \n",
              "\n",
              "                    job_title  salary salary_currency  salary_in_usd  \\\n",
              "0              Data Scientist   70000             EUR          79833   \n",
              "1  Machine Learning Scientist  260000             USD         260000   \n",
              "2           Big Data Engineer   85000             GBP         109024   \n",
              "3        Product Data Analyst   20000             USD          20000   \n",
              "4   Machine Learning Engineer  150000             USD         150000   \n",
              "\n",
              "  employee_residence  remote_ratio company_location company_size  \n",
              "0                 DE             0               DE            L  \n",
              "1                 JP             0               JP            S  \n",
              "2                 GB            50               GB            M  \n",
              "3                 HN             0               HN            S  \n",
              "4                 US            50               US            L  "
            ],
            "text/html": [
              "\n",
              "  <div id=\"df-53ae598c-0c54-402f-a417-dabdb5ed0d58\" class=\"colab-df-container\">\n",
              "    <div>\n",
              "<style scoped>\n",
              "    .dataframe tbody tr th:only-of-type {\n",
              "        vertical-align: middle;\n",
              "    }\n",
              "\n",
              "    .dataframe tbody tr th {\n",
              "        vertical-align: top;\n",
              "    }\n",
              "\n",
              "    .dataframe thead th {\n",
              "        text-align: right;\n",
              "    }\n",
              "</style>\n",
              "<table border=\"1\" class=\"dataframe\">\n",
              "  <thead>\n",
              "    <tr style=\"text-align: right;\">\n",
              "      <th></th>\n",
              "      <th>Unnamed: 0</th>\n",
              "      <th>work_year</th>\n",
              "      <th>experience_level</th>\n",
              "      <th>employment_type</th>\n",
              "      <th>job_title</th>\n",
              "      <th>salary</th>\n",
              "      <th>salary_currency</th>\n",
              "      <th>salary_in_usd</th>\n",
              "      <th>employee_residence</th>\n",
              "      <th>remote_ratio</th>\n",
              "      <th>company_location</th>\n",
              "      <th>company_size</th>\n",
              "    </tr>\n",
              "  </thead>\n",
              "  <tbody>\n",
              "    <tr>\n",
              "      <th>0</th>\n",
              "      <td>0</td>\n",
              "      <td>2020</td>\n",
              "      <td>MI</td>\n",
              "      <td>FT</td>\n",
              "      <td>Data Scientist</td>\n",
              "      <td>70000</td>\n",
              "      <td>EUR</td>\n",
              "      <td>79833</td>\n",
              "      <td>DE</td>\n",
              "      <td>0</td>\n",
              "      <td>DE</td>\n",
              "      <td>L</td>\n",
              "    </tr>\n",
              "    <tr>\n",
              "      <th>1</th>\n",
              "      <td>1</td>\n",
              "      <td>2020</td>\n",
              "      <td>SE</td>\n",
              "      <td>FT</td>\n",
              "      <td>Machine Learning Scientist</td>\n",
              "      <td>260000</td>\n",
              "      <td>USD</td>\n",
              "      <td>260000</td>\n",
              "      <td>JP</td>\n",
              "      <td>0</td>\n",
              "      <td>JP</td>\n",
              "      <td>S</td>\n",
              "    </tr>\n",
              "    <tr>\n",
              "      <th>2</th>\n",
              "      <td>2</td>\n",
              "      <td>2020</td>\n",
              "      <td>SE</td>\n",
              "      <td>FT</td>\n",
              "      <td>Big Data Engineer</td>\n",
              "      <td>85000</td>\n",
              "      <td>GBP</td>\n",
              "      <td>109024</td>\n",
              "      <td>GB</td>\n",
              "      <td>50</td>\n",
              "      <td>GB</td>\n",
              "      <td>M</td>\n",
              "    </tr>\n",
              "    <tr>\n",
              "      <th>3</th>\n",
              "      <td>3</td>\n",
              "      <td>2020</td>\n",
              "      <td>MI</td>\n",
              "      <td>FT</td>\n",
              "      <td>Product Data Analyst</td>\n",
              "      <td>20000</td>\n",
              "      <td>USD</td>\n",
              "      <td>20000</td>\n",
              "      <td>HN</td>\n",
              "      <td>0</td>\n",
              "      <td>HN</td>\n",
              "      <td>S</td>\n",
              "    </tr>\n",
              "    <tr>\n",
              "      <th>4</th>\n",
              "      <td>4</td>\n",
              "      <td>2020</td>\n",
              "      <td>SE</td>\n",
              "      <td>FT</td>\n",
              "      <td>Machine Learning Engineer</td>\n",
              "      <td>150000</td>\n",
              "      <td>USD</td>\n",
              "      <td>150000</td>\n",
              "      <td>US</td>\n",
              "      <td>50</td>\n",
              "      <td>US</td>\n",
              "      <td>L</td>\n",
              "    </tr>\n",
              "  </tbody>\n",
              "</table>\n",
              "</div>\n",
              "    <div class=\"colab-df-buttons\">\n",
              "\n",
              "  <div class=\"colab-df-container\">\n",
              "    <button class=\"colab-df-convert\" onclick=\"convertToInteractive('df-53ae598c-0c54-402f-a417-dabdb5ed0d58')\"\n",
              "            title=\"Convert this dataframe to an interactive table.\"\n",
              "            style=\"display:none;\">\n",
              "\n",
              "  <svg xmlns=\"http://www.w3.org/2000/svg\" height=\"24px\" viewBox=\"0 -960 960 960\">\n",
              "    <path d=\"M120-120v-720h720v720H120Zm60-500h600v-160H180v160Zm220 220h160v-160H400v160Zm0 220h160v-160H400v160ZM180-400h160v-160H180v160Zm440 0h160v-160H620v160ZM180-180h160v-160H180v160Zm440 0h160v-160H620v160Z\"/>\n",
              "  </svg>\n",
              "    </button>\n",
              "\n",
              "  <style>\n",
              "    .colab-df-container {\n",
              "      display:flex;\n",
              "      gap: 12px;\n",
              "    }\n",
              "\n",
              "    .colab-df-convert {\n",
              "      background-color: #E8F0FE;\n",
              "      border: none;\n",
              "      border-radius: 50%;\n",
              "      cursor: pointer;\n",
              "      display: none;\n",
              "      fill: #1967D2;\n",
              "      height: 32px;\n",
              "      padding: 0 0 0 0;\n",
              "      width: 32px;\n",
              "    }\n",
              "\n",
              "    .colab-df-convert:hover {\n",
              "      background-color: #E2EBFA;\n",
              "      box-shadow: 0px 1px 2px rgba(60, 64, 67, 0.3), 0px 1px 3px 1px rgba(60, 64, 67, 0.15);\n",
              "      fill: #174EA6;\n",
              "    }\n",
              "\n",
              "    .colab-df-buttons div {\n",
              "      margin-bottom: 4px;\n",
              "    }\n",
              "\n",
              "    [theme=dark] .colab-df-convert {\n",
              "      background-color: #3B4455;\n",
              "      fill: #D2E3FC;\n",
              "    }\n",
              "\n",
              "    [theme=dark] .colab-df-convert:hover {\n",
              "      background-color: #434B5C;\n",
              "      box-shadow: 0px 1px 3px 1px rgba(0, 0, 0, 0.15);\n",
              "      filter: drop-shadow(0px 1px 2px rgba(0, 0, 0, 0.3));\n",
              "      fill: #FFFFFF;\n",
              "    }\n",
              "  </style>\n",
              "\n",
              "    <script>\n",
              "      const buttonEl =\n",
              "        document.querySelector('#df-53ae598c-0c54-402f-a417-dabdb5ed0d58 button.colab-df-convert');\n",
              "      buttonEl.style.display =\n",
              "        google.colab.kernel.accessAllowed ? 'block' : 'none';\n",
              "\n",
              "      async function convertToInteractive(key) {\n",
              "        const element = document.querySelector('#df-53ae598c-0c54-402f-a417-dabdb5ed0d58');\n",
              "        const dataTable =\n",
              "          await google.colab.kernel.invokeFunction('convertToInteractive',\n",
              "                                                    [key], {});\n",
              "        if (!dataTable) return;\n",
              "\n",
              "        const docLinkHtml = 'Like what you see? Visit the ' +\n",
              "          '<a target=\"_blank\" href=https://colab.research.google.com/notebooks/data_table.ipynb>data table notebook</a>'\n",
              "          + ' to learn more about interactive tables.';\n",
              "        element.innerHTML = '';\n",
              "        dataTable['output_type'] = 'display_data';\n",
              "        await google.colab.output.renderOutput(dataTable, element);\n",
              "        const docLink = document.createElement('div');\n",
              "        docLink.innerHTML = docLinkHtml;\n",
              "        element.appendChild(docLink);\n",
              "      }\n",
              "    </script>\n",
              "  </div>\n",
              "\n",
              "\n",
              "<div id=\"df-15e74658-d4cf-4cb5-ba88-db512087b962\">\n",
              "  <button class=\"colab-df-quickchart\" onclick=\"quickchart('df-15e74658-d4cf-4cb5-ba88-db512087b962')\"\n",
              "            title=\"Suggest charts\"\n",
              "            style=\"display:none;\">\n",
              "\n",
              "<svg xmlns=\"http://www.w3.org/2000/svg\" height=\"24px\"viewBox=\"0 0 24 24\"\n",
              "     width=\"24px\">\n",
              "    <g>\n",
              "        <path d=\"M19 3H5c-1.1 0-2 .9-2 2v14c0 1.1.9 2 2 2h14c1.1 0 2-.9 2-2V5c0-1.1-.9-2-2-2zM9 17H7v-7h2v7zm4 0h-2V7h2v10zm4 0h-2v-4h2v4z\"/>\n",
              "    </g>\n",
              "</svg>\n",
              "  </button>\n",
              "\n",
              "<style>\n",
              "  .colab-df-quickchart {\n",
              "      --bg-color: #E8F0FE;\n",
              "      --fill-color: #1967D2;\n",
              "      --hover-bg-color: #E2EBFA;\n",
              "      --hover-fill-color: #174EA6;\n",
              "      --disabled-fill-color: #AAA;\n",
              "      --disabled-bg-color: #DDD;\n",
              "  }\n",
              "\n",
              "  [theme=dark] .colab-df-quickchart {\n",
              "      --bg-color: #3B4455;\n",
              "      --fill-color: #D2E3FC;\n",
              "      --hover-bg-color: #434B5C;\n",
              "      --hover-fill-color: #FFFFFF;\n",
              "      --disabled-bg-color: #3B4455;\n",
              "      --disabled-fill-color: #666;\n",
              "  }\n",
              "\n",
              "  .colab-df-quickchart {\n",
              "    background-color: var(--bg-color);\n",
              "    border: none;\n",
              "    border-radius: 50%;\n",
              "    cursor: pointer;\n",
              "    display: none;\n",
              "    fill: var(--fill-color);\n",
              "    height: 32px;\n",
              "    padding: 0;\n",
              "    width: 32px;\n",
              "  }\n",
              "\n",
              "  .colab-df-quickchart:hover {\n",
              "    background-color: var(--hover-bg-color);\n",
              "    box-shadow: 0 1px 2px rgba(60, 64, 67, 0.3), 0 1px 3px 1px rgba(60, 64, 67, 0.15);\n",
              "    fill: var(--button-hover-fill-color);\n",
              "  }\n",
              "\n",
              "  .colab-df-quickchart-complete:disabled,\n",
              "  .colab-df-quickchart-complete:disabled:hover {\n",
              "    background-color: var(--disabled-bg-color);\n",
              "    fill: var(--disabled-fill-color);\n",
              "    box-shadow: none;\n",
              "  }\n",
              "\n",
              "  .colab-df-spinner {\n",
              "    border: 2px solid var(--fill-color);\n",
              "    border-color: transparent;\n",
              "    border-bottom-color: var(--fill-color);\n",
              "    animation:\n",
              "      spin 1s steps(1) infinite;\n",
              "  }\n",
              "\n",
              "  @keyframes spin {\n",
              "    0% {\n",
              "      border-color: transparent;\n",
              "      border-bottom-color: var(--fill-color);\n",
              "      border-left-color: var(--fill-color);\n",
              "    }\n",
              "    20% {\n",
              "      border-color: transparent;\n",
              "      border-left-color: var(--fill-color);\n",
              "      border-top-color: var(--fill-color);\n",
              "    }\n",
              "    30% {\n",
              "      border-color: transparent;\n",
              "      border-left-color: var(--fill-color);\n",
              "      border-top-color: var(--fill-color);\n",
              "      border-right-color: var(--fill-color);\n",
              "    }\n",
              "    40% {\n",
              "      border-color: transparent;\n",
              "      border-right-color: var(--fill-color);\n",
              "      border-top-color: var(--fill-color);\n",
              "    }\n",
              "    60% {\n",
              "      border-color: transparent;\n",
              "      border-right-color: var(--fill-color);\n",
              "    }\n",
              "    80% {\n",
              "      border-color: transparent;\n",
              "      border-right-color: var(--fill-color);\n",
              "      border-bottom-color: var(--fill-color);\n",
              "    }\n",
              "    90% {\n",
              "      border-color: transparent;\n",
              "      border-bottom-color: var(--fill-color);\n",
              "    }\n",
              "  }\n",
              "</style>\n",
              "\n",
              "  <script>\n",
              "    async function quickchart(key) {\n",
              "      const quickchartButtonEl =\n",
              "        document.querySelector('#' + key + ' button');\n",
              "      quickchartButtonEl.disabled = true;  // To prevent multiple clicks.\n",
              "      quickchartButtonEl.classList.add('colab-df-spinner');\n",
              "      try {\n",
              "        const charts = await google.colab.kernel.invokeFunction(\n",
              "            'suggestCharts', [key], {});\n",
              "      } catch (error) {\n",
              "        console.error('Error during call to suggestCharts:', error);\n",
              "      }\n",
              "      quickchartButtonEl.classList.remove('colab-df-spinner');\n",
              "      quickchartButtonEl.classList.add('colab-df-quickchart-complete');\n",
              "    }\n",
              "    (() => {\n",
              "      let quickchartButtonEl =\n",
              "        document.querySelector('#df-15e74658-d4cf-4cb5-ba88-db512087b962 button');\n",
              "      quickchartButtonEl.style.display =\n",
              "        google.colab.kernel.accessAllowed ? 'block' : 'none';\n",
              "    })();\n",
              "  </script>\n",
              "</div>\n",
              "\n",
              "    </div>\n",
              "  </div>\n"
            ],
            "application/vnd.google.colaboratory.intrinsic+json": {
              "type": "dataframe",
              "variable_name": "df",
              "summary": "{\n  \"name\": \"df\",\n  \"rows\": 607,\n  \"fields\": [\n    {\n      \"column\": \"Unnamed: 0\",\n      \"properties\": {\n        \"dtype\": \"number\",\n        \"std\": 175,\n        \"min\": 0,\n        \"max\": 606,\n        \"num_unique_values\": 607,\n        \"samples\": [\n          563,\n          289,\n          76\n        ],\n        \"semantic_type\": \"\",\n        \"description\": \"\"\n      }\n    },\n    {\n      \"column\": \"work_year\",\n      \"properties\": {\n        \"dtype\": \"number\",\n        \"std\": 0,\n        \"min\": 2020,\n        \"max\": 2022,\n        \"num_unique_values\": 3,\n        \"samples\": [\n          2020,\n          2021,\n          2022\n        ],\n        \"semantic_type\": \"\",\n        \"description\": \"\"\n      }\n    },\n    {\n      \"column\": \"experience_level\",\n      \"properties\": {\n        \"dtype\": \"category\",\n        \"num_unique_values\": 4,\n        \"samples\": [\n          \"SE\",\n          \"EX\",\n          \"MI\"\n        ],\n        \"semantic_type\": \"\",\n        \"description\": \"\"\n      }\n    },\n    {\n      \"column\": \"employment_type\",\n      \"properties\": {\n        \"dtype\": \"category\",\n        \"num_unique_values\": 4,\n        \"samples\": [\n          \"CT\",\n          \"FL\",\n          \"FT\"\n        ],\n        \"semantic_type\": \"\",\n        \"description\": \"\"\n      }\n    },\n    {\n      \"column\": \"job_title\",\n      \"properties\": {\n        \"dtype\": \"category\",\n        \"num_unique_values\": 50,\n        \"samples\": [\n          \"Director of Data Science\",\n          \"Data Architect\",\n          \"Computer Vision Software Engineer\"\n        ],\n        \"semantic_type\": \"\",\n        \"description\": \"\"\n      }\n    },\n    {\n      \"column\": \"salary\",\n      \"properties\": {\n        \"dtype\": \"number\",\n        \"std\": 1544357,\n        \"min\": 4000,\n        \"max\": 30400000,\n        \"num_unique_values\": 272,\n        \"samples\": [\n          65000,\n          18000,\n          82500\n        ],\n        \"semantic_type\": \"\",\n        \"description\": \"\"\n      }\n    },\n    {\n      \"column\": \"salary_currency\",\n      \"properties\": {\n        \"dtype\": \"category\",\n        \"num_unique_values\": 17,\n        \"samples\": [\n          \"EUR\",\n          \"USD\",\n          \"JPY\"\n        ],\n        \"semantic_type\": \"\",\n        \"description\": \"\"\n      }\n    },\n    {\n      \"column\": \"salary_in_usd\",\n      \"properties\": {\n        \"dtype\": \"number\",\n        \"std\": 70957,\n        \"min\": 2859,\n        \"max\": 600000,\n        \"num_unique_values\": 369,\n        \"samples\": [\n          64849,\n          450000,\n          8000\n        ],\n        \"semantic_type\": \"\",\n        \"description\": \"\"\n      }\n    },\n    {\n      \"column\": \"employee_residence\",\n      \"properties\": {\n        \"dtype\": \"category\",\n        \"num_unique_values\": 57,\n        \"samples\": [\n          \"DE\",\n          \"HU\",\n          \"VN\"\n        ],\n        \"semantic_type\": \"\",\n        \"description\": \"\"\n      }\n    },\n    {\n      \"column\": \"remote_ratio\",\n      \"properties\": {\n        \"dtype\": \"number\",\n        \"std\": 40,\n        \"min\": 0,\n        \"max\": 100,\n        \"num_unique_values\": 3,\n        \"samples\": [\n          0,\n          50,\n          100\n        ],\n        \"semantic_type\": \"\",\n        \"description\": \"\"\n      }\n    },\n    {\n      \"column\": \"company_location\",\n      \"properties\": {\n        \"dtype\": \"category\",\n        \"num_unique_values\": 50,\n        \"samples\": [\n          \"NL\",\n          \"SI\",\n          \"UA\"\n        ],\n        \"semantic_type\": \"\",\n        \"description\": \"\"\n      }\n    },\n    {\n      \"column\": \"company_size\",\n      \"properties\": {\n        \"dtype\": \"category\",\n        \"num_unique_values\": 3,\n        \"samples\": [\n          \"L\",\n          \"S\",\n          \"M\"\n        ],\n        \"semantic_type\": \"\",\n        \"description\": \"\"\n      }\n    }\n  ]\n}"
            }
          },
          "metadata": {},
          "execution_count": 3
        }
      ],
      "source": [
        "# Displaying the first few rows of the DataFrame\n",
        "df.head()"
      ]
    },
    {
      "cell_type": "code",
      "execution_count": null,
      "id": "cd09dbbb",
      "metadata": {
        "id": "cd09dbbb"
      },
      "outputs": [],
      "source": [
        "# Displaying information about the DataFrame, including data types and non-null counts\n",
        "df.info()"
      ]
    },
    {
      "cell_type": "code",
      "execution_count": null,
      "id": "fd83ac86",
      "metadata": {
        "scrolled": true,
        "id": "fd83ac86"
      },
      "outputs": [],
      "source": [
        "# Displaying the column names in the DataFrame\n",
        "df.columns"
      ]
    },
    {
      "cell_type": "code",
      "execution_count": null,
      "id": "6fd164e8",
      "metadata": {
        "scrolled": false,
        "id": "6fd164e8"
      },
      "outputs": [],
      "source": [
        "# Checking the count of missing values in each column\n",
        "df.isna().sum()"
      ]
    },
    {
      "cell_type": "code",
      "execution_count": null,
      "id": "281f5717",
      "metadata": {
        "id": "281f5717"
      },
      "outputs": [],
      "source": [
        "# Unique values in the 'work_year' column\n",
        "df.work_year.unique()"
      ]
    },
    {
      "cell_type": "code",
      "execution_count": null,
      "id": "aed06815",
      "metadata": {
        "id": "aed06815"
      },
      "outputs": [],
      "source": [
        "# Unique values in the 'experience_level' column\n",
        "df.experience_level.unique()"
      ]
    },
    {
      "cell_type": "markdown",
      "id": "0be9b27f",
      "metadata": {
        "id": "0be9b27f"
      },
      "source": [
        "### Subsetting Data:\n",
        "1. Selecting Specific Columns:\n",
        "\n",
        "Method: df[['column1', 'column2']] or df.loc[:, ['column1', 'column2']]\n",
        "Example:"
      ]
    },
    {
      "cell_type": "code",
      "execution_count": null,
      "id": "8c687372",
      "metadata": {
        "id": "8c687372"
      },
      "outputs": [],
      "source": [
        "# 1. Selecting specific columns: 'work_year', 'job_title', 'salary'\n",
        "selected_columns = df[['work_year', 'job_title', 'salary']]"
      ]
    },
    {
      "cell_type": "code",
      "execution_count": null,
      "id": "d17382ae",
      "metadata": {
        "id": "d17382ae"
      },
      "outputs": [],
      "source": [
        "selected_columns"
      ]
    },
    {
      "cell_type": "markdown",
      "id": "81177930",
      "metadata": {
        "id": "81177930"
      },
      "source": [
        "Difference between a series and a dataframe"
      ]
    },
    {
      "cell_type": "code",
      "execution_count": null,
      "id": "ecea197a",
      "metadata": {
        "id": "ecea197a"
      },
      "outputs": [],
      "source": [
        "# Difference between a series and a dataframe\n",
        "# (Note: A DataFrame is a 2D table, while a Series is a 1D labeled array.)"
      ]
    },
    {
      "cell_type": "markdown",
      "id": "8184438f",
      "metadata": {
        "id": "8184438f"
      },
      "source": [
        "2. Selecting Rows Based on Conditions:\n",
        "\n",
        "Method: Boolean indexing\n",
        "Example:"
      ]
    },
    {
      "cell_type": "code",
      "execution_count": null,
      "id": "9e5ce5e7",
      "metadata": {
        "id": "9e5ce5e7"
      },
      "outputs": [],
      "source": [
        "# 2. Selecting rows based on conditions (e.g., high salary jobs)\n",
        "high_salary_jobs = df[df['salary_in_usd'] > 80000]"
      ]
    },
    {
      "cell_type": "code",
      "execution_count": null,
      "id": "f6d223eb",
      "metadata": {
        "id": "f6d223eb"
      },
      "outputs": [],
      "source": [
        "high_salary_jobs"
      ]
    },
    {
      "cell_type": "markdown",
      "id": "a11593ae",
      "metadata": {
        "id": "a11593ae"
      },
      "source": [
        "### Filtering Data:\n",
        "1. Filtering Rows Based on Multiple Conditions:\n",
        "\n",
        "Method: Use logical operators (&, |, ~)\n",
        "Example:"
      ]
    },
    {
      "cell_type": "code",
      "execution_count": null,
      "id": "199cf764",
      "metadata": {
        "id": "199cf764"
      },
      "outputs": [],
      "source": [
        "# (e.g., Senior-level jobs with salary > 80000)\n",
        "filtered_data = df[(df['experience_level'] == 'Senior') & (df['salary_in_usd'] > 80000)]"
      ]
    },
    {
      "cell_type": "code",
      "execution_count": null,
      "id": "55cce1e2",
      "metadata": {
        "id": "55cce1e2"
      },
      "outputs": [],
      "source": [
        "filtered_data"
      ]
    },
    {
      "cell_type": "markdown",
      "id": "d04241ed",
      "metadata": {
        "id": "d04241ed"
      },
      "source": [
        "2. Filtering Rows Based on String Matching:\n",
        "\n",
        "Method: str.contains()\n",
        "Example:"
      ]
    },
    {
      "cell_type": "code",
      "execution_count": null,
      "id": "4f733503",
      "metadata": {
        "id": "4f733503"
      },
      "outputs": [],
      "source": [
        "# (e.g., jobs with 'Remote' in employment type)\n",
        "remote_jobs = df[df['employment_type'].str.contains('Remote', case=False, na=False)]"
      ]
    },
    {
      "cell_type": "markdown",
      "id": "1b4b109e",
      "metadata": {
        "id": "1b4b109e"
      },
      "source": [
        "### Grouping Data:\n",
        "1. Grouping by Categorical Variable:\n",
        "\n",
        "Method: groupby()\n",
        "Example:"
      ]
    },
    {
      "cell_type": "code",
      "execution_count": null,
      "id": "175aa4a7",
      "metadata": {
        "id": "175aa4a7"
      },
      "outputs": [],
      "source": [
        "#  (e.g., experience_level)\n",
        "average_salary_by_level = df.groupby('experience_level')['salary_in_usd'].mean()"
      ]
    },
    {
      "cell_type": "markdown",
      "id": "c6b1be6a",
      "metadata": {
        "id": "c6b1be6a"
      },
      "source": [
        "2. Aggregating Data within Groups:\n",
        "\n",
        "Method: groupby() with aggregation functions\n",
        "Example:"
      ]
    },
    {
      "cell_type": "code",
      "execution_count": null,
      "id": "a7a750c7",
      "metadata": {
        "id": "a7a750c7"
      },
      "outputs": [],
      "source": [
        "stats_by_job = df.groupby('job_title').agg({'salary_in_usd': ['mean', 'median'], 'work_year': 'count'})"
      ]
    },
    {
      "cell_type": "code",
      "execution_count": null,
      "id": "aafe2804",
      "metadata": {
        "scrolled": true,
        "id": "aafe2804"
      },
      "outputs": [],
      "source": [
        "stats_by_job.sort_values(('salary_in_usd', 'mean'), ascending=False)"
      ]
    },
    {
      "cell_type": "markdown",
      "id": "d66f270f",
      "metadata": {
        "id": "d66f270f"
      },
      "source": [
        "- Mean Salary by Job Title:\n",
        "    The mean salary for each job title gives you an overall idea of the average compensation associated with each position.\n",
        "    \n",
        "- Median Salary by Job Title:\n",
        "    The median salary provides a measure of central tendency that is less affected by outliers. It can be valuable to understand the typical salary distribution within each job title.\n",
        "    \n",
        "- Number of Employees (Work Years) by Job Title:\n",
        "    The count of work years gives insight into how many employees are associated with each job title. This can be crucial for understanding the workforce distribution.\n",
        "    \n",
        "- Comparison of Mean and Median:\n",
        "    The comparison between mean and median salaries can indicate the presence of salary outliers within specific job titles. A significant difference between mean and median might suggest skewed salary distributions.\n",
        "    \n",
        "- Identifying High and Low-Paying Job Titles:\n",
        "    Job titles with a higher mean or median salary might be considered higher-paying positions, while those with lower values could be lower-paying roles.\n",
        "    \n",
        "- Variability in Salaries:\n",
        "    The spread between mean and median, as well as the distribution of work years, can provide insights into the variability of salaries across different job titles.\n",
        "    \n",
        "- Identifying Anomalies or Outliers:\n",
        "    Extreme values in mean or median salaries may indicate anomalies or outliers that could be explored further."
      ]
    },
    {
      "cell_type": "markdown",
      "id": "d1719822",
      "metadata": {
        "id": "d1719822"
      },
      "source": [
        "Make the categories in experience level and employment type columns more spelt out, eg MI = mid level/ intermediate."
      ]
    },
    {
      "cell_type": "code",
      "execution_count": null,
      "id": "0babb23d",
      "metadata": {
        "id": "0babb23d"
      },
      "outputs": [],
      "source": [
        "# Updating categories in 'experience_level' column\n",
        "df['experience_level'] = df['experience_level'].replace('EN','Entry-level/Junior')\n",
        "df['experience_level'] = df['experience_level'].replace('MI','Mid-level/Intermediate')\n",
        "df['experience_level'] = df['experience_level'].replace('SE','Senior-level/Expert')\n",
        "df['experience_level'] = df['experience_level'].replace('EX','Executive-level/Director')"
      ]
    },
    {
      "cell_type": "code",
      "execution_count": null,
      "id": "d13de0d6",
      "metadata": {
        "id": "d13de0d6"
      },
      "outputs": [],
      "source": [
        "# Or Mapping old names to new names for the 'Category' column\n",
        "category_mapping = {'EN': 'Entry-level/Junior', 'MI': 'Mid-level/Intermediate', 'SE': 'Senior-level/Expert'}\n",
        "df['experience_level'] = df['experience_level'].map(category_mapping)"
      ]
    },
    {
      "cell_type": "code",
      "execution_count": 4,
      "id": "43bc737a",
      "metadata": {
        "id": "43bc737a",
        "outputId": "fc979246-8716-4609-b5cd-04b080847072",
        "colab": {
          "base_uri": "https://localhost:8080/"
        }
      },
      "outputs": [
        {
          "output_type": "execute_result",
          "data": {
            "text/plain": [
              "array([  0,  50, 100])"
            ]
          },
          "metadata": {},
          "execution_count": 4
        }
      ],
      "source": [
        "# Checking unique values and their counts in 'remote_ratio' column\n",
        "df.remote_ratio.unique()"
      ]
    },
    {
      "cell_type": "code",
      "execution_count": 5,
      "id": "b1aa6a46",
      "metadata": {
        "id": "b1aa6a46",
        "outputId": "6df14c15-4435-4b98-e99b-e66646117566",
        "colab": {
          "base_uri": "https://localhost:8080/",
          "height": 210
        }
      },
      "outputs": [
        {
          "output_type": "execute_result",
          "data": {
            "text/plain": [
              "remote_ratio\n",
              "100    381\n",
              "0      127\n",
              "50      99\n",
              "Name: count, dtype: int64"
            ],
            "text/html": [
              "<div>\n",
              "<style scoped>\n",
              "    .dataframe tbody tr th:only-of-type {\n",
              "        vertical-align: middle;\n",
              "    }\n",
              "\n",
              "    .dataframe tbody tr th {\n",
              "        vertical-align: top;\n",
              "    }\n",
              "\n",
              "    .dataframe thead th {\n",
              "        text-align: right;\n",
              "    }\n",
              "</style>\n",
              "<table border=\"1\" class=\"dataframe\">\n",
              "  <thead>\n",
              "    <tr style=\"text-align: right;\">\n",
              "      <th></th>\n",
              "      <th>count</th>\n",
              "    </tr>\n",
              "    <tr>\n",
              "      <th>remote_ratio</th>\n",
              "      <th></th>\n",
              "    </tr>\n",
              "  </thead>\n",
              "  <tbody>\n",
              "    <tr>\n",
              "      <th>100</th>\n",
              "      <td>381</td>\n",
              "    </tr>\n",
              "    <tr>\n",
              "      <th>0</th>\n",
              "      <td>127</td>\n",
              "    </tr>\n",
              "    <tr>\n",
              "      <th>50</th>\n",
              "      <td>99</td>\n",
              "    </tr>\n",
              "  </tbody>\n",
              "</table>\n",
              "</div><br><label><b>dtype:</b> int64</label>"
            ]
          },
          "metadata": {},
          "execution_count": 5
        }
      ],
      "source": [
        "df.remote_ratio.value_counts()"
      ]
    },
    {
      "cell_type": "code",
      "execution_count": null,
      "id": "5d12aaf4",
      "metadata": {
        "id": "5d12aaf4"
      },
      "outputs": [],
      "source": [
        "df.employment_type.unique()"
      ]
    },
    {
      "cell_type": "code",
      "execution_count": null,
      "id": "7f08a031",
      "metadata": {
        "id": "7f08a031"
      },
      "outputs": [],
      "source": [
        "df.employment_type.value_counts()"
      ]
    },
    {
      "cell_type": "markdown",
      "id": "2ed05c90",
      "metadata": {
        "id": "2ed05c90"
      },
      "source": [
        "TASK\n",
        "\n",
        "- change the variables in the employment type column:\n",
        "    - 'FT' - 'Full time',\n",
        "    - 'CT'-'Contract',\n",
        "    - 'PT'-'Part Time',\n",
        "    - 'FL'-'Freelance'\n",
        "- Compare the salaries of the fully remote jobs and onsite jobs. Which is greater?\n",
        "\n",
        "\n",
        "- Use the datacard of this [link](https://www.kaggle.com/datasets/abdallahwagih/telco-customer-churn) to create a datacard for this dataset"
      ]
    },
    {
      "cell_type": "markdown",
      "source": [
        "Appendix\n",
        "\n",
        "- [Principles of Data Wrangling](https://www.fintechfutures.com/files/2017/10/Trifacta_Principles-of-Data-Wrangling.pdf)"
      ],
      "metadata": {
        "id": "ygX2Ff-XpJNx"
      },
      "id": "ygX2Ff-XpJNx"
    }
  ],
  "metadata": {
    "kernelspec": {
      "display_name": "Python 3 (ipykernel)",
      "language": "python",
      "name": "python3"
    },
    "language_info": {
      "codemirror_mode": {
        "name": "ipython",
        "version": 3
      },
      "file_extension": ".py",
      "mimetype": "text/x-python",
      "name": "python",
      "nbconvert_exporter": "python",
      "pygments_lexer": "ipython3",
      "version": "3.11.4"
    },
    "colab": {
      "provenance": []
    }
  },
  "nbformat": 4,
  "nbformat_minor": 5
}