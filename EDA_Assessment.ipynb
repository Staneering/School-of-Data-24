{
  "nbformat": 4,
  "nbformat_minor": 0,
  "metadata": {
    "colab": {
      "provenance": []
    },
    "kernelspec": {
      "name": "python3",
      "display_name": "Python 3"
    },
    "language_info": {
      "name": "python"
    }
  },
  "cells": [
    {
      "cell_type": "code",
      "execution_count": null,
      "metadata": {
        "id": "A0VKYrd1Ko5r"
      },
      "outputs": [],
      "source": []
    },
    {
      "cell_type": "markdown",
      "source": [
        "## (EDA Fundamentals) Univariate and Multivariate Analysis Assessment"
      ],
      "metadata": {
        "id": "-JMRnlD3Krk5"
      }
    },
    {
      "cell_type": "markdown",
      "source": [
        "## FIFA Player Analysis: A Deep Dive into Player Attributes and Performance\n",
        "\n",
        "### Univariate Analysis:\n",
        "\n",
        "1. **Distribution of Player Ages:**\n",
        "   * What is the age distribution of players in the dataset?\n",
        "   * Are there any outliers or unusual age ranges?\n",
        "\n",
        "2. **Distribution of Player Overall Ratings:**\n",
        "   * How are player overall ratings distributed?\n",
        "   * Are there any significant clusters or gaps in the distribution?\n",
        "\n",
        "3. **Distribution of Player Wages:**\n",
        "   * What is the distribution of player wages?\n",
        "   * Are there any extreme outliers or unusual wage ranges?\n",
        "\n",
        "### Multivariate Analysis:\n",
        "\n",
        "1. **Correlation between Player Attributes:**\n",
        "   * How does a player's age correlate with their overall rating?\n",
        "   * Is there a correlation between a player's skill moves and their potential rating?\n",
        "   * How does a player's wage correlate with their market value?\n",
        "\n",
        "2. **Player Performance by Position:**\n",
        "   * How do the average overall ratings, potential ratings, and wages vary across different positions?\n",
        "   * Are there any positions that consistently have higher-rated or higher-paid players?\n",
        "\n",
        "3. **Player Performance by Nationality:**\n",
        "   * How do the average overall ratings, potential ratings, and wages vary across different nationalities?\n",
        "   * Are there any nationalities that consistently produce top-tier players?\n",
        "\n",
        "### Visual Analysis:\n",
        "\n",
        "1. **Histogram of Player Ages:**\n",
        "   * Visualize the distribution of player ages to identify trends and outliers.\n",
        "\n",
        "2. **Box Plot of Player Overall Ratings by Position:**\n",
        "   * Compare the distribution of overall ratings for different positions.\n",
        "\n",
        "3. **Scatter Plot of Wage vs. Market Value:**\n",
        "   * Visualize the relationship between a player's wage and their market value.\n",
        "\n",
        "4. **Bar Chart of Player Count by Nationality:**\n",
        "   * Visualize the distribution of players by nationality."
      ],
      "metadata": {
        "id": "y6rYO-qSKqGS"
      }
    }
  ]
}