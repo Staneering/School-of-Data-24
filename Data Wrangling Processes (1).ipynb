{
 "cells": [
  {
   "cell_type": "markdown",
   "id": "273978b4",
   "metadata": {},
   "source": [
    "- Subseting and Sorting Data\n",
    "- Grouping Data\n",
    "- Data Types\n",
    "- Handling Missing Data\n",
    "- Duplicates\n",
    "- Outliers"
   ]
  },
  {
   "cell_type": "code",
   "execution_count": null,
   "id": "2f180e34",
   "metadata": {},
   "outputs": [],
   "source": [
    "# loading the package\n",
    "import pandas as pd"
   ]
  },
  {
   "cell_type": "code",
   "execution_count": null,
   "id": "ca07bbf9",
   "metadata": {},
   "outputs": [],
   "source": [
    "file = r\"C:\\Users\\Gideon\\Downloads\\afcon-2023-final-squads-list.csv\""
   ]
  },
  {
   "cell_type": "code",
   "execution_count": null,
   "id": "8bf3f47b",
   "metadata": {},
   "outputs": [],
   "source": [
    "# load the data\n",
    "df = pd.read_csv(file)"
   ]
  },
  {
   "cell_type": "code",
   "execution_count": null,
   "id": "0485cd85",
   "metadata": {},
   "outputs": [],
   "source": [
    "df.head(30)"
   ]
  },
  {
   "cell_type": "markdown",
   "id": "0986b510",
   "metadata": {},
   "source": [
    "- Subseting and Sorting Data"
   ]
  },
  {
   "cell_type": "code",
   "execution_count": null,
   "id": "ea9e87f6",
   "metadata": {
    "scrolled": true
   },
   "outputs": [],
   "source": [
    "# take a part of the dataframe: rows, columns\n",
    "# iloc, loc, dot, square brackets\n",
    "\n",
    "# df.iloc[rows, columns]\n",
    "df.iloc[0:27, :]"
   ]
  },
  {
   "cell_type": "code",
   "execution_count": null,
   "id": "061a99da",
   "metadata": {},
   "outputs": [],
   "source": [
    "df.iloc[0:27, [1, 4, 5]]"
   ]
  },
  {
   "cell_type": "code",
   "execution_count": null,
   "id": "706a5aaa",
   "metadata": {},
   "outputs": [],
   "source": [
    "df.loc[0:27, ['team', 'club_country']]"
   ]
  },
  {
   "cell_type": "code",
   "execution_count": null,
   "id": "373b2465",
   "metadata": {
    "scrolled": true
   },
   "outputs": [],
   "source": [
    "print(df.shape)\n",
    "df.info()"
   ]
  },
  {
   "cell_type": "code",
   "execution_count": null,
   "id": "3b862203",
   "metadata": {},
   "outputs": [],
   "source": [
    "df.describe(include='all')"
   ]
  },
  {
   "cell_type": "code",
   "execution_count": null,
   "id": "4a9da06d",
   "metadata": {
    "scrolled": true
   },
   "outputs": [],
   "source": [
    "from datetime import datetime\n",
    "df['birthdate'] = pd.to_datetime(df['birthdate'], errors='coerce') #format=\"%Y-%m.%d\")#1994-07-25\n",
    "\n",
    "df['age'] = (datetime.now() - df['birthdate']).dt.days//365"
   ]
  },
  {
   "cell_type": "code",
   "execution_count": null,
   "id": "d20b9af8",
   "metadata": {
    "scrolled": true
   },
   "outputs": [],
   "source": [
    "df.head()"
   ]
  },
  {
   "cell_type": "code",
   "execution_count": null,
   "id": "9447c792",
   "metadata": {},
   "outputs": [],
   "source": [
    "# count number of defenders\n",
    "df[df.position == 'DF']"
   ]
  },
  {
   "cell_type": "markdown",
   "id": "b113d86a",
   "metadata": {},
   "source": [
    "- Grouping Data"
   ]
  },
  {
   "cell_type": "code",
   "execution_count": null,
   "id": "4cd6845f",
   "metadata": {},
   "outputs": [],
   "source": [
    "# Aggregate Data, Apply Functions, Data Exploration\n",
    "# groupby"
   ]
  },
  {
   "cell_type": "code",
   "execution_count": null,
   "id": "f4b4d55f",
   "metadata": {
    "scrolled": false
   },
   "outputs": [],
   "source": [
    "df.groupby('team')['age'].max().sort_values(ascending = False)"
   ]
  },
  {
   "cell_type": "code",
   "execution_count": null,
   "id": "12feadac",
   "metadata": {},
   "outputs": [],
   "source": [
    "df.groupby('team')['age'].min().sort_values(ascending = True)"
   ]
  },
  {
   "cell_type": "code",
   "execution_count": null,
   "id": "40c90aee",
   "metadata": {
    "scrolled": true
   },
   "outputs": [],
   "source": [
    "df[df.age == 40]"
   ]
  },
  {
   "cell_type": "code",
   "execution_count": null,
   "id": "9a50bde9",
   "metadata": {
    "scrolled": true
   },
   "outputs": [],
   "source": [
    "df.age.min()"
   ]
  },
  {
   "cell_type": "code",
   "execution_count": null,
   "id": "6e5b3a42",
   "metadata": {},
   "outputs": [],
   "source": [
    "df[df.age == df.age.min()]"
   ]
  },
  {
   "cell_type": "markdown",
   "id": "9cb1ff80",
   "metadata": {},
   "source": [
    "- Data Types"
   ]
  },
  {
   "cell_type": "code",
   "execution_count": null,
   "id": "e3b1e56e",
   "metadata": {},
   "outputs": [],
   "source": [
    "df.info()"
   ]
  },
  {
   "cell_type": "code",
   "execution_count": null,
   "id": "ccccea04",
   "metadata": {},
   "outputs": [],
   "source": [
    "# handling missing values\n",
    "\n",
    "# isna() isnull() notnull()\n",
    "\n",
    "df.isna().sum()"
   ]
  },
  {
   "cell_type": "code",
   "execution_count": null,
   "id": "b16f639e",
   "metadata": {},
   "outputs": [],
   "source": [
    "# for those players without a club. \n",
    "df.club.fillna('Free Agents', inplace=True)"
   ]
  },
  {
   "cell_type": "markdown",
   "id": "20e8af85",
   "metadata": {},
   "source": [
    "after executing this line of code, any missing values in the 'club' column of the DataFrame df will be replaced with 'Free Agents', and the changes will be applied directly to df"
   ]
  },
  {
   "cell_type": "code",
   "execution_count": null,
   "id": "ca73f926",
   "metadata": {},
   "outputs": [],
   "source": [
    "df.isna().sum()"
   ]
  },
  {
   "cell_type": "code",
   "execution_count": null,
   "id": "2080245f",
   "metadata": {},
   "outputs": [],
   "source": [
    "df.club_country.fillna('No Clubs', inplace=True)"
   ]
  },
  {
   "cell_type": "code",
   "execution_count": null,
   "id": "3abaaa96",
   "metadata": {},
   "outputs": [],
   "source": [
    "df.isnull().sum()"
   ]
  },
  {
   "cell_type": "code",
   "execution_count": 1,
   "id": "f47b95a8",
   "metadata": {
    "scrolled": true
   },
   "outputs": [
    {
     "ename": "NameError",
     "evalue": "name 'df' is not defined",
     "output_type": "error",
     "traceback": [
      "\u001b[1;31m---------------------------------------------------------------------------\u001b[0m",
      "\u001b[1;31mNameError\u001b[0m                                 Traceback (most recent call last)",
      "Cell \u001b[1;32mIn[1], line 3\u001b[0m\n\u001b[0;32m      1\u001b[0m \u001b[38;5;66;03m# duplicate values\u001b[39;00m\n\u001b[1;32m----> 3\u001b[0m df[df\u001b[38;5;241m.\u001b[39mduplicated(subset\u001b[38;5;241m=\u001b[39m\u001b[38;5;124m'\u001b[39m\u001b[38;5;124mjersey_name\u001b[39m\u001b[38;5;124m'\u001b[39m)]\n",
      "\u001b[1;31mNameError\u001b[0m: name 'df' is not defined"
     ]
    }
   ],
   "source": [
    "# duplicate values\n",
    "\n",
    "df[df.duplicated(subset='jersey_name')]"
   ]
  },
  {
   "cell_type": "code",
   "execution_count": null,
   "id": "522dd479",
   "metadata": {},
   "outputs": [],
   "source": [
    "df[df.duplicated(subset='birthdate')]"
   ]
  },
  {
   "cell_type": "code",
   "execution_count": null,
   "id": "66dd3365",
   "metadata": {},
   "outputs": [],
   "source": [
    "df[df.birthdate == '1998-03-13']"
   ]
  },
  {
   "cell_type": "code",
   "execution_count": null,
   "id": "1e23a6ad",
   "metadata": {},
   "outputs": [],
   "source": [
    "df['club'] = df['club'].str.strip()"
   ]
  },
  {
   "cell_type": "code",
   "execution_count": null,
   "id": "5b19a1c8",
   "metadata": {
    "scrolled": true
   },
   "outputs": [],
   "source": [
    "df[df.birthdate == '1998-03-13']"
   ]
  },
  {
   "cell_type": "code",
   "execution_count": null,
   "id": "24323cd3",
   "metadata": {
    "scrolled": false
   },
   "outputs": [],
   "source": [
    "df.age.describe()"
   ]
  },
  {
   "cell_type": "markdown",
   "id": "846e1410",
   "metadata": {},
   "source": [
    "- Variance: Variance is the average of the squared differences from the Mean. It gives an idea of how much the data values differ from the mean. Mathematically, it's calculated as follows:\n",
    "\n",
    "  - Calculate the mean (average) of the dataset.\n",
    "   - Subtract the mean from each data point, square the result.\n",
    "    - Find the average of those squared differences."
   ]
  },
  {
   "cell_type": "code",
   "execution_count": null,
   "id": "80a9ed98",
   "metadata": {},
   "outputs": [],
   "source": [
    "age_list = df.age.tolist()"
   ]
  },
  {
   "cell_type": "code",
   "execution_count": null,
   "id": "55071ac6",
   "metadata": {},
   "outputs": [],
   "source": [
    "df.age.mean()"
   ]
  },
  {
   "cell_type": "code",
   "execution_count": null,
   "id": "47656a56",
   "metadata": {},
   "outputs": [],
   "source": [
    "age_list"
   ]
  },
  {
   "cell_type": "code",
   "execution_count": null,
   "id": "92941605",
   "metadata": {},
   "outputs": [],
   "source": [
    "age_no_var = [29, 29, 29, 29, 29, 29, 29, 29, 29]\n",
    "import numpy as np\n",
    "data = np.array([age_no_var])\n",
    "no_var = np.var(data)\n",
    "print(no_var)"
   ]
  },
  {
   "cell_type": "code",
   "execution_count": null,
   "id": "b59dcab6",
   "metadata": {},
   "outputs": [],
   "source": [
    "data = np.array([age_list])\n",
    "var = np.var(data)\n",
    "print(var)"
   ]
  },
  {
   "cell_type": "markdown",
   "id": "81a62016",
   "metadata": {},
   "source": [
    "- What is standard deviation?\n",
    "\n",
    "    A measure of how dispersed the data is in relation to the mean\n",
    "    - Step 1: Find the mean.\n",
    "    - Step 2: For each data point, find the square of its distance to the mean.\n",
    "    - Step 3: Sum the values from Step 2.\n",
    "    - Step 4: Divide by the number of data points.\n",
    "    - Step 5: Take the square root\n",
    "    "
   ]
  },
  {
   "cell_type": "code",
   "execution_count": null,
   "id": "409a0e76",
   "metadata": {},
   "outputs": [],
   "source": [
    "df.age.std()"
   ]
  },
  {
   "cell_type": "code",
   "execution_count": null,
   "id": "187ac13e",
   "metadata": {},
   "outputs": [],
   "source": [
    "df.age.hist(bins=10)"
   ]
  },
  {
   "cell_type": "markdown",
   "id": "1be06ad3",
   "metadata": {},
   "source": [
    "-  1 Standard Deviation from the Mean: 68 percent.\n",
    "-  2 Standard Deviations from the Mean: 95 percent.\n",
    "-  3 Standard Deviations from the Mean: 99.7 percent."
   ]
  },
  {
   "cell_type": "code",
   "execution_count": null,
   "id": "1f34ac95",
   "metadata": {},
   "outputs": [],
   "source": [
    "# outliers \n",
    "\n",
    "mean = round(df.age.mean(), 2)\n",
    "std = round(df.age.std(), 2)"
   ]
  },
  {
   "cell_type": "code",
   "execution_count": null,
   "id": "490a637c",
   "metadata": {},
   "outputs": [],
   "source": [
    "print(mean)\n",
    "print(std)"
   ]
  },
  {
   "cell_type": "code",
   "execution_count": null,
   "id": "514437b7",
   "metadata": {},
   "outputs": [],
   "source": [
    "one_std = (mean+std, mean-std)"
   ]
  },
  {
   "cell_type": "code",
   "execution_count": null,
   "id": "ae94ebb5",
   "metadata": {},
   "outputs": [],
   "source": [
    "one_std"
   ]
  },
  {
   "cell_type": "code",
   "execution_count": null,
   "id": "3ce75e43",
   "metadata": {},
   "outputs": [],
   "source": [
    "two_std = (mean+(std*2), mean-(std*2))"
   ]
  },
  {
   "cell_type": "code",
   "execution_count": null,
   "id": "bec9aaaf",
   "metadata": {},
   "outputs": [],
   "source": [
    "two_std"
   ]
  },
  {
   "cell_type": "code",
   "execution_count": null,
   "id": "5280bd1e",
   "metadata": {},
   "outputs": [],
   "source": [
    "three_std = (mean+(std*3), mean-(std*3))"
   ]
  },
  {
   "cell_type": "code",
   "execution_count": null,
   "id": "ffbd308b",
   "metadata": {},
   "outputs": [],
   "source": [
    "three_std"
   ]
  },
  {
   "cell_type": "code",
   "execution_count": null,
   "id": "a8247182",
   "metadata": {},
   "outputs": [],
   "source": [
    "def remove_outliers(df, column, threshold=3):\n",
    "    mean = df[column].mean()\n",
    "    std_dev = df[column].std()\n",
    "    \n",
    "    lower_bound = mean - threshold * std_dev #PEMDAS\n",
    "    upper_bound = mean + threshold * std_dev\n",
    "    # remove outliers\n",
    "    \n",
    "    df = df[(df[column]>= lower_bound) & (df[column]<= upper_bound)]\n",
    "    return df\n"
   ]
  },
  {
   "cell_type": "code",
   "execution_count": null,
   "id": "31de47b9",
   "metadata": {},
   "outputs": [],
   "source": [
    "df_cleaned = remove_outliers(df, 'age', 2)"
   ]
  },
  {
   "cell_type": "code",
   "execution_count": null,
   "id": "9d7b96be",
   "metadata": {},
   "outputs": [],
   "source": [
    "df_cleaned.shape"
   ]
  },
  {
   "cell_type": "code",
   "execution_count": null,
   "id": "f0e2dda3",
   "metadata": {},
   "outputs": [],
   "source": [
    "removed_rows = df[~df.index.isin(df_cleaned.index)]"
   ]
  },
  {
   "cell_type": "code",
   "execution_count": null,
   "id": "1fb01cbf",
   "metadata": {
    "scrolled": true
   },
   "outputs": [],
   "source": [
    "removed_rows"
   ]
  },
  {
   "cell_type": "code",
   "execution_count": null,
   "id": "9831f62c",
   "metadata": {},
   "outputs": [],
   "source": [
    "# Treating outliers using the IQR (interquartile range)\n",
    "import pandas as pd\n",
    "path = r\"C:\\Users\\Gideon\\Desktop\\winequality-red.csv\"\n",
    "wine_data = pd.read_csv(path)\n",
    "\n",
    "wine_data.head()"
   ]
  },
  {
   "cell_type": "code",
   "execution_count": null,
   "id": "65259762",
   "metadata": {},
   "outputs": [],
   "source": [
    "wine_data.info()"
   ]
  },
  {
   "cell_type": "code",
   "execution_count": null,
   "id": "716e9337",
   "metadata": {},
   "outputs": [],
   "source": [
    "import matplotlib.pyplot as plt\n",
    "import seaborn as sns"
   ]
  },
  {
   "cell_type": "code",
   "execution_count": null,
   "id": "7c6fa574",
   "metadata": {},
   "outputs": [],
   "source": [
    "# checking for outliers\n",
    "plt.figure(figsize= (18, 20)) # set figure size\n",
    "for i in range(len(wine_data.columns)):\n",
    "    plt.subplot(4, 3, i+1) # creates a subplot\n",
    "    sns.boxplot(x = wine_data.iloc[:, i])\n",
    "    plt.xlabel(wine_data.columns[i], size=15)"
   ]
  },
  {
   "cell_type": "code",
   "execution_count": null,
   "id": "81056949",
   "metadata": {},
   "outputs": [],
   "source": [
    "print(wine_data['sulphates'].quantile(0.25))\n",
    "print(wine_data['sulphates'].quantile(0.75))"
   ]
  },
  {
   "cell_type": "code",
   "execution_count": null,
   "id": "45dd0783",
   "metadata": {},
   "outputs": [],
   "source": [
    "wine_data['sulphates'].plot(kind='density')"
   ]
  },
  {
   "cell_type": "code",
   "execution_count": null,
   "id": "524de687",
   "metadata": {},
   "outputs": [],
   "source": [
    "def Outliers(df, col):\n",
    "    IQ1 = df[col].quantile(0.25)\n",
    "    IQ3 = df[col].quantile(0.75)\n",
    "    IQR = IQ3 - IQ1\n",
    "    \n",
    "    lower_bound = IQ1 - 1.5 * IQR\n",
    "    upper_bound = IQ3 + 1.5 * IQR\n",
    "    index = df.index[(df[col] < lower_bound) | (df[col] > upper_bound)]\n",
    "    return index"
   ]
  },
  {
   "cell_type": "code",
   "execution_count": null,
   "id": "195fbba8",
   "metadata": {},
   "outputs": [],
   "source": [
    "wine_data.index"
   ]
  },
  {
   "cell_type": "code",
   "execution_count": null,
   "id": "689ae49e",
   "metadata": {},
   "outputs": [],
   "source": [
    "wine_data.shape"
   ]
  },
  {
   "cell_type": "code",
   "execution_count": null,
   "id": "7a4d743b",
   "metadata": {
    "scrolled": true
   },
   "outputs": [],
   "source": [
    "index = []\n",
    "for i in wine_data.columns:\n",
    "    index.extend(Outliers(wine_data, i))\n",
    "index = set(index)\n",
    "#print(index)\n",
    "print(f'Total number of outliers are {len(index)}')\n",
    "\n",
    "# dropping all the outliers\n",
    "wine_data.drop(index, inplace=True, axis=0)\n",
    "wine_data.shape"
   ]
  },
  {
   "cell_type": "code",
   "execution_count": null,
   "id": "38abd8e0",
   "metadata": {},
   "outputs": [],
   "source": [
    "wine_data.columns"
   ]
  },
  {
   "cell_type": "code",
   "execution_count": null,
   "id": "2c52dc8b",
   "metadata": {},
   "outputs": [],
   "source": [
    "!pip install scipy"
   ]
  },
  {
   "cell_type": "code",
   "execution_count": null,
   "id": "7019a4f3",
   "metadata": {},
   "outputs": [],
   "source": [
    "# 3. using the z-score\n",
    "\n",
    "from scipy import stats\n",
    "z_scores = stats.zscore(wine_data['chlorides'])"
   ]
  },
  {
   "cell_type": "code",
   "execution_count": null,
   "id": "84a82472",
   "metadata": {},
   "outputs": [],
   "source": [
    "print(z_scores)"
   ]
  },
  {
   "cell_type": "code",
   "execution_count": null,
   "id": "c551feb2",
   "metadata": {},
   "outputs": [],
   "source": [
    "threshold = 0.5\n",
    "\n",
    "df_filtered = wine_data['chlorides'][(z_scores < threshold)]"
   ]
  },
  {
   "cell_type": "code",
   "execution_count": null,
   "id": "093094bb",
   "metadata": {},
   "outputs": [],
   "source": [
    "df_filtered"
   ]
  },
  {
   "cell_type": "code",
   "execution_count": null,
   "id": "8ae92f00",
   "metadata": {},
   "outputs": [],
   "source": [
    "plt.figure(figsize= (18, 20)) # set figure size\n",
    "for i in range(len(wine_data.columns)):\n",
    "    plt.subplot(4, 3, i+1) # creates a subplot\n",
    "    sns.kdeplot(x = wine_data.iloc[:, i])\n",
    "    plt.xlabel(wine_data.columns[i], size=15)"
   ]
  },
  {
   "cell_type": "code",
   "execution_count": null,
   "id": "f5d945f9",
   "metadata": {},
   "outputs": [],
   "source": []
  }
 ],
 "metadata": {
  "kernelspec": {
   "display_name": "Python 3 (ipykernel)",
   "language": "python",
   "name": "python3"
  },
  "language_info": {
   "codemirror_mode": {
    "name": "ipython",
    "version": 3
   },
   "file_extension": ".py",
   "mimetype": "text/x-python",
   "name": "python",
   "nbconvert_exporter": "python",
   "pygments_lexer": "ipython3",
   "version": "3.11.4"
  }
 },
 "nbformat": 4,
 "nbformat_minor": 5
}
